{
 "cells": [
  {
   "cell_type": "code",
   "execution_count": 145,
   "metadata": {},
   "outputs": [],
   "source": [
    "import os\n",
    "import sys\n",
    "\n",
    "curr_dir = os.getcwd()\n",
    "src_dir = os.path.join(os.path.dirname(curr_dir), \"src\")\n",
    "sql_dir = os.path.join(os.path.dirname(curr_dir), \"sql\")\n",
    "sys.path.append(src_dir)\n",
    "sys.path.append(sql_dir)"
   ]
  },
  {
   "cell_type": "code",
   "execution_count": 146,
   "metadata": {},
   "outputs": [],
   "source": [
    "import json\n",
    "import warnings\n",
    "from ast import literal_eval\n",
    "\n",
    "import matplotlib.pyplot as plt\n",
    "import pandas as pd\n",
    "import seaborn as sns\n",
    "from cleaning_helper import print_steam_links, check_na\n",
    "from db import get_db\n",
    "from settings import Path\n",
    "from sqlalchemy import text\n",
    "\n",
    "warnings.filterwarnings(\"ignore\")\n",
    "pd.set_option(\"display.max_columns\", 100)"
   ]
  },
  {
   "cell_type": "markdown",
   "metadata": {},
   "source": [
    "### Data Extraction from SQL Database"
   ]
  },
  {
   "cell_type": "code",
   "execution_count": 147,
   "metadata": {},
   "outputs": [],
   "source": [
    "def fetch_data(source: str):\n",
    "    \"\"\"\n",
    "    Fetches data from a specified source and returns it as a pandas DataFrame.\n",
    "\n",
    "    Parameters:\n",
    "    source (str): The name of the source file containing the SQL query.\n",
    "\n",
    "    Returns:\n",
    "    pandas.DataFrame: The fetched data as a DataFrame.\n",
    "\n",
    "    \"\"\"\n",
    "    db = get_db()\n",
    "\n",
    "    with open(os.path.join(sql_dir, source), \"r\") as f:\n",
    "        query = text(f.read())\n",
    "    result = db.execute(query)\n",
    "    data = result.fetchall()\n",
    "    columns = result.keys()\n",
    "    df = pd.DataFrame(data, columns=columns)\n",
    "\n",
    "    db.close()\n",
    "\n",
    "    return df\n",
    "\n",
    "steam_data = fetch_data(\"get_all_steam_data.sql\")"
   ]
  },
  {
   "cell_type": "code",
   "execution_count": 148,
   "metadata": {},
   "outputs": [
    {
     "data": {
      "text/html": [
       "<div>\n",
       "<style scoped>\n",
       "    .dataframe tbody tr th:only-of-type {\n",
       "        vertical-align: middle;\n",
       "    }\n",
       "\n",
       "    .dataframe tbody tr th {\n",
       "        vertical-align: top;\n",
       "    }\n",
       "\n",
       "    .dataframe thead th {\n",
       "        text-align: right;\n",
       "    }\n",
       "</style>\n",
       "<table border=\"1\" class=\"dataframe\">\n",
       "  <thead>\n",
       "    <tr style=\"text-align: right;\">\n",
       "      <th></th>\n",
       "      <th>type</th>\n",
       "      <th>name</th>\n",
       "      <th>appid</th>\n",
       "      <th>required_age</th>\n",
       "      <th>is_free</th>\n",
       "      <th>controller_support</th>\n",
       "      <th>dlc</th>\n",
       "      <th>detailed_description</th>\n",
       "      <th>about_the_game</th>\n",
       "      <th>short_description</th>\n",
       "      <th>supported_languages</th>\n",
       "      <th>reviews</th>\n",
       "      <th>header_image</th>\n",
       "      <th>capsule_image</th>\n",
       "      <th>website</th>\n",
       "      <th>requirements</th>\n",
       "      <th>developers</th>\n",
       "      <th>publishers</th>\n",
       "      <th>price_overview</th>\n",
       "      <th>platform</th>\n",
       "      <th>metacritic</th>\n",
       "      <th>categories</th>\n",
       "      <th>genres</th>\n",
       "      <th>recommendations</th>\n",
       "      <th>achievements</th>\n",
       "      <th>release_date</th>\n",
       "      <th>coming_soon</th>\n",
       "    </tr>\n",
       "  </thead>\n",
       "  <tbody>\n",
       "    <tr>\n",
       "      <th>0</th>\n",
       "      <td>game</td>\n",
       "      <td>Counter-Strike</td>\n",
       "      <td>10</td>\n",
       "      <td>0</td>\n",
       "      <td>0</td>\n",
       "      <td>None</td>\n",
       "      <td>[]</td>\n",
       "      <td>Play the world's number 1 online action game. ...</td>\n",
       "      <td>Play the world's number 1 online action game. ...</td>\n",
       "      <td>Play the world's number 1 online action game. ...</td>\n",
       "      <td>English\\n*\\n, French\\n*\\n, German\\n*\\n, Italia...</td>\n",
       "      <td>None</td>\n",
       "      <td>https://shared.akamai.steamstatic.com/store_it...</td>\n",
       "      <td>https://shared.akamai.steamstatic.com/store_it...</td>\n",
       "      <td></td>\n",
       "      <td>{\"minimum\": \"\\r\\n\\t\\t\\t&lt;p&gt;&lt;strong&gt;Minimum:&lt;/st...</td>\n",
       "      <td>[\"Valve\"]</td>\n",
       "      <td>[\"Valve\"]</td>\n",
       "      <td>{\"final\": 99, \"initial\": 999, \"currency\": \"USD...</td>\n",
       "      <td>{\"mac\": true, \"linux\": true, \"windows\": true}</td>\n",
       "      <td>88</td>\n",
       "      <td>[{\"id\": 1, \"description\": \"Multi-player\"}, {\"i...</td>\n",
       "      <td>[{\"id\": \"1\", \"description\": \"Action\"}]</td>\n",
       "      <td>150423</td>\n",
       "      <td>0</td>\n",
       "      <td>Nov 1, 2000</td>\n",
       "      <td>0</td>\n",
       "    </tr>\n",
       "    <tr>\n",
       "      <th>1</th>\n",
       "      <td>game</td>\n",
       "      <td>Team Fortress Classic</td>\n",
       "      <td>20</td>\n",
       "      <td>0</td>\n",
       "      <td>0</td>\n",
       "      <td>None</td>\n",
       "      <td>[]</td>\n",
       "      <td>One of the most popular online action games of...</td>\n",
       "      <td>One of the most popular online action games of...</td>\n",
       "      <td>One of the most popular online action games of...</td>\n",
       "      <td>English, French, German, Italian, Spanish - Sp...</td>\n",
       "      <td>None</td>\n",
       "      <td>https://shared.akamai.steamstatic.com/store_it...</td>\n",
       "      <td>https://shared.akamai.steamstatic.com/store_it...</td>\n",
       "      <td></td>\n",
       "      <td>{\"minimum\": \"\\r\\n\\t\\t\\t&lt;p&gt;&lt;strong&gt;Minimum:&lt;/st...</td>\n",
       "      <td>[\"Valve\"]</td>\n",
       "      <td>[\"Valve\"]</td>\n",
       "      <td>{\"final\": 74, \"initial\": 499, \"currency\": \"USD...</td>\n",
       "      <td>{\"mac\": true, \"linux\": true, \"windows\": true}</td>\n",
       "      <td>0</td>\n",
       "      <td>[{\"id\": 1, \"description\": \"Multi-player\"}, {\"i...</td>\n",
       "      <td>[{\"id\": \"1\", \"description\": \"Action\"}]</td>\n",
       "      <td>6133</td>\n",
       "      <td>0</td>\n",
       "      <td>Apr 1, 1999</td>\n",
       "      <td>0</td>\n",
       "    </tr>\n",
       "    <tr>\n",
       "      <th>2</th>\n",
       "      <td>game</td>\n",
       "      <td>Day of Defeat</td>\n",
       "      <td>30</td>\n",
       "      <td>0</td>\n",
       "      <td>0</td>\n",
       "      <td>None</td>\n",
       "      <td>[]</td>\n",
       "      <td>Enlist in an intense brand of Axis vs. Allied ...</td>\n",
       "      <td>Enlist in an intense brand of Axis vs. Allied ...</td>\n",
       "      <td>Enlist in an intense brand of Axis vs. Allied ...</td>\n",
       "      <td>English, French, German, Italian, Spanish - Spain</td>\n",
       "      <td>None</td>\n",
       "      <td>https://shared.akamai.steamstatic.com/store_it...</td>\n",
       "      <td>https://shared.akamai.steamstatic.com/store_it...</td>\n",
       "      <td>http://www.dayofdefeat.com/</td>\n",
       "      <td>{\"minimum\": \"\\r\\n\\t\\t\\t&lt;p&gt;&lt;strong&gt;Minimum:&lt;/st...</td>\n",
       "      <td>[\"Valve\"]</td>\n",
       "      <td>[\"Valve\"]</td>\n",
       "      <td>{\"final\": 74, \"initial\": 499, \"currency\": \"USD...</td>\n",
       "      <td>{\"mac\": true, \"linux\": true, \"windows\": true}</td>\n",
       "      <td>79</td>\n",
       "      <td>[{\"id\": 1, \"description\": \"Multi-player\"}, {\"i...</td>\n",
       "      <td>[{\"id\": \"1\", \"description\": \"Action\"}]</td>\n",
       "      <td>4074</td>\n",
       "      <td>0</td>\n",
       "      <td>May 1, 2003</td>\n",
       "      <td>0</td>\n",
       "    </tr>\n",
       "    <tr>\n",
       "      <th>3</th>\n",
       "      <td>game</td>\n",
       "      <td>Deathmatch Classic</td>\n",
       "      <td>40</td>\n",
       "      <td>0</td>\n",
       "      <td>0</td>\n",
       "      <td>None</td>\n",
       "      <td>[]</td>\n",
       "      <td>Enjoy fast-paced multiplayer gaming with Death...</td>\n",
       "      <td>Enjoy fast-paced multiplayer gaming with Death...</td>\n",
       "      <td>Enjoy fast-paced multiplayer gaming with Death...</td>\n",
       "      <td>English, French, German, Italian, Spanish - Sp...</td>\n",
       "      <td>None</td>\n",
       "      <td>https://shared.akamai.steamstatic.com/store_it...</td>\n",
       "      <td>https://shared.akamai.steamstatic.com/store_it...</td>\n",
       "      <td></td>\n",
       "      <td>{\"minimum\": \"\\r\\n\\t\\t\\t&lt;p&gt;&lt;strong&gt;Minimum:&lt;/st...</td>\n",
       "      <td>[\"Valve\"]</td>\n",
       "      <td>[\"Valve\"]</td>\n",
       "      <td>{\"final\": 74, \"initial\": 499, \"currency\": \"USD...</td>\n",
       "      <td>{\"mac\": true, \"linux\": true, \"windows\": true}</td>\n",
       "      <td>0</td>\n",
       "      <td>[{\"id\": 1, \"description\": \"Multi-player\"}, {\"i...</td>\n",
       "      <td>[{\"id\": \"1\", \"description\": \"Action\"}]</td>\n",
       "      <td>2149</td>\n",
       "      <td>0</td>\n",
       "      <td>Jun 1, 2001</td>\n",
       "      <td>0</td>\n",
       "    </tr>\n",
       "    <tr>\n",
       "      <th>4</th>\n",
       "      <td>game</td>\n",
       "      <td>Half-Life: Opposing Force</td>\n",
       "      <td>50</td>\n",
       "      <td>0</td>\n",
       "      <td>0</td>\n",
       "      <td>None</td>\n",
       "      <td>[]</td>\n",
       "      <td>Return to the Black Mesa Research Facility as ...</td>\n",
       "      <td>Return to the Black Mesa Research Facility as ...</td>\n",
       "      <td>Return to the Black Mesa Research Facility as ...</td>\n",
       "      <td>English, French, German, Korean</td>\n",
       "      <td>None</td>\n",
       "      <td>https://shared.akamai.steamstatic.com/store_it...</td>\n",
       "      <td>https://shared.akamai.steamstatic.com/store_it...</td>\n",
       "      <td></td>\n",
       "      <td>{\"minimum\": \"\\r\\n\\t\\t\\t&lt;p&gt;&lt;strong&gt;Minimum:&lt;/st...</td>\n",
       "      <td>[\"Gearbox Software\"]</td>\n",
       "      <td>[\"Valve\"]</td>\n",
       "      <td>{\"final\": 74, \"initial\": 499, \"currency\": \"USD...</td>\n",
       "      <td>{\"mac\": true, \"linux\": true, \"windows\": true}</td>\n",
       "      <td>0</td>\n",
       "      <td>[{\"id\": 2, \"description\": \"Single-player\"}, {\"...</td>\n",
       "      <td>[{\"id\": \"1\", \"description\": \"Action\"}]</td>\n",
       "      <td>19244</td>\n",
       "      <td>0</td>\n",
       "      <td>Nov 1, 1999</td>\n",
       "      <td>0</td>\n",
       "    </tr>\n",
       "  </tbody>\n",
       "</table>\n",
       "</div>"
      ],
      "text/plain": [
       "   type                       name  appid  required_age  is_free  \\\n",
       "0  game             Counter-Strike     10             0        0   \n",
       "1  game      Team Fortress Classic     20             0        0   \n",
       "2  game              Day of Defeat     30             0        0   \n",
       "3  game         Deathmatch Classic     40             0        0   \n",
       "4  game  Half-Life: Opposing Force     50             0        0   \n",
       "\n",
       "  controller_support dlc                               detailed_description  \\\n",
       "0               None  []  Play the world's number 1 online action game. ...   \n",
       "1               None  []  One of the most popular online action games of...   \n",
       "2               None  []  Enlist in an intense brand of Axis vs. Allied ...   \n",
       "3               None  []  Enjoy fast-paced multiplayer gaming with Death...   \n",
       "4               None  []  Return to the Black Mesa Research Facility as ...   \n",
       "\n",
       "                                      about_the_game  \\\n",
       "0  Play the world's number 1 online action game. ...   \n",
       "1  One of the most popular online action games of...   \n",
       "2  Enlist in an intense brand of Axis vs. Allied ...   \n",
       "3  Enjoy fast-paced multiplayer gaming with Death...   \n",
       "4  Return to the Black Mesa Research Facility as ...   \n",
       "\n",
       "                                   short_description  \\\n",
       "0  Play the world's number 1 online action game. ...   \n",
       "1  One of the most popular online action games of...   \n",
       "2  Enlist in an intense brand of Axis vs. Allied ...   \n",
       "3  Enjoy fast-paced multiplayer gaming with Death...   \n",
       "4  Return to the Black Mesa Research Facility as ...   \n",
       "\n",
       "                                 supported_languages reviews  \\\n",
       "0  English\\n*\\n, French\\n*\\n, German\\n*\\n, Italia...    None   \n",
       "1  English, French, German, Italian, Spanish - Sp...    None   \n",
       "2  English, French, German, Italian, Spanish - Spain    None   \n",
       "3  English, French, German, Italian, Spanish - Sp...    None   \n",
       "4                    English, French, German, Korean    None   \n",
       "\n",
       "                                        header_image  \\\n",
       "0  https://shared.akamai.steamstatic.com/store_it...   \n",
       "1  https://shared.akamai.steamstatic.com/store_it...   \n",
       "2  https://shared.akamai.steamstatic.com/store_it...   \n",
       "3  https://shared.akamai.steamstatic.com/store_it...   \n",
       "4  https://shared.akamai.steamstatic.com/store_it...   \n",
       "\n",
       "                                       capsule_image  \\\n",
       "0  https://shared.akamai.steamstatic.com/store_it...   \n",
       "1  https://shared.akamai.steamstatic.com/store_it...   \n",
       "2  https://shared.akamai.steamstatic.com/store_it...   \n",
       "3  https://shared.akamai.steamstatic.com/store_it...   \n",
       "4  https://shared.akamai.steamstatic.com/store_it...   \n",
       "\n",
       "                       website  \\\n",
       "0                                \n",
       "1                                \n",
       "2  http://www.dayofdefeat.com/   \n",
       "3                                \n",
       "4                                \n",
       "\n",
       "                                        requirements            developers  \\\n",
       "0  {\"minimum\": \"\\r\\n\\t\\t\\t<p><strong>Minimum:</st...             [\"Valve\"]   \n",
       "1  {\"minimum\": \"\\r\\n\\t\\t\\t<p><strong>Minimum:</st...             [\"Valve\"]   \n",
       "2  {\"minimum\": \"\\r\\n\\t\\t\\t<p><strong>Minimum:</st...             [\"Valve\"]   \n",
       "3  {\"minimum\": \"\\r\\n\\t\\t\\t<p><strong>Minimum:</st...             [\"Valve\"]   \n",
       "4  {\"minimum\": \"\\r\\n\\t\\t\\t<p><strong>Minimum:</st...  [\"Gearbox Software\"]   \n",
       "\n",
       "  publishers                                     price_overview  \\\n",
       "0  [\"Valve\"]  {\"final\": 99, \"initial\": 999, \"currency\": \"USD...   \n",
       "1  [\"Valve\"]  {\"final\": 74, \"initial\": 499, \"currency\": \"USD...   \n",
       "2  [\"Valve\"]  {\"final\": 74, \"initial\": 499, \"currency\": \"USD...   \n",
       "3  [\"Valve\"]  {\"final\": 74, \"initial\": 499, \"currency\": \"USD...   \n",
       "4  [\"Valve\"]  {\"final\": 74, \"initial\": 499, \"currency\": \"USD...   \n",
       "\n",
       "                                        platform  metacritic  \\\n",
       "0  {\"mac\": true, \"linux\": true, \"windows\": true}          88   \n",
       "1  {\"mac\": true, \"linux\": true, \"windows\": true}           0   \n",
       "2  {\"mac\": true, \"linux\": true, \"windows\": true}          79   \n",
       "3  {\"mac\": true, \"linux\": true, \"windows\": true}           0   \n",
       "4  {\"mac\": true, \"linux\": true, \"windows\": true}           0   \n",
       "\n",
       "                                          categories  \\\n",
       "0  [{\"id\": 1, \"description\": \"Multi-player\"}, {\"i...   \n",
       "1  [{\"id\": 1, \"description\": \"Multi-player\"}, {\"i...   \n",
       "2  [{\"id\": 1, \"description\": \"Multi-player\"}, {\"i...   \n",
       "3  [{\"id\": 1, \"description\": \"Multi-player\"}, {\"i...   \n",
       "4  [{\"id\": 2, \"description\": \"Single-player\"}, {\"...   \n",
       "\n",
       "                                   genres  recommendations  achievements  \\\n",
       "0  [{\"id\": \"1\", \"description\": \"Action\"}]           150423             0   \n",
       "1  [{\"id\": \"1\", \"description\": \"Action\"}]             6133             0   \n",
       "2  [{\"id\": \"1\", \"description\": \"Action\"}]             4074             0   \n",
       "3  [{\"id\": \"1\", \"description\": \"Action\"}]             2149             0   \n",
       "4  [{\"id\": \"1\", \"description\": \"Action\"}]            19244             0   \n",
       "\n",
       "  release_date  coming_soon  \n",
       "0  Nov 1, 2000            0  \n",
       "1  Apr 1, 1999            0  \n",
       "2  May 1, 2003            0  \n",
       "3  Jun 1, 2001            0  \n",
       "4  Nov 1, 1999            0  "
      ]
     },
     "execution_count": 148,
     "metadata": {},
     "output_type": "execute_result"
    }
   ],
   "source": [
    "steam_data.head()"
   ]
  },
  {
   "cell_type": "markdown",
   "metadata": {},
   "source": [
    "Creating a copy of `steam_data` dataset before starting the cleaning process."
   ]
  },
  {
   "cell_type": "code",
   "execution_count": 149,
   "metadata": {},
   "outputs": [],
   "source": [
    "raw_steam_data = steam_data.copy()"
   ]
  },
  {
   "cell_type": "markdown",
   "metadata": {},
   "source": [
    "### Process Null values"
   ]
  },
  {
   "cell_type": "markdown",
   "metadata": {},
   "source": [
    "Since the data is queried from SQL, some null vales are read as strings. "
   ]
  },
  {
   "cell_type": "code",
   "execution_count": 150,
   "metadata": {},
   "outputs": [],
   "source": [
    "def process_null(df):\n",
    "    \"\"\"\n",
    "    Process null values in a DataFrame by replacing specific values with None.\n",
    "\n",
    "    Args:\n",
    "        df (pandas.DataFrame): The DataFrame to process.\n",
    "\n",
    "    Returns:\n",
    "        pandas.DataFrame: The processed DataFrame with null values replaced.\n",
    "\n",
    "    \"\"\"\n",
    "    df = df.copy()\n",
    "\n",
    "    convert_to_none = ['', 'none', 'null', 'N/a', 'n/a', '[\"none\"]', '[\"null\"]']\n",
    "    df.replace(convert_to_none, None, inplace=True)\n",
    "    \n",
    "    return df\n",
    "\n",
    "raw_steam_data = process_null(raw_steam_data)"
   ]
  },
  {
   "cell_type": "code",
   "execution_count": 151,
   "metadata": {},
   "outputs": [
    {
     "data": {
      "text/plain": [
       "type                        0\n",
       "name                       15\n",
       "appid                       0\n",
       "required_age                0\n",
       "is_free                     0\n",
       "controller_support      57146\n",
       "dlc                         0\n",
       "detailed_description      121\n",
       "about_the_game            146\n",
       "short_description          64\n",
       "supported_languages        82\n",
       "reviews                 63577\n",
       "header_image                0\n",
       "capsule_image               0\n",
       "website                 36322\n",
       "requirements                0\n",
       "developers                232\n",
       "publishers                 11\n",
       "price_overview           9885\n",
       "platform                    0\n",
       "metacritic                  0\n",
       "categories                801\n",
       "genres                    133\n",
       "recommendations             0\n",
       "achievements                0\n",
       "release_date              112\n",
       "coming_soon                 0\n",
       "dtype: int64"
      ]
     },
     "execution_count": 151,
     "metadata": {},
     "output_type": "execute_result"
    }
   ],
   "source": [
    "raw_steam_data.isnull().sum()"
   ]
  },
  {
   "cell_type": "markdown",
   "metadata": {},
   "source": [
    "### Processing Age"
   ]
  },
  {
   "cell_type": "code",
   "execution_count": 152,
   "metadata": {},
   "outputs": [
    {
     "data": {
      "text/plain": [
       "required_age\n",
       "0     72901\n",
       "17      606\n",
       "18      155\n",
       "13      121\n",
       "16       50\n",
       "12       35\n",
       "10       14\n",
       "15       14\n",
       "7         9\n",
       "6         8\n",
       "3         5\n",
       "14        4\n",
       "11        2\n",
       "21        1\n",
       "5         1\n",
       "Name: count, dtype: int64"
      ]
     },
     "execution_count": 152,
     "metadata": {},
     "output_type": "execute_result"
    }
   ],
   "source": [
    "raw_steam_data['required_age'].value_counts()"
   ]
  },
  {
   "cell_type": "markdown",
   "metadata": {},
   "source": [
    "Reducing the number of categories that ages fall into by following the [PEGI age ratings](https://pegi.info) categories. For example, instead of comparing games rated as 5, 6, 7 or 8, we could compare games rated 5+ or 8+. "
   ]
  },
  {
   "cell_type": "code",
   "execution_count": 153,
   "metadata": {},
   "outputs": [
    {
     "data": {
      "text/plain": [
       "required_age\n",
       "0     72901\n",
       "3         5\n",
       "7        18\n",
       "12       51\n",
       "16      189\n",
       "18      762\n",
       "Name: count, dtype: int64"
      ]
     },
     "execution_count": 153,
     "metadata": {},
     "output_type": "execute_result"
    }
   ],
   "source": [
    "def process_age(df):\n",
    "    \"\"\"\n",
    "    Process the 'required_age' column in the given DataFrame.\n",
    "\n",
    "    Parameters:\n",
    "    df (DataFrame): The input DataFrame containing the 'required_age' column.\n",
    "\n",
    "    Returns:\n",
    "    DataFrame: A copy of the input DataFrame with the 'required_age' column processed.\n",
    "\n",
    "    \"\"\"\n",
    "    df = df.copy()\n",
    "    cut_points = [-1, 0, 3, 7, 12, 16, 1000]\n",
    "    categories = [0, 3, 7, 12, 16, 18]\n",
    "\n",
    "    df = df[df['required_age'].notna()] \n",
    "    df['required_age'] = pd.cut(df['required_age'], bins=cut_points, labels=categories)\n",
    "    \n",
    "    return df\n",
    "\n",
    "age_df = process_age(raw_steam_data)\n",
    "age_df['required_age'].value_counts().sort_index()"
   ]
  },
  {
   "cell_type": "markdown",
   "metadata": {},
   "source": [
    "### Processing Platforms"
   ]
  },
  {
   "cell_type": "code",
   "execution_count": 154,
   "metadata": {},
   "outputs": [
    {
     "name": "stdout",
     "output_type": "stream",
     "text": [
      "<class 'str'>\n"
     ]
    },
    {
     "data": {
      "text/plain": [
       "'{\"mac\": true, \"linux\": true, \"windows\": true}'"
      ]
     },
     "execution_count": 154,
     "metadata": {},
     "output_type": "execute_result"
    }
   ],
   "source": [
    "platforms_first_row = age_df['platform'].iloc[0]\n",
    "print(type(platforms_first_row))\n",
    "platforms_first_row"
   ]
  },
  {
   "cell_type": "markdown",
   "metadata": {},
   "source": [
    "First task is to recognise the data as dictionaries rather than strings."
   ]
  },
  {
   "cell_type": "code",
   "execution_count": 155,
   "metadata": {},
   "outputs": [
    {
     "name": "stdout",
     "output_type": "stream",
     "text": [
      "<class 'dict'>\n",
      "{'mac': True, 'linux': True, 'windows': True}\n"
     ]
    },
    {
     "data": {
      "text/plain": [
       "True"
      ]
     },
     "execution_count": 155,
     "metadata": {},
     "output_type": "execute_result"
    }
   ],
   "source": [
    "eval_first_row = json.loads(platforms_first_row)\n",
    "print(type(eval_first_row))\n",
    "print(eval_first_row)\n",
    "eval_first_row['windows']"
   ]
  },
  {
   "cell_type": "markdown",
   "metadata": {},
   "source": [
    "Formatting the output. Let's keep things simple and return a string of supported platforms"
   ]
  },
  {
   "cell_type": "code",
   "execution_count": 156,
   "metadata": {},
   "outputs": [
    {
     "data": {
      "text/plain": [
       "'mac;linux;windows'"
      ]
     },
     "execution_count": 156,
     "metadata": {},
     "output_type": "execute_result"
    }
   ],
   "source": [
    "';'.join(eval_first_row.keys())"
   ]
  },
  {
   "cell_type": "markdown",
   "metadata": {},
   "source": [
    "Keeping only keys that have `True` value"
   ]
  },
  {
   "cell_type": "code",
   "execution_count": 157,
   "metadata": {},
   "outputs": [
    {
     "name": "stdout",
     "output_type": "stream",
     "text": [
      "['windows', 'mac']\n"
     ]
    },
    {
     "data": {
      "text/plain": [
       "'windows;mac'"
      ]
     },
     "execution_count": 157,
     "metadata": {},
     "output_type": "execute_result"
    }
   ],
   "source": [
    "platforms = {'windows': True, 'mac': True, 'linux': False}\n",
    "print([x for x in platforms.keys() if platforms[x]])\n",
    "';'.join(x for x in platforms.keys() if platforms[x])"
   ]
  },
  {
   "cell_type": "markdown",
   "metadata": {},
   "source": [
    "Creating a funtion by using pandas [Series.apply](https://pandas.pydata.org/pandas-docs/stable/reference/api/pandas.Series.apply.html)"
   ]
  },
  {
   "cell_type": "code",
   "execution_count": 158,
   "metadata": {},
   "outputs": [
    {
     "data": {
      "text/plain": [
       "platform\n",
       "windows              55926\n",
       "mac;linux;windows     8065\n",
       "mac;windows           7448\n",
       "linux;windows         2464\n",
       "mac                     11\n",
       "linux                   11\n",
       "mac;linux                1\n",
       "Name: count, dtype: int64"
      ]
     },
     "execution_count": 158,
     "metadata": {},
     "output_type": "execute_result"
    }
   ],
   "source": [
    "def process_platforms(df):\n",
    "    \"\"\"\n",
    "    Process the platforms column in the given DataFrame.\n",
    "\n",
    "    Args:\n",
    "        df (pandas.DataFrame): The DataFrame containing the platforms column.\n",
    "\n",
    "    Returns:\n",
    "        pandas.DataFrame: The DataFrame with the platforms column processed.\n",
    "    \"\"\"\n",
    "    df = df.copy()\n",
    "\n",
    "    def parse_platforms(x):\n",
    "        \"\"\"\n",
    "        Parse the platforms from the given JSON string.\n",
    "\n",
    "        Args:\n",
    "            x (str): The JSON string representing the platforms.\n",
    "\n",
    "        Returns:\n",
    "            str: The parsed platforms separated by semicolons.\n",
    "        \"\"\"\n",
    "        d = json.loads(x)\n",
    "\n",
    "        return ';'.join(platform for platform in d.keys() if d[platform])\n",
    "\n",
    "    df['platform'] = df['platform'].apply(parse_platforms)\n",
    "\n",
    "    return df\n",
    "\n",
    "platforms_df = process_platforms(age_df)\n",
    "platforms_df['platform'].value_counts()"
   ]
  },
  {
   "cell_type": "markdown",
   "metadata": {},
   "source": [
    "### Processing Languages"
   ]
  },
  {
   "cell_type": "code",
   "execution_count": 159,
   "metadata": {},
   "outputs": [
    {
     "data": {
      "text/plain": [
       "supported_languages\n",
       "English                                                           19780\n",
       "English\\n*\\n*\\nlanguages with full audio support                  17326\n",
       "English, Russian                                                   1386\n",
       "English, Simplified Chinese                                        1020\n",
       "English, Japanese                                                   888\n",
       "Simplified Chinese                                                  827\n",
       "Simplified Chinese\\n*\\n*\\nlanguages with full audio support         649\n",
       "English\\n*\\n, Russian\\n*\\n*\\nlanguages with full audio support      457\n",
       "English, Portuguese - Brazil                                        421\n",
       "English, French                                                     394\n",
       "Name: count, dtype: int64"
      ]
     },
     "execution_count": 159,
     "metadata": {},
     "output_type": "execute_result"
    }
   ],
   "source": [
    "platforms_df['supported_languages'].value_counts().head(10)"
   ]
  },
  {
   "cell_type": "markdown",
   "metadata": {},
   "source": [
    "English plus other languages make up most of the data. It seems reasonably safe to assume that if the app is in English, the word English will appear somewhere in this string. Use the Series.apply to check if the string 'english' appears in each row. Null values are dropped as they are very less in number."
   ]
  },
  {
   "cell_type": "code",
   "execution_count": 160,
   "metadata": {},
   "outputs": [
    {
     "data": {
      "text/html": [
       "<div>\n",
       "<style scoped>\n",
       "    .dataframe tbody tr th:only-of-type {\n",
       "        vertical-align: middle;\n",
       "    }\n",
       "\n",
       "    .dataframe tbody tr th {\n",
       "        vertical-align: top;\n",
       "    }\n",
       "\n",
       "    .dataframe thead th {\n",
       "        text-align: right;\n",
       "    }\n",
       "</style>\n",
       "<table border=\"1\" class=\"dataframe\">\n",
       "  <thead>\n",
       "    <tr style=\"text-align: right;\">\n",
       "      <th></th>\n",
       "      <th>name</th>\n",
       "      <th>english</th>\n",
       "    </tr>\n",
       "  </thead>\n",
       "  <tbody>\n",
       "    <tr>\n",
       "      <th>0</th>\n",
       "      <td>Counter-Strike</td>\n",
       "      <td>1</td>\n",
       "    </tr>\n",
       "    <tr>\n",
       "      <th>1</th>\n",
       "      <td>Team Fortress Classic</td>\n",
       "      <td>1</td>\n",
       "    </tr>\n",
       "    <tr>\n",
       "      <th>2</th>\n",
       "      <td>Day of Defeat</td>\n",
       "      <td>1</td>\n",
       "    </tr>\n",
       "    <tr>\n",
       "      <th>3</th>\n",
       "      <td>Deathmatch Classic</td>\n",
       "      <td>1</td>\n",
       "    </tr>\n",
       "    <tr>\n",
       "      <th>4</th>\n",
       "      <td>Half-Life: Opposing Force</td>\n",
       "      <td>1</td>\n",
       "    </tr>\n",
       "  </tbody>\n",
       "</table>\n",
       "</div>"
      ],
      "text/plain": [
       "                        name  english\n",
       "0             Counter-Strike        1\n",
       "1      Team Fortress Classic        1\n",
       "2              Day of Defeat        1\n",
       "3         Deathmatch Classic        1\n",
       "4  Half-Life: Opposing Force        1"
      ]
     },
     "execution_count": 160,
     "metadata": {},
     "output_type": "execute_result"
    }
   ],
   "source": [
    "def process_language(df):\n",
    "    \"\"\"\n",
    "    Process the language data in the given DataFrame.\n",
    "\n",
    "    Parameters:\n",
    "    df (DataFrame): The input DataFrame containing the language data.\n",
    "\n",
    "    Returns:\n",
    "    DataFrame: The processed DataFrame with the language data cleaned.\n",
    "\n",
    "    \"\"\"\n",
    "    df = df.copy()\n",
    "    \n",
    "    df = df.dropna(subset=['supported_languages'])\n",
    "    \n",
    "    df['english'] = df['supported_languages'].apply(lambda x: 1 if 'english' in x.lower() else 0)\n",
    "    df = df.drop('supported_languages', axis=1)\n",
    "    \n",
    "    return df\n",
    "\n",
    "language_df = process_language(platforms_df)\n",
    "language_df[['name', 'english']].head()"
   ]
  },
  {
   "cell_type": "code",
   "execution_count": 161,
   "metadata": {},
   "outputs": [
    {
     "data": {
      "text/plain": [
       "english\n",
       "1    71127\n",
       "0     2717\n",
       "Name: count, dtype: int64"
      ]
     },
     "execution_count": 161,
     "metadata": {},
     "output_type": "execute_result"
    }
   ],
   "source": [
    "language_df['english'].value_counts()"
   ]
  },
  {
   "cell_type": "markdown",
   "metadata": {},
   "source": [
    "### Processing Developers and Publishers"
   ]
  },
  {
   "cell_type": "code",
   "execution_count": 162,
   "metadata": {},
   "outputs": [
    {
     "name": "stdout",
     "output_type": "stream",
     "text": [
      "Developers null counts: 214\n",
      "Developers empty list counts: 0\n",
      "\n",
      "Publishers null counts: 10\n",
      "Publishers empty list counts: 503\n"
     ]
    }
   ],
   "source": [
    "print('Developers null counts:', language_df[language_df['developers'].isnull()].shape[0])\n",
    "print('Developers empty list counts:', language_df[language_df['developers'] == '[\"\"]'].shape[0])\n",
    "\n",
    "print('\\nPublishers null counts:', language_df['publishers'].isnull().sum())\n",
    "print('Publishers empty list counts:', language_df[language_df['publishers'] == '[\"\"]'].shape[0])"
   ]
  },
  {
   "cell_type": "markdown",
   "metadata": {},
   "source": [
    "A few options for dealing with these two columns:\n",
    "\n",
    "- Remove all rows missing either developer or publisher information\n",
    "- Impute missing information by replacing the missing column with the column we have (i.e. if developers is missing, fill it with the value in publishers)\n",
    "- Fill missing information with 'Unknown' or 'None'"
   ]
  },
  {
   "cell_type": "code",
   "execution_count": 163,
   "metadata": {},
   "outputs": [
    {
     "name": "stdout",
     "output_type": "stream",
     "text": [
      "Total games missing developer: 214 \n",
      "\n",
      "Crash Time 2: http://store.steampowered.com/app/11390\n",
      "18 Wheels of Steel: Extreme Trucker: http://store.steampowered.com/app/33730\n",
      "Prison Tycoon 4: SuperMax: http://store.steampowered.com/app/33750\n",
      "Jewel Quest Pack: http://store.steampowered.com/app/37960\n",
      "Mahjong Quest Collection: http://store.steampowered.com/app/38000\n"
     ]
    }
   ],
   "source": [
    "no_dev = language_df[language_df['developers'].isnull()]\n",
    "print('Total games missing developer:', no_dev.shape[0], '\\n')\n",
    "print_steam_links(no_dev[:5])"
   ]
  },
  {
   "cell_type": "code",
   "execution_count": 164,
   "metadata": {},
   "outputs": [
    {
     "name": "stdout",
     "output_type": "stream",
     "text": [
      "\n",
      "Total games missing publisher: 503 \n",
      "\n",
      "RIP - Trilogy™: http://store.steampowered.com/app/2540\n",
      "Vigil: Blood Bitterness™: http://store.steampowered.com/app/2570\n",
      "ThreadSpace: Hyperbol: http://store.steampowered.com/app/2720\n",
      "Bullet Candy: http://store.steampowered.com/app/6600\n",
      "Loki: http://store.steampowered.com/app/7260\n"
     ]
    }
   ],
   "source": [
    "no_pub = language_df[language_df['publishers'] == '[\"\"]']\n",
    "print('\\nTotal games missing publisher:', no_pub.shape[0], '\\n')\n",
    "print_steam_links(no_pub[:5])"
   ]
  },
  {
   "cell_type": "code",
   "execution_count": 165,
   "metadata": {},
   "outputs": [
    {
     "name": "stdout",
     "output_type": "stream",
     "text": [
      "\n",
      "Total games missing developer and publisher: 137 \n",
      "\n",
      "Guardians of Graxia: http://store.steampowered.com/app/90500\n",
      "Patterns: http://store.steampowered.com/app/218980\n",
      "PlayClaw 5 - Game Recording and Streaming: http://store.steampowered.com/app/237370\n",
      "Artemis Spaceship Bridge Simulator: http://store.steampowered.com/app/247350\n",
      "A Walk in the Dark: http://store.steampowered.com/app/248730\n"
     ]
    }
   ],
   "source": [
    "no_dev_or_pub = language_df[(language_df['developers'].isnull()) & (language_df['publishers'] == '[\"\"]')]\n",
    "print('\\nTotal games missing developer and publisher:', no_dev_or_pub.shape[0], '\\n')\n",
    "print_steam_links(no_dev_or_pub[:5])"
   ]
  },
  {
   "cell_type": "markdown",
   "metadata": {},
   "source": [
    "Some titles may have been self-publishes while others simply have wrong ot missing data. As the priority is creating a clean dataset, and there are only a few hundred rows, it will be fine to remove them from the data. Is is also safe to assume that multiple developers or publishers may have been involved in the game."
   ]
  },
  {
   "cell_type": "code",
   "execution_count": 166,
   "metadata": {},
   "outputs": [
    {
     "name": "stdout",
     "output_type": "stream",
     "text": [
      "Rows in developers column with multiple values: 4883\n",
      "Rows in publishers column with multiple values: 2560\n"
     ]
    }
   ],
   "source": [
    "def process_developers_and_publishers(df):\n",
    "    \"\"\"\n",
    "    Process the 'developers' and 'publishers' columns in the given DataFrame.\n",
    "\n",
    "    Args:\n",
    "        df (pandas.DataFrame): The DataFrame containing the 'developers' and 'publishers' columns.\n",
    "\n",
    "    Returns:\n",
    "        None\n",
    "\n",
    "    This function filters out rows where the 'developers' column is not equal to None and the 'publishers'\n",
    "    column is not equal to '[\"\"]'. It then converts the values in the 'developers' and 'publishers' columns\n",
    "    from strings to lists using the `literal_eval` function from the `ast` module. Finally, it prints the number\n",
    "    of rows in each column that have multiple values.\n",
    "\n",
    "    Note:\n",
    "        This function modifies the input DataFrame in-place.\n",
    "    \"\"\"\n",
    "    df = df[(df['developers'].notna()) & ((df['publishers'].notna())) & (df['publishers'] != '[\"\"]')].copy()\n",
    "    \n",
    "    for col in ['developers', 'publishers']:\n",
    "        df[col] = df[col].apply(lambda x: literal_eval(x))\n",
    "        \n",
    "        num_rows = df[df[col].str.len() > 1].shape[0]\n",
    "        \n",
    "        print('Rows in {} column with multiple values:'.format(col), num_rows)\n",
    "\n",
    "process_developers_and_publishers(language_df)"
   ]
  },
  {
   "cell_type": "markdown",
   "metadata": {},
   "source": [
    "The column can be formateed by joining the multiple developers and publishers into a string. Since a number of developers and publishers have a comma in their name (for example PopCap Games, Inc.), they can be joint on a semi-colon. There are some that have `[NA]` or `[N/A]` or `[N/a]`."
   ]
  },
  {
   "cell_type": "code",
   "execution_count": 167,
   "metadata": {},
   "outputs": [
    {
     "data": {
      "text/html": [
       "<div>\n",
       "<style scoped>\n",
       "    .dataframe tbody tr th:only-of-type {\n",
       "        vertical-align: middle;\n",
       "    }\n",
       "\n",
       "    .dataframe tbody tr th {\n",
       "        vertical-align: top;\n",
       "    }\n",
       "\n",
       "    .dataframe thead th {\n",
       "        text-align: right;\n",
       "    }\n",
       "</style>\n",
       "<table border=\"1\" class=\"dataframe\">\n",
       "  <thead>\n",
       "    <tr style=\"text-align: right;\">\n",
       "      <th></th>\n",
       "      <th>name</th>\n",
       "      <th>appid</th>\n",
       "      <th>developer</th>\n",
       "      <th>publisher</th>\n",
       "    </tr>\n",
       "  </thead>\n",
       "  <tbody>\n",
       "    <tr>\n",
       "      <th>0</th>\n",
       "      <td>Counter-Strike</td>\n",
       "      <td>10</td>\n",
       "      <td>Valve</td>\n",
       "      <td>Valve</td>\n",
       "    </tr>\n",
       "    <tr>\n",
       "      <th>1</th>\n",
       "      <td>Team Fortress Classic</td>\n",
       "      <td>20</td>\n",
       "      <td>Valve</td>\n",
       "      <td>Valve</td>\n",
       "    </tr>\n",
       "    <tr>\n",
       "      <th>2</th>\n",
       "      <td>Day of Defeat</td>\n",
       "      <td>30</td>\n",
       "      <td>Valve</td>\n",
       "      <td>Valve</td>\n",
       "    </tr>\n",
       "    <tr>\n",
       "      <th>3</th>\n",
       "      <td>Deathmatch Classic</td>\n",
       "      <td>40</td>\n",
       "      <td>Valve</td>\n",
       "      <td>Valve</td>\n",
       "    </tr>\n",
       "    <tr>\n",
       "      <th>4</th>\n",
       "      <td>Half-Life: Opposing Force</td>\n",
       "      <td>50</td>\n",
       "      <td>Gearbox Software</td>\n",
       "      <td>Valve</td>\n",
       "    </tr>\n",
       "  </tbody>\n",
       "</table>\n",
       "</div>"
      ],
      "text/plain": [
       "                        name  appid         developer publisher\n",
       "0             Counter-Strike     10             Valve     Valve\n",
       "1      Team Fortress Classic     20             Valve     Valve\n",
       "2              Day of Defeat     30             Valve     Valve\n",
       "3         Deathmatch Classic     40             Valve     Valve\n",
       "4  Half-Life: Opposing Force     50  Gearbox Software     Valve"
      ]
     },
     "execution_count": 167,
     "metadata": {},
     "output_type": "execute_result"
    }
   ],
   "source": [
    "# def process_developers_and_publishers(df):\n",
    "#     \"\"\"\n",
    "#     Process the developers and publishers columns in the given DataFrame.\n",
    "\n",
    "#     Args:\n",
    "#         df (pandas.DataFrame): The DataFrame containing the 'developers' and 'publishers' columns.\n",
    "\n",
    "#     Returns:\n",
    "#         pandas.DataFrame: The DataFrame with the 'developers' and 'publishers' columns processed and updated.\n",
    "#     \"\"\"\n",
    "#     df = df[(df['developers'].notna()) & (df['publishers'] != '[\"\"]')].copy()\n",
    "#     df = df[~(df['developers'].str.contains(';')) & ~(df['publishers'].str.contains(';'))]\n",
    "#     df = df[(df['publishers'] != '[\"NA\"]') & (df['publishers'] != '[\"N/A\"]') & (df['publishers'] != '[\"N/a\"]') & (df['developers'] != '[\"NA\"]') & (df['developers'] != '[\"N/A\"]') & (df['developers'] != '[\"N/a\"]')]\n",
    "    \n",
    "#     df['developer'] = df['developers'].apply(lambda x: ';'.join(literal_eval(x)))\n",
    "#     df['publisher'] = df['publishers'].apply(lambda x: ';'.join(literal_eval(x)))\n",
    "\n",
    "#     df = df.drop(['developers', 'publishers'], axis=1)\n",
    "    \n",
    "#     return df\n",
    "\n",
    "# dev_pub_df = process_developers_and_publishers(language_df)\n",
    "# dev_pub_df[['name', 'appid', 'developer', 'publisher']].head()\n",
    "\n",
    "def process_developers_and_publishers(df):\n",
    "    \"\"\"\n",
    "    Process the developers and publishers columns in the given DataFrame.\n",
    "\n",
    "    Args:\n",
    "        df (pandas.DataFrame): The DataFrame containing the developers and publishers columns.\n",
    "\n",
    "    Returns:\n",
    "        pandas.DataFrame: The processed DataFrame with the developers and publishers columns transformed.\n",
    "\n",
    "    \"\"\"\n",
    "    pattern = r'(?i)\\[\"(n/a|na|null)\"\\]'\n",
    "\n",
    "    df = df[(df['developers'].notna()) & (df['publishers'].notna() & (df['publishers'] != '[\"\"]'))]\n",
    "    df = df[~df['developers'].str.contains(pattern, na=False)]\n",
    "    df = df[~df['publishers'].str.contains(pattern, na=False)]\n",
    "\n",
    "    df = df[~df['developers'].str.contains(';', na=False)]\n",
    "    df = df[~df['publishers'].str.contains(';', na=False)]\n",
    "\n",
    "    def safe_literal_eval(val):\n",
    "        try:\n",
    "            result = literal_eval(val)\n",
    "            if isinstance(result, list):\n",
    "                return ';'.join(filter(None, result))\n",
    "        except (ValueError, SyntaxError):\n",
    "            return ''\n",
    "        return val\n",
    "    \n",
    "    df['developer'] = df['developers'].apply(safe_literal_eval)\n",
    "    df['publisher'] = df['publishers'].apply(safe_literal_eval)\n",
    "\n",
    "    df = df.drop(['developers', 'publishers'], axis=1)\n",
    "    \n",
    "    return df\n",
    "\n",
    "dev_pub_df = process_developers_and_publishers(language_df)\n",
    "dev_pub_df[['name', 'appid', 'developer', 'publisher']].head()\n"
   ]
  },
  {
   "cell_type": "markdown",
   "metadata": {},
   "source": [
    "Helper cell to check if any values of `[n/a]` variations were missed."
   ]
  },
  {
   "cell_type": "code",
   "execution_count": 168,
   "metadata": {},
   "outputs": [],
   "source": [
    "# temp = check_na(dev_pub_df, 'publisher')\n",
    "# temp.head()"
   ]
  },
  {
   "cell_type": "markdown",
   "metadata": {},
   "source": [
    "### Processing Price"
   ]
  },
  {
   "cell_type": "code",
   "execution_count": 169,
   "metadata": {},
   "outputs": [
    {
     "data": {
      "text/plain": [
       "9689"
      ]
     },
     "execution_count": 169,
     "metadata": {},
     "output_type": "execute_result"
    }
   ],
   "source": [
    "dev_pub_df[dev_pub_df['price_overview'].isnull()].shape[0]"
   ]
  },
  {
   "cell_type": "code",
   "execution_count": 170,
   "metadata": {},
   "outputs": [
    {
     "name": "stdout",
     "output_type": "stream",
     "text": [
      "Games that are marked free and have price as null:  6036\n"
     ]
    }
   ],
   "source": [
    "free_and_null_price = dev_pub_df[(dev_pub_df['is_free']) & (dev_pub_df['price_overview'].isnull())]\n",
    "print(\"Games that are marked free and have price as null: \", free_and_null_price.shape[0])"
   ]
  },
  {
   "cell_type": "markdown",
   "metadata": {},
   "source": [
    "It turns out this accounts for most of the missing values in the `price_overview` column. These missing values can be handled by setting the final price as 0. This makes intuitive sense - free games wouldn't have a price."
   ]
  },
  {
   "cell_type": "code",
   "execution_count": 171,
   "metadata": {},
   "outputs": [
    {
     "name": "stdout",
     "output_type": "stream",
     "text": [
      "Steam store links to some games that are not free and have missing price\n",
      "\n",
      "Half-Life 2: Lost Coast: http://store.steampowered.com/app/340\n",
      "Final DOOM: http://store.steampowered.com/app/2290\n",
      "Quake II Mission Pack: The Reckoning: http://store.steampowered.com/app/2330\n",
      "Quake II Mission Pack: Ground Zero: http://store.steampowered.com/app/2340\n",
      "The Ship: Single Player: http://store.steampowered.com/app/2420\n"
     ]
    }
   ],
   "source": [
    "not_free_and_null_price = dev_pub_df[(dev_pub_df['is_free'] == 0) & (dev_pub_df['price_overview'].isnull())]\n",
    "print(\"Steam store links to some games that are not free and have missing price\\n\")\n",
    "print_steam_links(not_free_and_null_price[:5])"
   ]
  },
  {
   "cell_type": "markdown",
   "metadata": {},
   "source": [
    "Some of these games are sold as part of the main game, some have been removed while others have their name replaced."
   ]
  },
  {
   "cell_type": "code",
   "execution_count": 172,
   "metadata": {},
   "outputs": [
    {
     "data": {
      "text/plain": [
       "'{\"final\": 119, \"initial\": 599, \"currency\": \"USD\", \"final_formatted\": \"$1.19\", \"discount_percent\": 80, \"initial_formatted\": \"$5.99\"}'"
      ]
     },
     "execution_count": 172,
     "metadata": {},
     "output_type": "execute_result"
    }
   ],
   "source": [
    "dev_pub_df['price_overview'][37]"
   ]
  },
  {
   "cell_type": "markdown",
   "metadata": {},
   "source": [
    "This will be formatted by taking only the `currency` and `initial` keys. These will be created as two seperate columns. There are multiple currencies and it makes sense to convert these to USD."
   ]
  },
  {
   "cell_type": "code",
   "execution_count": 173,
   "metadata": {},
   "outputs": [
    {
     "data": {
      "text/html": [
       "<div>\n",
       "<style scoped>\n",
       "    .dataframe tbody tr th:only-of-type {\n",
       "        vertical-align: middle;\n",
       "    }\n",
       "\n",
       "    .dataframe tbody tr th {\n",
       "        vertical-align: top;\n",
       "    }\n",
       "\n",
       "    .dataframe thead th {\n",
       "        text-align: right;\n",
       "    }\n",
       "</style>\n",
       "<table border=\"1\" class=\"dataframe\">\n",
       "  <thead>\n",
       "    <tr style=\"text-align: right;\">\n",
       "      <th></th>\n",
       "      <th>name</th>\n",
       "      <th>price</th>\n",
       "    </tr>\n",
       "  </thead>\n",
       "  <tbody>\n",
       "    <tr>\n",
       "      <th>0</th>\n",
       "      <td>Counter-Strike</td>\n",
       "      <td>9.99</td>\n",
       "    </tr>\n",
       "    <tr>\n",
       "      <th>1</th>\n",
       "      <td>Team Fortress Classic</td>\n",
       "      <td>4.99</td>\n",
       "    </tr>\n",
       "    <tr>\n",
       "      <th>2</th>\n",
       "      <td>Day of Defeat</td>\n",
       "      <td>4.99</td>\n",
       "    </tr>\n",
       "    <tr>\n",
       "      <th>3</th>\n",
       "      <td>Deathmatch Classic</td>\n",
       "      <td>4.99</td>\n",
       "    </tr>\n",
       "    <tr>\n",
       "      <th>4</th>\n",
       "      <td>Half-Life: Opposing Force</td>\n",
       "      <td>4.99</td>\n",
       "    </tr>\n",
       "  </tbody>\n",
       "</table>\n",
       "</div>"
      ],
      "text/plain": [
       "                        name  price\n",
       "0             Counter-Strike   9.99\n",
       "1      Team Fortress Classic   4.99\n",
       "2              Day of Defeat   4.99\n",
       "3         Deathmatch Classic   4.99\n",
       "4  Half-Life: Opposing Force   4.99"
      ]
     },
     "execution_count": 173,
     "metadata": {},
     "output_type": "execute_result"
    }
   ],
   "source": [
    "def process_price(df):\n",
    "    \"\"\"\n",
    "    Process the price data in the given DataFrame.\n",
    "\n",
    "    Args:\n",
    "        df (pandas.DataFrame): The DataFrame containing the price data.\n",
    "\n",
    "    Returns:\n",
    "        pandas.DataFrame: The DataFrame with processed price data.\n",
    "    \"\"\"\n",
    "    df = df.copy()\n",
    "    currency_rates = {'EUR': 1.08, 'TWD': 0.03, 'SGD': 0.74, 'BRL': 0.18, 'AUD': 0.67} \n",
    "        \n",
    "    def parse_price(x):\n",
    "        if x is not None:\n",
    "            return literal_eval(x)\n",
    "        else:\n",
    "            return {'currency': 'USD', 'initial': -1}\n",
    "    \n",
    "    def convert_to_usd(price, currency, rates):\n",
    "        if currency == 'USD':\n",
    "            return price\n",
    "        \n",
    "        currency_rate = rates[currency]\n",
    "        return price * currency_rate\n",
    "    \n",
    "    df['price_overview'] = df['price_overview'].apply(parse_price)\n",
    "    \n",
    "    df['currency'] = df['price_overview'].apply(lambda x: x['currency'])\n",
    "    df['price'] = df['price_overview'].apply(lambda x: x['initial'])\n",
    "    \n",
    "    df.loc[df['is_free'] == 1, 'price'] = 0\n",
    "    df.loc[df['price'] > 0, 'price'] /= 100\n",
    "\n",
    "    df['price'] = df.apply(lambda x: convert_to_usd(x['price'], x['currency'], currency_rates), axis=1)\n",
    "\n",
    "    df = df.drop(['is_free', 'currency', 'price_overview'], axis=1)\n",
    "    \n",
    "    return df\n",
    "\n",
    "price_df = process_price(dev_pub_df)\n",
    "price_df[['name', 'price']].head()"
   ]
  },
  {
   "cell_type": "markdown",
   "metadata": {},
   "source": [
    "### Processing Categories and Genres"
   ]
  },
  {
   "cell_type": "code",
   "execution_count": 174,
   "metadata": {},
   "outputs": [
    {
     "name": "stdout",
     "output_type": "stream",
     "text": [
      "Number of null values for categories:  797\n",
      "Number of null values for genres:  99\n"
     ]
    }
   ],
   "source": [
    "print(\"Number of null values for categories: \", price_df[price_df['categories'].isnull()].shape[0])\n",
    "print(\"Number of null values for genres: \", price_df[price_df['genres'].isnull()].shape[0])"
   ]
  },
  {
   "cell_type": "markdown",
   "metadata": {},
   "source": [
    "Randomly inspect null rows by using [Dataframe.sample](https://pandas.pydata.org/pandas-docs/stable/reference/api/pandas.DataFrame.sample.html) method."
   ]
  },
  {
   "cell_type": "code",
   "execution_count": 175,
   "metadata": {},
   "outputs": [
    {
     "name": "stdout",
     "output_type": "stream",
     "text": [
      "RPG Paper Maker: http://store.steampowered.com/app/1066860\n",
      "PhotoTangler Collage Maker: http://store.steampowered.com/app/586560\n",
      "MasterPlan: http://store.steampowered.com/app/1269310\n",
      "Home Office Tasker: http://store.steampowered.com/app/1727670\n",
      "Hypnosia - Application d'Hypnose avec Reconnaissance Vocale: http://store.steampowered.com/app/2952000\n"
     ]
    }
   ],
   "source": [
    "print_steam_links(price_df[price_df['categories'].isnull()].sample(5, random_state=0))"
   ]
  },
  {
   "cell_type": "markdown",
   "metadata": {},
   "source": [
    "All of the above rows of categories are applications or software of some kind, and not actually games. It would be best to remove these."
   ]
  },
  {
   "cell_type": "code",
   "execution_count": 176,
   "metadata": {},
   "outputs": [
    {
     "name": "stdout",
     "output_type": "stream",
     "text": [
      "ChessBase 13 Academy: http://store.steampowered.com/app/377340\n",
      "General Staff: Black Powder Battle Designer Bundle: http://store.steampowered.com/app/2231050\n",
      "Call of Cthulhu®: Dark Corners of the Earth: http://store.steampowered.com/app/22340\n",
      "River Relaxation VR: http://store.steampowered.com/app/938760\n",
      "Evil Shogun: http://store.steampowered.com/app/1505830\n"
     ]
    }
   ],
   "source": [
    "print_steam_links(price_df[price_df['genres'].isnull()].sample(5, random_state=0))"
   ]
  },
  {
   "cell_type": "markdown",
   "metadata": {},
   "source": [
    "Most of these are games and suggests that genre data simply wasn't supplied. These rows can be removed as these are less in number."
   ]
  },
  {
   "cell_type": "code",
   "execution_count": 177,
   "metadata": {},
   "outputs": [
    {
     "data": {
      "text/html": [
       "<div>\n",
       "<style scoped>\n",
       "    .dataframe tbody tr th:only-of-type {\n",
       "        vertical-align: middle;\n",
       "    }\n",
       "\n",
       "    .dataframe tbody tr th {\n",
       "        vertical-align: top;\n",
       "    }\n",
       "\n",
       "    .dataframe thead th {\n",
       "        text-align: right;\n",
       "    }\n",
       "</style>\n",
       "<table border=\"1\" class=\"dataframe\">\n",
       "  <thead>\n",
       "    <tr style=\"text-align: right;\">\n",
       "      <th></th>\n",
       "      <th>appid</th>\n",
       "      <th>categories</th>\n",
       "      <th>genres</th>\n",
       "    </tr>\n",
       "  </thead>\n",
       "  <tbody>\n",
       "    <tr>\n",
       "      <th>0</th>\n",
       "      <td>10</td>\n",
       "      <td>Multi-player;PvP;Online PvP;Shared/Split Scree...</td>\n",
       "      <td>Action</td>\n",
       "    </tr>\n",
       "    <tr>\n",
       "      <th>1</th>\n",
       "      <td>20</td>\n",
       "      <td>Multi-player;PvP;Online PvP;Shared/Split Scree...</td>\n",
       "      <td>Action</td>\n",
       "    </tr>\n",
       "    <tr>\n",
       "      <th>2</th>\n",
       "      <td>30</td>\n",
       "      <td>Multi-player;Valve Anti-Cheat enabled;Family S...</td>\n",
       "      <td>Action</td>\n",
       "    </tr>\n",
       "    <tr>\n",
       "      <th>3</th>\n",
       "      <td>40</td>\n",
       "      <td>Multi-player;PvP;Online PvP;Shared/Split Scree...</td>\n",
       "      <td>Action</td>\n",
       "    </tr>\n",
       "    <tr>\n",
       "      <th>4</th>\n",
       "      <td>50</td>\n",
       "      <td>Single-player;Multi-player;Valve Anti-Cheat en...</td>\n",
       "      <td>Action</td>\n",
       "    </tr>\n",
       "  </tbody>\n",
       "</table>\n",
       "</div>"
      ],
      "text/plain": [
       "   appid                                         categories  genres\n",
       "0     10  Multi-player;PvP;Online PvP;Shared/Split Scree...  Action\n",
       "1     20  Multi-player;PvP;Online PvP;Shared/Split Scree...  Action\n",
       "2     30  Multi-player;Valve Anti-Cheat enabled;Family S...  Action\n",
       "3     40  Multi-player;PvP;Online PvP;Shared/Split Scree...  Action\n",
       "4     50  Single-player;Multi-player;Valve Anti-Cheat en...  Action"
      ]
     },
     "execution_count": 177,
     "metadata": {},
     "output_type": "execute_result"
    }
   ],
   "source": [
    "def process_categories_and_genres(df):\n",
    "    \"\"\"\n",
    "    Process the categories and genres columns of the given DataFrame.\n",
    "    \n",
    "    Parameters:\n",
    "    df (DataFrame): The input DataFrame containing the 'categories' and 'genres' columns.\n",
    "    \n",
    "    Returns:\n",
    "    DataFrame: The processed DataFrame with the 'categories' and 'genres' columns modified.\n",
    "    \"\"\"\n",
    "    df = df.copy()\n",
    "    df = df[(df['categories'].notna()) & (df['genres'].notna())]\n",
    "    \n",
    "    for col in ['categories', 'genres']:\n",
    "        df[col] = df[col].apply(lambda x: ';'.join(item['description'] for item in literal_eval(x)))\n",
    "    \n",
    "    return df\n",
    "\n",
    "cat_gen_df = process_categories_and_genres(price_df)\n",
    "cat_gen_df[['appid', 'categories', 'genres']].head()"
   ]
  },
  {
   "cell_type": "markdown",
   "metadata": {},
   "source": [
    "### Processing Game Descriptions"
   ]
  },
  {
   "cell_type": "code",
   "execution_count": 180,
   "metadata": {},
   "outputs": [
    {
     "data": {
      "text/plain": [
       "detailed_description     81\n",
       "about_the_game          106\n",
       "short_description        24\n",
       "dtype: int64"
      ]
     },
     "execution_count": 180,
     "metadata": {},
     "output_type": "execute_result"
    }
   ],
   "source": [
    "cat_gen_df[['detailed_description', 'about_the_game', 'short_description']].isnull().sum()"
   ]
  },
  {
   "cell_type": "code",
   "execution_count": 183,
   "metadata": {},
   "outputs": [
    {
     "data": {
      "text/html": [
       "<div>\n",
       "<style scoped>\n",
       "    .dataframe tbody tr th:only-of-type {\n",
       "        vertical-align: middle;\n",
       "    }\n",
       "\n",
       "    .dataframe tbody tr th {\n",
       "        vertical-align: top;\n",
       "    }\n",
       "\n",
       "    .dataframe thead th {\n",
       "        text-align: right;\n",
       "    }\n",
       "</style>\n",
       "<table border=\"1\" class=\"dataframe\">\n",
       "  <thead>\n",
       "    <tr style=\"text-align: right;\">\n",
       "      <th></th>\n",
       "      <th>type</th>\n",
       "      <th>name</th>\n",
       "      <th>appid</th>\n",
       "      <th>required_age</th>\n",
       "      <th>controller_support</th>\n",
       "      <th>dlc</th>\n",
       "      <th>detailed_description</th>\n",
       "      <th>about_the_game</th>\n",
       "      <th>short_description</th>\n",
       "      <th>reviews</th>\n",
       "      <th>header_image</th>\n",
       "      <th>capsule_image</th>\n",
       "      <th>website</th>\n",
       "      <th>requirements</th>\n",
       "      <th>platform</th>\n",
       "      <th>metacritic</th>\n",
       "      <th>categories</th>\n",
       "      <th>genres</th>\n",
       "      <th>recommendations</th>\n",
       "      <th>achievements</th>\n",
       "      <th>release_date</th>\n",
       "      <th>coming_soon</th>\n",
       "      <th>english</th>\n",
       "      <th>developer</th>\n",
       "      <th>publisher</th>\n",
       "      <th>price</th>\n",
       "    </tr>\n",
       "  </thead>\n",
       "  <tbody>\n",
       "    <tr>\n",
       "      <th>11716</th>\n",
       "      <td>game</td>\n",
       "      <td>Gamepad Controller Template</td>\n",
       "      <td>523080</td>\n",
       "      <td>0</td>\n",
       "      <td>None</td>\n",
       "      <td>[]</td>\n",
       "      <td>None</td>\n",
       "      <td>None</td>\n",
       "      <td>None</td>\n",
       "      <td>None</td>\n",
       "      <td>https://shared.akamai.steamstatic.com/store_it...</td>\n",
       "      <td>https://shared.akamai.steamstatic.com/store_it...</td>\n",
       "      <td>None</td>\n",
       "      <td>{\"minimum\": \"&lt;strong&gt;Minimum:&lt;/strong&gt;&lt;br&gt;&lt;ul ...</td>\n",
       "      <td>mac;windows</td>\n",
       "      <td>0</td>\n",
       "      <td>Single-player;Multi-player;PvP;Shared/Split Sc...</td>\n",
       "      <td>Action;Casual;Indie;Sports;Early Access</td>\n",
       "      <td>0</td>\n",
       "      <td>0</td>\n",
       "      <td>1 Sep, 2016</td>\n",
       "      <td>0</td>\n",
       "      <td>1</td>\n",
       "      <td>K</td>\n",
       "      <td>K</td>\n",
       "      <td>5.34</td>\n",
       "    </tr>\n",
       "    <tr>\n",
       "      <th>25809</th>\n",
       "      <td>game</td>\n",
       "      <td>Tranquil Garden</td>\n",
       "      <td>891520</td>\n",
       "      <td>0</td>\n",
       "      <td>None</td>\n",
       "      <td>[]</td>\n",
       "      <td>None</td>\n",
       "      <td>None</td>\n",
       "      <td>None</td>\n",
       "      <td>None</td>\n",
       "      <td>https://shared.akamai.steamstatic.com/store_it...</td>\n",
       "      <td>https://shared.akamai.steamstatic.com/store_it...</td>\n",
       "      <td>https://glassrobotgames.com/tranquil-garden</td>\n",
       "      <td>{\"minimum\": \"&lt;strong&gt;Minimum:&lt;/strong&gt;&lt;br&gt;&lt;ul ...</td>\n",
       "      <td>windows</td>\n",
       "      <td>0</td>\n",
       "      <td>Single-player;Partial Controller Support;Famil...</td>\n",
       "      <td>Adventure;Casual;Indie;RPG;Strategy</td>\n",
       "      <td>0</td>\n",
       "      <td>0</td>\n",
       "      <td>Sep 18, 2020</td>\n",
       "      <td>0</td>\n",
       "      <td>1</td>\n",
       "      <td>Glass Robot</td>\n",
       "      <td>VoxPop Games, Inc.</td>\n",
       "      <td>-1.00</td>\n",
       "    </tr>\n",
       "    <tr>\n",
       "      <th>34299</th>\n",
       "      <td>game</td>\n",
       "      <td>CLOSED</td>\n",
       "      <td>1131330</td>\n",
       "      <td>18</td>\n",
       "      <td>None</td>\n",
       "      <td>[]</td>\n",
       "      <td>None</td>\n",
       "      <td>None</td>\n",
       "      <td>None</td>\n",
       "      <td>None</td>\n",
       "      <td>https://shared.akamai.steamstatic.com/store_it...</td>\n",
       "      <td>https://shared.akamai.steamstatic.com/store_it...</td>\n",
       "      <td>None</td>\n",
       "      <td>{\"minimum\": \"&lt;strong&gt;Minimum:&lt;/strong&gt;&lt;br&gt;&lt;ul ...</td>\n",
       "      <td>windows</td>\n",
       "      <td>0</td>\n",
       "      <td>Single-player;Partial Controller Support;Steam...</td>\n",
       "      <td>Action;Indie;RPG</td>\n",
       "      <td>0</td>\n",
       "      <td>0</td>\n",
       "      <td>Sep 3, 2019</td>\n",
       "      <td>0</td>\n",
       "      <td>1</td>\n",
       "      <td>Kazuya;tensun3d</td>\n",
       "      <td>赤いトンボ</td>\n",
       "      <td>-1.00</td>\n",
       "    </tr>\n",
       "    <tr>\n",
       "      <th>35292</th>\n",
       "      <td>game</td>\n",
       "      <td>Lif</td>\n",
       "      <td>1157360</td>\n",
       "      <td>0</td>\n",
       "      <td>None</td>\n",
       "      <td>[]</td>\n",
       "      <td>None</td>\n",
       "      <td>None</td>\n",
       "      <td>None</td>\n",
       "      <td>None</td>\n",
       "      <td>https://shared.akamai.steamstatic.com/store_it...</td>\n",
       "      <td>https://shared.akamai.steamstatic.com/store_it...</td>\n",
       "      <td>None</td>\n",
       "      <td>{\"minimum\": \"&lt;strong&gt;Minimum:&lt;/strong&gt;&lt;br&gt;&lt;ul ...</td>\n",
       "      <td>linux</td>\n",
       "      <td>0</td>\n",
       "      <td>Single-player;Family Sharing</td>\n",
       "      <td>Action;Indie;RPG;Sports</td>\n",
       "      <td>0</td>\n",
       "      <td>0</td>\n",
       "      <td>Sep 27, 2019</td>\n",
       "      <td>0</td>\n",
       "      <td>1</td>\n",
       "      <td>MZ</td>\n",
       "      <td>MZ</td>\n",
       "      <td>-1.00</td>\n",
       "    </tr>\n",
       "    <tr>\n",
       "      <th>35974</th>\n",
       "      <td>game</td>\n",
       "      <td>Math The Question</td>\n",
       "      <td>1176440</td>\n",
       "      <td>0</td>\n",
       "      <td>None</td>\n",
       "      <td>[]</td>\n",
       "      <td>None</td>\n",
       "      <td>None</td>\n",
       "      <td>None</td>\n",
       "      <td>None</td>\n",
       "      <td>https://shared.akamai.steamstatic.com/store_it...</td>\n",
       "      <td>https://shared.akamai.steamstatic.com/store_it...</td>\n",
       "      <td>None</td>\n",
       "      <td>{\"minimum\": \"&lt;strong&gt;Minimum:&lt;/strong&gt;&lt;br&gt;&lt;ul ...</td>\n",
       "      <td>windows</td>\n",
       "      <td>0</td>\n",
       "      <td>Single-player;Family Sharing</td>\n",
       "      <td>Casual;Indie</td>\n",
       "      <td>0</td>\n",
       "      <td>0</td>\n",
       "      <td>Oct 24, 2019</td>\n",
       "      <td>0</td>\n",
       "      <td>1</td>\n",
       "      <td>K'sG</td>\n",
       "      <td>K'sG</td>\n",
       "      <td>-1.00</td>\n",
       "    </tr>\n",
       "  </tbody>\n",
       "</table>\n",
       "</div>"
      ],
      "text/plain": [
       "       type                         name    appid required_age  \\\n",
       "11716  game  Gamepad Controller Template   523080            0   \n",
       "25809  game              Tranquil Garden   891520            0   \n",
       "34299  game                       CLOSED  1131330           18   \n",
       "35292  game                          Lif  1157360            0   \n",
       "35974  game            Math The Question  1176440            0   \n",
       "\n",
       "      controller_support dlc detailed_description about_the_game  \\\n",
       "11716               None  []                 None           None   \n",
       "25809               None  []                 None           None   \n",
       "34299               None  []                 None           None   \n",
       "35292               None  []                 None           None   \n",
       "35974               None  []                 None           None   \n",
       "\n",
       "      short_description reviews  \\\n",
       "11716              None    None   \n",
       "25809              None    None   \n",
       "34299              None    None   \n",
       "35292              None    None   \n",
       "35974              None    None   \n",
       "\n",
       "                                            header_image  \\\n",
       "11716  https://shared.akamai.steamstatic.com/store_it...   \n",
       "25809  https://shared.akamai.steamstatic.com/store_it...   \n",
       "34299  https://shared.akamai.steamstatic.com/store_it...   \n",
       "35292  https://shared.akamai.steamstatic.com/store_it...   \n",
       "35974  https://shared.akamai.steamstatic.com/store_it...   \n",
       "\n",
       "                                           capsule_image  \\\n",
       "11716  https://shared.akamai.steamstatic.com/store_it...   \n",
       "25809  https://shared.akamai.steamstatic.com/store_it...   \n",
       "34299  https://shared.akamai.steamstatic.com/store_it...   \n",
       "35292  https://shared.akamai.steamstatic.com/store_it...   \n",
       "35974  https://shared.akamai.steamstatic.com/store_it...   \n",
       "\n",
       "                                           website  \\\n",
       "11716                                         None   \n",
       "25809  https://glassrobotgames.com/tranquil-garden   \n",
       "34299                                         None   \n",
       "35292                                         None   \n",
       "35974                                         None   \n",
       "\n",
       "                                            requirements     platform  \\\n",
       "11716  {\"minimum\": \"<strong>Minimum:</strong><br><ul ...  mac;windows   \n",
       "25809  {\"minimum\": \"<strong>Minimum:</strong><br><ul ...      windows   \n",
       "34299  {\"minimum\": \"<strong>Minimum:</strong><br><ul ...      windows   \n",
       "35292  {\"minimum\": \"<strong>Minimum:</strong><br><ul ...        linux   \n",
       "35974  {\"minimum\": \"<strong>Minimum:</strong><br><ul ...      windows   \n",
       "\n",
       "       metacritic                                         categories  \\\n",
       "11716           0  Single-player;Multi-player;PvP;Shared/Split Sc...   \n",
       "25809           0  Single-player;Partial Controller Support;Famil...   \n",
       "34299           0  Single-player;Partial Controller Support;Steam...   \n",
       "35292           0                       Single-player;Family Sharing   \n",
       "35974           0                       Single-player;Family Sharing   \n",
       "\n",
       "                                        genres  recommendations  achievements  \\\n",
       "11716  Action;Casual;Indie;Sports;Early Access                0             0   \n",
       "25809      Adventure;Casual;Indie;RPG;Strategy                0             0   \n",
       "34299                         Action;Indie;RPG                0             0   \n",
       "35292                  Action;Indie;RPG;Sports                0             0   \n",
       "35974                             Casual;Indie                0             0   \n",
       "\n",
       "       release_date  coming_soon  english        developer  \\\n",
       "11716   1 Sep, 2016            0        1                K   \n",
       "25809  Sep 18, 2020            0        1      Glass Robot   \n",
       "34299   Sep 3, 2019            0        1  Kazuya;tensun3d   \n",
       "35292  Sep 27, 2019            0        1               MZ   \n",
       "35974  Oct 24, 2019            0        1             K'sG   \n",
       "\n",
       "                publisher  price  \n",
       "11716                   K   5.34  \n",
       "25809  VoxPop Games, Inc.  -1.00  \n",
       "34299               赤いトンボ  -1.00  \n",
       "35292                  MZ  -1.00  \n",
       "35974                K'sG  -1.00  "
      ]
     },
     "execution_count": 183,
     "metadata": {},
     "output_type": "execute_result"
    }
   ],
   "source": [
    "cat_gen_df[(cat_gen_df['detailed_description'].isnull()) & (cat_gen_df['about_the_game'].isnull()) & (cat_gen_df['short_description'].isnull())].head()"
   ]
  },
  {
   "cell_type": "code",
   "execution_count": null,
   "metadata": {},
   "outputs": [],
   "source": []
  },
  {
   "cell_type": "code",
   "execution_count": 189,
   "metadata": {},
   "outputs": [
    {
     "name": "stdout",
     "output_type": "stream",
     "text": [
      "type 0\n",
      "name 0\n",
      "appid 0\n",
      "required_age 0\n",
      "controller_support 0\n",
      "dlc 0\n",
      "detailed_description 0\n",
      "about_the_game 0\n",
      "short_description 0\n",
      "reviews 0\n",
      "header_image 0\n",
      "capsule_image 0\n",
      "website 0\n",
      "requirements 0\n",
      "platform 0\n",
      "metacritic 0\n",
      "categories 0\n",
      "genres 0\n",
      "recommendations 0\n",
      "achievements 0\n",
      "release_date 0\n",
      "coming_soon 0\n",
      "english 0\n",
      "developer 0\n",
      "publisher 0\n",
      "price 0\n"
     ]
    }
   ],
   "source": [
    "for i in cat_gen_df.columns:\n",
    "    print(i, cat_gen_df[cat_gen_df[i]=='none'].shape[0])"
   ]
  },
  {
   "cell_type": "code",
   "execution_count": 184,
   "metadata": {},
   "outputs": [
    {
     "data": {
      "text/html": [
       "<div>\n",
       "<style scoped>\n",
       "    .dataframe tbody tr th:only-of-type {\n",
       "        vertical-align: middle;\n",
       "    }\n",
       "\n",
       "    .dataframe tbody tr th {\n",
       "        vertical-align: top;\n",
       "    }\n",
       "\n",
       "    .dataframe thead th {\n",
       "        text-align: right;\n",
       "    }\n",
       "</style>\n",
       "<table border=\"1\" class=\"dataframe\">\n",
       "  <thead>\n",
       "    <tr style=\"text-align: right;\">\n",
       "      <th></th>\n",
       "      <th>type</th>\n",
       "      <th>name</th>\n",
       "      <th>appid</th>\n",
       "      <th>required_age</th>\n",
       "      <th>is_free</th>\n",
       "      <th>controller_support</th>\n",
       "      <th>dlc</th>\n",
       "      <th>detailed_description</th>\n",
       "      <th>about_the_game</th>\n",
       "      <th>short_description</th>\n",
       "      <th>supported_languages</th>\n",
       "      <th>reviews</th>\n",
       "      <th>header_image</th>\n",
       "      <th>capsule_image</th>\n",
       "      <th>website</th>\n",
       "      <th>requirements</th>\n",
       "      <th>developers</th>\n",
       "      <th>publishers</th>\n",
       "      <th>price_overview</th>\n",
       "      <th>platform</th>\n",
       "      <th>metacritic</th>\n",
       "      <th>categories</th>\n",
       "      <th>genres</th>\n",
       "      <th>recommendations</th>\n",
       "      <th>achievements</th>\n",
       "      <th>release_date</th>\n",
       "      <th>coming_soon</th>\n",
       "    </tr>\n",
       "  </thead>\n",
       "  <tbody>\n",
       "    <tr>\n",
       "      <th>20052</th>\n",
       "      <td>game</td>\n",
       "      <td>Cut 2017</td>\n",
       "      <td>745840</td>\n",
       "      <td>0</td>\n",
       "      <td>0</td>\n",
       "      <td>None</td>\n",
       "      <td>[]</td>\n",
       "      <td>Casual games with a little bit of horror.</td>\n",
       "      <td>Casual games with a little bit of horror.</td>\n",
       "      <td>Casual games with a little bit of horror.</td>\n",
       "      <td>Simplified Chinese</td>\n",
       "      <td>None</td>\n",
       "      <td>https://shared.akamai.steamstatic.com/store_it...</td>\n",
       "      <td>https://shared.akamai.steamstatic.com/store_it...</td>\n",
       "      <td>None</td>\n",
       "      <td>{\"minimum\": \"&lt;strong&gt;Minimum:&lt;/strong&gt;&lt;br&gt;&lt;ul ...</td>\n",
       "      <td>[\"Mianwowo\"]</td>\n",
       "      <td>[\"Mianwowo\"]</td>\n",
       "      <td>{\"final\": 599, \"initial\": 599, \"currency\": \"US...</td>\n",
       "      <td>{\"mac\": true, \"linux\": false, \"windows\": true}</td>\n",
       "      <td>0</td>\n",
       "      <td>[{\"id\": 2, \"description\": \"Single-player\"}, {\"...</td>\n",
       "      <td>[{\"id\": \"25\", \"description\": \"Adventure\"}, {\"i...</td>\n",
       "      <td>0</td>\n",
       "      <td>11</td>\n",
       "      <td>Nov 29, 2017</td>\n",
       "      <td>0</td>\n",
       "    </tr>\n",
       "  </tbody>\n",
       "</table>\n",
       "</div>"
      ],
      "text/plain": [
       "       type      name   appid  required_age  is_free controller_support dlc  \\\n",
       "20052  game  Cut 2017  745840             0        0               None  []   \n",
       "\n",
       "                            detailed_description  \\\n",
       "20052  Casual games with a little bit of horror.   \n",
       "\n",
       "                                  about_the_game  \\\n",
       "20052  Casual games with a little bit of horror.   \n",
       "\n",
       "                               short_description supported_languages reviews  \\\n",
       "20052  Casual games with a little bit of horror.  Simplified Chinese    None   \n",
       "\n",
       "                                            header_image  \\\n",
       "20052  https://shared.akamai.steamstatic.com/store_it...   \n",
       "\n",
       "                                           capsule_image website  \\\n",
       "20052  https://shared.akamai.steamstatic.com/store_it...    None   \n",
       "\n",
       "                                            requirements    developers  \\\n",
       "20052  {\"minimum\": \"<strong>Minimum:</strong><br><ul ...  [\"Mianwowo\"]   \n",
       "\n",
       "         publishers                                     price_overview  \\\n",
       "20052  [\"Mianwowo\"]  {\"final\": 599, \"initial\": 599, \"currency\": \"US...   \n",
       "\n",
       "                                             platform  metacritic  \\\n",
       "20052  {\"mac\": true, \"linux\": false, \"windows\": true}           0   \n",
       "\n",
       "                                              categories  \\\n",
       "20052  [{\"id\": 2, \"description\": \"Single-player\"}, {\"...   \n",
       "\n",
       "                                                  genres  recommendations  \\\n",
       "20052  [{\"id\": \"25\", \"description\": \"Adventure\"}, {\"i...                0   \n",
       "\n",
       "       achievements  release_date  coming_soon  \n",
       "20052            11  Nov 29, 2017            0  "
      ]
     },
     "execution_count": 184,
     "metadata": {},
     "output_type": "execute_result"
    }
   ],
   "source": [
    "raw_steam_data[raw_steam_data['appid']==745840]"
   ]
  },
  {
   "cell_type": "code",
   "execution_count": 186,
   "metadata": {},
   "outputs": [
    {
     "data": {
      "text/plain": [
       "type                        0\n",
       "name                        0\n",
       "appid                       0\n",
       "required_age                0\n",
       "controller_support      55668\n",
       "dlc                         0\n",
       "detailed_description       81\n",
       "about_the_game            106\n",
       "short_description          24\n",
       "reviews                 62167\n",
       "header_image                0\n",
       "capsule_image               0\n",
       "website                 35539\n",
       "requirements                0\n",
       "platform                    0\n",
       "metacritic                  0\n",
       "categories                  0\n",
       "genres                      0\n",
       "recommendations             0\n",
       "achievements                0\n",
       "release_date               89\n",
       "coming_soon                 0\n",
       "english                     0\n",
       "developer                   0\n",
       "publisher                   0\n",
       "price                       0\n",
       "dtype: int64"
      ]
     },
     "execution_count": 186,
     "metadata": {},
     "output_type": "execute_result"
    }
   ],
   "source": [
    "cat_gen_df.isnull().sum()"
   ]
  },
  {
   "cell_type": "code",
   "execution_count": 187,
   "metadata": {},
   "outputs": [
    {
     "data": {
      "text/plain": [
       "(19, 26)"
      ]
     },
     "execution_count": 187,
     "metadata": {},
     "output_type": "execute_result"
    }
   ],
   "source": [
    "cat_gen_df[cat_gen_df['release_date'].isna() & cat_gen_df['coming_soon'] == 1].shape"
   ]
  },
  {
   "cell_type": "code",
   "execution_count": 193,
   "metadata": {},
   "outputs": [
    {
     "data": {
      "text/plain": [
       "(27, 26)"
      ]
     },
     "execution_count": 193,
     "metadata": {},
     "output_type": "execute_result"
    }
   ],
   "source": [
    "cat_gen_df[cat_gen_df['requirements']==\"{}\"].shape"
   ]
  },
  {
   "cell_type": "code",
   "execution_count": null,
   "metadata": {},
   "outputs": [],
   "source": []
  }
 ],
 "metadata": {
  "kernelspec": {
   "display_name": "game",
   "language": "python",
   "name": "python3"
  },
  "language_info": {
   "codemirror_mode": {
    "name": "ipython",
    "version": 3
   },
   "file_extension": ".py",
   "mimetype": "text/x-python",
   "name": "python",
   "nbconvert_exporter": "python",
   "pygments_lexer": "ipython3",
   "version": "3.12.4"
  }
 },
 "nbformat": 4,
 "nbformat_minor": 2
}
