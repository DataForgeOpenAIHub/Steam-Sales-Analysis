{
 "cells": [
  {
   "cell_type": "code",
   "execution_count": 27,
   "metadata": {},
   "outputs": [],
   "source": [
    "import os\n",
    "import sys\n",
    "\n",
    "curr_dir = os.getcwd()\n",
    "src_dir = os.path.join(os.path.dirname(curr_dir), \"src\")\n",
    "sql_dir = os.path.join(os.path.dirname(curr_dir), \"sql\")\n",
    "sys.path.append(src_dir)\n",
    "sys.path.append(sql_dir)"
   ]
  },
  {
   "cell_type": "code",
   "execution_count": 28,
   "metadata": {},
   "outputs": [],
   "source": [
    "import json\n",
    "import warnings\n",
    "from ast import literal_eval\n",
    "\n",
    "import matplotlib.pyplot as plt\n",
    "import pandas as pd\n",
    "import seaborn as sns\n",
    "from data_cleaning import print_steam_links\n",
    "from db import get_db\n",
    "from settings import Path\n",
    "from sqlalchemy import text\n",
    "\n",
    "warnings.filterwarnings(\"ignore\")\n",
    "pd.set_option(\"display.max_columns\", 100)"
   ]
  },
  {
   "cell_type": "markdown",
   "metadata": {},
   "source": [
    "### Data Extraction from SQL Database"
   ]
  },
  {
   "cell_type": "code",
   "execution_count": 29,
   "metadata": {},
   "outputs": [],
   "source": [
    "def fetch_data(source: str):\n",
    "    \"\"\"\n",
    "    Fetches data from a specified source and returns it as a pandas DataFrame.\n",
    "\n",
    "    Parameters:\n",
    "    source (str): The name of the source file containing the SQL query.\n",
    "\n",
    "    Returns:\n",
    "    pandas.DataFrame: The fetched data as a DataFrame.\n",
    "\n",
    "    \"\"\"\n",
    "    db = get_db()\n",
    "\n",
    "    with open(os.path.join(sql_dir, source), \"r\") as f:\n",
    "        query = text(f.read())\n",
    "    result = db.execute(query)\n",
    "    data = result.fetchall()\n",
    "    columns = result.keys()\n",
    "    df = pd.DataFrame(data, columns=columns)\n",
    "\n",
    "    db.close()\n",
    "\n",
    "    return df\n",
    "\n",
    "steam_data = fetch_data(\"get_all_steam_data.sql\")"
   ]
  },
  {
   "cell_type": "code",
   "execution_count": 30,
   "metadata": {},
   "outputs": [
    {
     "data": {
      "text/html": [
       "<div>\n",
       "<style scoped>\n",
       "    .dataframe tbody tr th:only-of-type {\n",
       "        vertical-align: middle;\n",
       "    }\n",
       "\n",
       "    .dataframe tbody tr th {\n",
       "        vertical-align: top;\n",
       "    }\n",
       "\n",
       "    .dataframe thead th {\n",
       "        text-align: right;\n",
       "    }\n",
       "</style>\n",
       "<table border=\"1\" class=\"dataframe\">\n",
       "  <thead>\n",
       "    <tr style=\"text-align: right;\">\n",
       "      <th></th>\n",
       "      <th>type</th>\n",
       "      <th>name</th>\n",
       "      <th>appid</th>\n",
       "      <th>required_age</th>\n",
       "      <th>is_free</th>\n",
       "      <th>controller_support</th>\n",
       "      <th>dlc</th>\n",
       "      <th>detailed_description</th>\n",
       "      <th>about_the_game</th>\n",
       "      <th>short_description</th>\n",
       "      <th>supported_languages</th>\n",
       "      <th>reviews</th>\n",
       "      <th>header_image</th>\n",
       "      <th>capsule_image</th>\n",
       "      <th>website</th>\n",
       "      <th>requirements</th>\n",
       "      <th>developers</th>\n",
       "      <th>publishers</th>\n",
       "      <th>price_overview</th>\n",
       "      <th>platform</th>\n",
       "      <th>metacritic</th>\n",
       "      <th>categories</th>\n",
       "      <th>genres</th>\n",
       "      <th>recommendations</th>\n",
       "      <th>achievements</th>\n",
       "      <th>release_date</th>\n",
       "      <th>coming_soon</th>\n",
       "    </tr>\n",
       "  </thead>\n",
       "  <tbody>\n",
       "    <tr>\n",
       "      <th>0</th>\n",
       "      <td>game</td>\n",
       "      <td>Counter-Strike</td>\n",
       "      <td>10</td>\n",
       "      <td>0</td>\n",
       "      <td>0</td>\n",
       "      <td>None</td>\n",
       "      <td>[]</td>\n",
       "      <td>Play the world's number 1 online action game. ...</td>\n",
       "      <td>Play the world's number 1 online action game. ...</td>\n",
       "      <td>Play the world's number 1 online action game. ...</td>\n",
       "      <td>English\\n*\\n, French\\n*\\n, German\\n*\\n, Italia...</td>\n",
       "      <td>None</td>\n",
       "      <td>https://shared.akamai.steamstatic.com/store_it...</td>\n",
       "      <td>https://shared.akamai.steamstatic.com/store_it...</td>\n",
       "      <td></td>\n",
       "      <td>{\"minimum\": \"\\r\\n\\t\\t\\t&lt;p&gt;&lt;strong&gt;Minimum:&lt;/st...</td>\n",
       "      <td>[\"Valve\"]</td>\n",
       "      <td>[\"Valve\"]</td>\n",
       "      <td>{\"final\": 99, \"initial\": 999, \"currency\": \"USD...</td>\n",
       "      <td>{\"mac\": true, \"linux\": true, \"windows\": true}</td>\n",
       "      <td>88</td>\n",
       "      <td>[{\"id\": 1, \"description\": \"Multi-player\"}, {\"i...</td>\n",
       "      <td>[{\"id\": \"1\", \"description\": \"Action\"}]</td>\n",
       "      <td>150423</td>\n",
       "      <td>0</td>\n",
       "      <td>Nov 1, 2000</td>\n",
       "      <td>0</td>\n",
       "    </tr>\n",
       "    <tr>\n",
       "      <th>1</th>\n",
       "      <td>game</td>\n",
       "      <td>Team Fortress Classic</td>\n",
       "      <td>20</td>\n",
       "      <td>0</td>\n",
       "      <td>0</td>\n",
       "      <td>None</td>\n",
       "      <td>[]</td>\n",
       "      <td>One of the most popular online action games of...</td>\n",
       "      <td>One of the most popular online action games of...</td>\n",
       "      <td>One of the most popular online action games of...</td>\n",
       "      <td>English, French, German, Italian, Spanish - Sp...</td>\n",
       "      <td>None</td>\n",
       "      <td>https://shared.akamai.steamstatic.com/store_it...</td>\n",
       "      <td>https://shared.akamai.steamstatic.com/store_it...</td>\n",
       "      <td></td>\n",
       "      <td>{\"minimum\": \"\\r\\n\\t\\t\\t&lt;p&gt;&lt;strong&gt;Minimum:&lt;/st...</td>\n",
       "      <td>[\"Valve\"]</td>\n",
       "      <td>[\"Valve\"]</td>\n",
       "      <td>{\"final\": 74, \"initial\": 499, \"currency\": \"USD...</td>\n",
       "      <td>{\"mac\": true, \"linux\": true, \"windows\": true}</td>\n",
       "      <td>0</td>\n",
       "      <td>[{\"id\": 1, \"description\": \"Multi-player\"}, {\"i...</td>\n",
       "      <td>[{\"id\": \"1\", \"description\": \"Action\"}]</td>\n",
       "      <td>6133</td>\n",
       "      <td>0</td>\n",
       "      <td>Apr 1, 1999</td>\n",
       "      <td>0</td>\n",
       "    </tr>\n",
       "    <tr>\n",
       "      <th>2</th>\n",
       "      <td>game</td>\n",
       "      <td>Day of Defeat</td>\n",
       "      <td>30</td>\n",
       "      <td>0</td>\n",
       "      <td>0</td>\n",
       "      <td>None</td>\n",
       "      <td>[]</td>\n",
       "      <td>Enlist in an intense brand of Axis vs. Allied ...</td>\n",
       "      <td>Enlist in an intense brand of Axis vs. Allied ...</td>\n",
       "      <td>Enlist in an intense brand of Axis vs. Allied ...</td>\n",
       "      <td>English, French, German, Italian, Spanish - Spain</td>\n",
       "      <td>None</td>\n",
       "      <td>https://shared.akamai.steamstatic.com/store_it...</td>\n",
       "      <td>https://shared.akamai.steamstatic.com/store_it...</td>\n",
       "      <td>http://www.dayofdefeat.com/</td>\n",
       "      <td>{\"minimum\": \"\\r\\n\\t\\t\\t&lt;p&gt;&lt;strong&gt;Minimum:&lt;/st...</td>\n",
       "      <td>[\"Valve\"]</td>\n",
       "      <td>[\"Valve\"]</td>\n",
       "      <td>{\"final\": 74, \"initial\": 499, \"currency\": \"USD...</td>\n",
       "      <td>{\"mac\": true, \"linux\": true, \"windows\": true}</td>\n",
       "      <td>79</td>\n",
       "      <td>[{\"id\": 1, \"description\": \"Multi-player\"}, {\"i...</td>\n",
       "      <td>[{\"id\": \"1\", \"description\": \"Action\"}]</td>\n",
       "      <td>4074</td>\n",
       "      <td>0</td>\n",
       "      <td>May 1, 2003</td>\n",
       "      <td>0</td>\n",
       "    </tr>\n",
       "    <tr>\n",
       "      <th>3</th>\n",
       "      <td>game</td>\n",
       "      <td>Deathmatch Classic</td>\n",
       "      <td>40</td>\n",
       "      <td>0</td>\n",
       "      <td>0</td>\n",
       "      <td>None</td>\n",
       "      <td>[]</td>\n",
       "      <td>Enjoy fast-paced multiplayer gaming with Death...</td>\n",
       "      <td>Enjoy fast-paced multiplayer gaming with Death...</td>\n",
       "      <td>Enjoy fast-paced multiplayer gaming with Death...</td>\n",
       "      <td>English, French, German, Italian, Spanish - Sp...</td>\n",
       "      <td>None</td>\n",
       "      <td>https://shared.akamai.steamstatic.com/store_it...</td>\n",
       "      <td>https://shared.akamai.steamstatic.com/store_it...</td>\n",
       "      <td></td>\n",
       "      <td>{\"minimum\": \"\\r\\n\\t\\t\\t&lt;p&gt;&lt;strong&gt;Minimum:&lt;/st...</td>\n",
       "      <td>[\"Valve\"]</td>\n",
       "      <td>[\"Valve\"]</td>\n",
       "      <td>{\"final\": 74, \"initial\": 499, \"currency\": \"USD...</td>\n",
       "      <td>{\"mac\": true, \"linux\": true, \"windows\": true}</td>\n",
       "      <td>0</td>\n",
       "      <td>[{\"id\": 1, \"description\": \"Multi-player\"}, {\"i...</td>\n",
       "      <td>[{\"id\": \"1\", \"description\": \"Action\"}]</td>\n",
       "      <td>2149</td>\n",
       "      <td>0</td>\n",
       "      <td>Jun 1, 2001</td>\n",
       "      <td>0</td>\n",
       "    </tr>\n",
       "    <tr>\n",
       "      <th>4</th>\n",
       "      <td>game</td>\n",
       "      <td>Half-Life: Opposing Force</td>\n",
       "      <td>50</td>\n",
       "      <td>0</td>\n",
       "      <td>0</td>\n",
       "      <td>None</td>\n",
       "      <td>[]</td>\n",
       "      <td>Return to the Black Mesa Research Facility as ...</td>\n",
       "      <td>Return to the Black Mesa Research Facility as ...</td>\n",
       "      <td>Return to the Black Mesa Research Facility as ...</td>\n",
       "      <td>English, French, German, Korean</td>\n",
       "      <td>None</td>\n",
       "      <td>https://shared.akamai.steamstatic.com/store_it...</td>\n",
       "      <td>https://shared.akamai.steamstatic.com/store_it...</td>\n",
       "      <td></td>\n",
       "      <td>{\"minimum\": \"\\r\\n\\t\\t\\t&lt;p&gt;&lt;strong&gt;Minimum:&lt;/st...</td>\n",
       "      <td>[\"Gearbox Software\"]</td>\n",
       "      <td>[\"Valve\"]</td>\n",
       "      <td>{\"final\": 74, \"initial\": 499, \"currency\": \"USD...</td>\n",
       "      <td>{\"mac\": true, \"linux\": true, \"windows\": true}</td>\n",
       "      <td>0</td>\n",
       "      <td>[{\"id\": 2, \"description\": \"Single-player\"}, {\"...</td>\n",
       "      <td>[{\"id\": \"1\", \"description\": \"Action\"}]</td>\n",
       "      <td>19244</td>\n",
       "      <td>0</td>\n",
       "      <td>Nov 1, 1999</td>\n",
       "      <td>0</td>\n",
       "    </tr>\n",
       "    <tr>\n",
       "      <th>...</th>\n",
       "      <td>...</td>\n",
       "      <td>...</td>\n",
       "      <td>...</td>\n",
       "      <td>...</td>\n",
       "      <td>...</td>\n",
       "      <td>...</td>\n",
       "      <td>...</td>\n",
       "      <td>...</td>\n",
       "      <td>...</td>\n",
       "      <td>...</td>\n",
       "      <td>...</td>\n",
       "      <td>...</td>\n",
       "      <td>...</td>\n",
       "      <td>...</td>\n",
       "      <td>...</td>\n",
       "      <td>...</td>\n",
       "      <td>...</td>\n",
       "      <td>...</td>\n",
       "      <td>...</td>\n",
       "      <td>...</td>\n",
       "      <td>...</td>\n",
       "      <td>...</td>\n",
       "      <td>...</td>\n",
       "      <td>...</td>\n",
       "      <td>...</td>\n",
       "      <td>...</td>\n",
       "      <td>...</td>\n",
       "    </tr>\n",
       "    <tr>\n",
       "      <th>52934</th>\n",
       "      <td>game</td>\n",
       "      <td>Grocery Simulator</td>\n",
       "      <td>3032530</td>\n",
       "      <td>0</td>\n",
       "      <td>0</td>\n",
       "      <td>None</td>\n",
       "      <td>[]</td>\n",
       "      <td>Realistic Store Management\\nDesign, customize,...</td>\n",
       "      <td>Realistic Store Management\\nDesign, customize,...</td>\n",
       "      <td>Experience the thrill of managing your own gro...</td>\n",
       "      <td>English\\n*\\n*\\nlanguages with full audio support</td>\n",
       "      <td>None</td>\n",
       "      <td>https://shared.akamai.steamstatic.com/store_it...</td>\n",
       "      <td>https://shared.akamai.steamstatic.com/store_it...</td>\n",
       "      <td></td>\n",
       "      <td>{\"minimum\": \"&lt;strong&gt;Minimum:&lt;/strong&gt;&lt;br&gt;&lt;ul ...</td>\n",
       "      <td>[\"Roman Savenok\"]</td>\n",
       "      <td>[\"Roman Savenok\"]</td>\n",
       "      <td>{\"final\": 689, \"initial\": 689, \"currency\": \"EU...</td>\n",
       "      <td>{\"mac\": false, \"linux\": false, \"windows\": true}</td>\n",
       "      <td>0</td>\n",
       "      <td>[{\"id\": 2, \"description\": \"Single-player\"}, {\"...</td>\n",
       "      <td>[{\"id\": \"1\", \"description\": \"Action\"}, {\"id\": ...</td>\n",
       "      <td>0</td>\n",
       "      <td>0</td>\n",
       "      <td>22 Jun, 2024</td>\n",
       "      <td>0</td>\n",
       "    </tr>\n",
       "    <tr>\n",
       "      <th>52935</th>\n",
       "      <td>game</td>\n",
       "      <td>Quescaper</td>\n",
       "      <td>3033880</td>\n",
       "      <td>0</td>\n",
       "      <td>0</td>\n",
       "      <td>None</td>\n",
       "      <td>[]</td>\n",
       "      <td>You were thrown into a dungeon with the undead...</td>\n",
       "      <td>You were thrown into a dungeon with the undead...</td>\n",
       "      <td>You were thrown into a dungeon with the undead...</td>\n",
       "      <td>English, Russian</td>\n",
       "      <td>None</td>\n",
       "      <td>https://shared.akamai.steamstatic.com/store_it...</td>\n",
       "      <td>https://shared.akamai.steamstatic.com/store_it...</td>\n",
       "      <td></td>\n",
       "      <td>{\"minimum\": \"&lt;strong&gt;Minimum:&lt;/strong&gt;&lt;br&gt;&lt;ul ...</td>\n",
       "      <td>[\"Neki4 Electronics\"]</td>\n",
       "      <td>[\"Neki4 Electronics\"]</td>\n",
       "      <td>{\"final\": 199, \"initial\": 199, \"currency\": \"EU...</td>\n",
       "      <td>{\"mac\": false, \"linux\": false, \"windows\": true}</td>\n",
       "      <td>0</td>\n",
       "      <td>[{\"id\": 2, \"description\": \"Single-player\"}, {\"...</td>\n",
       "      <td>[{\"id\": \"1\", \"description\": \"Action\"}, {\"id\": ...</td>\n",
       "      <td>0</td>\n",
       "      <td>9</td>\n",
       "      <td>19 Jun, 2024</td>\n",
       "      <td>0</td>\n",
       "    </tr>\n",
       "    <tr>\n",
       "      <th>52936</th>\n",
       "      <td>game</td>\n",
       "      <td>USD Clicker</td>\n",
       "      <td>3035710</td>\n",
       "      <td>0</td>\n",
       "      <td>0</td>\n",
       "      <td>None</td>\n",
       "      <td>[3037840, 3037850, 3037860, 3037870, 3037880, ...</td>\n",
       "      <td>USD Clicker\\nis a simple clicker game where yo...</td>\n",
       "      <td>USD Clicker\\nis a simple clicker game where yo...</td>\n",
       "      <td>The most simple clicker game with endless USD ...</td>\n",
       "      <td>English</td>\n",
       "      <td>None</td>\n",
       "      <td>https://shared.akamai.steamstatic.com/store_it...</td>\n",
       "      <td>https://shared.akamai.steamstatic.com/store_it...</td>\n",
       "      <td></td>\n",
       "      <td>{\"minimum\": \"&lt;strong&gt;Minimum:&lt;/strong&gt;&lt;br&gt;&lt;ul ...</td>\n",
       "      <td>[\"RazDva Games\"]</td>\n",
       "      <td>[\"RazDva Games\"]</td>\n",
       "      <td>{\"final\": 79, \"initial\": 99, \"currency\": \"EUR\"...</td>\n",
       "      <td>{\"mac\": false, \"linux\": false, \"windows\": true}</td>\n",
       "      <td>0</td>\n",
       "      <td>[{\"id\": 2, \"description\": \"Single-player\"}, {\"...</td>\n",
       "      <td>[{\"id\": \"4\", \"description\": \"Casual\"}, {\"id\": ...</td>\n",
       "      <td>0</td>\n",
       "      <td>30</td>\n",
       "      <td>20 Jun, 2024</td>\n",
       "      <td>0</td>\n",
       "    </tr>\n",
       "    <tr>\n",
       "      <th>52937</th>\n",
       "      <td>game</td>\n",
       "      <td>Asterisk 2: Next -Now a Days-</td>\n",
       "      <td>3037470</td>\n",
       "      <td>0</td>\n",
       "      <td>0</td>\n",
       "      <td>None</td>\n",
       "      <td>[]</td>\n",
       "      <td>Introduction\\n\"Asterisk 2: Next Now a Day\" is ...</td>\n",
       "      <td>Introduction\\n\"Asterisk 2: Next Now a Day\" is ...</td>\n",
       "      <td>\"Asterisk 2: Next Now a Day\" is a JRPG created...</td>\n",
       "      <td>Simplified Chinese</td>\n",
       "      <td>None</td>\n",
       "      <td>https://shared.akamai.steamstatic.com/store_it...</td>\n",
       "      <td>https://shared.akamai.steamstatic.com/store_it...</td>\n",
       "      <td></td>\n",
       "      <td>{\"minimum\": \"&lt;strong&gt;Minimum:&lt;/strong&gt;&lt;br&gt;&lt;ul ...</td>\n",
       "      <td>[\"暗de刺客\"]</td>\n",
       "      <td>[\"TVM Studio\"]</td>\n",
       "      <td>{\"final\": 424, \"initial\": 499, \"currency\": \"EU...</td>\n",
       "      <td>{\"mac\": false, \"linux\": false, \"windows\": true}</td>\n",
       "      <td>0</td>\n",
       "      <td>[{\"id\": 2, \"description\": \"Single-player\"}, {\"...</td>\n",
       "      <td>[{\"id\": \"25\", \"description\": \"Adventure\"}, {\"i...</td>\n",
       "      <td>0</td>\n",
       "      <td>0</td>\n",
       "      <td>25 Jun, 2024</td>\n",
       "      <td>0</td>\n",
       "    </tr>\n",
       "    <tr>\n",
       "      <th>52938</th>\n",
       "      <td>game</td>\n",
       "      <td>Sealed</td>\n",
       "      <td>3039720</td>\n",
       "      <td>0</td>\n",
       "      <td>0</td>\n",
       "      <td>None</td>\n",
       "      <td>[]</td>\n",
       "      <td>Welcome to Sealed, a horror game that will imm...</td>\n",
       "      <td>Welcome to Sealed, a horror game that will imm...</td>\n",
       "      <td>Sealed is a horror game that will immerse you ...</td>\n",
       "      <td>English\\n*\\n*\\nlanguages with full audio support</td>\n",
       "      <td>None</td>\n",
       "      <td>https://shared.akamai.steamstatic.com/store_it...</td>\n",
       "      <td>https://shared.akamai.steamstatic.com/store_it...</td>\n",
       "      <td></td>\n",
       "      <td>{\"minimum\": \"&lt;strong&gt;Minimum:&lt;/strong&gt;&lt;br&gt;&lt;ul ...</td>\n",
       "      <td>[\"Doky\"]</td>\n",
       "      <td>[\"Doky\"]</td>\n",
       "      <td>{\"final\": 1079, \"initial\": 1079, \"currency\": \"...</td>\n",
       "      <td>{\"mac\": false, \"linux\": false, \"windows\": true}</td>\n",
       "      <td>0</td>\n",
       "      <td>[{\"id\": 2, \"description\": \"Single-player\"}, {\"...</td>\n",
       "      <td>[{\"id\": \"25\", \"description\": \"Adventure\"}, {\"i...</td>\n",
       "      <td>0</td>\n",
       "      <td>15</td>\n",
       "      <td>22 Jun, 2024</td>\n",
       "      <td>0</td>\n",
       "    </tr>\n",
       "  </tbody>\n",
       "</table>\n",
       "<p>52939 rows × 27 columns</p>\n",
       "</div>"
      ],
      "text/plain": [
       "       type                           name    appid  required_age  is_free  \\\n",
       "0      game                 Counter-Strike       10             0        0   \n",
       "1      game          Team Fortress Classic       20             0        0   \n",
       "2      game                  Day of Defeat       30             0        0   \n",
       "3      game             Deathmatch Classic       40             0        0   \n",
       "4      game      Half-Life: Opposing Force       50             0        0   \n",
       "...     ...                            ...      ...           ...      ...   \n",
       "52934  game              Grocery Simulator  3032530             0        0   \n",
       "52935  game                      Quescaper  3033880             0        0   \n",
       "52936  game                    USD Clicker  3035710             0        0   \n",
       "52937  game  Asterisk 2: Next -Now a Days-  3037470             0        0   \n",
       "52938  game                         Sealed  3039720             0        0   \n",
       "\n",
       "      controller_support                                                dlc  \\\n",
       "0                   None                                                 []   \n",
       "1                   None                                                 []   \n",
       "2                   None                                                 []   \n",
       "3                   None                                                 []   \n",
       "4                   None                                                 []   \n",
       "...                  ...                                                ...   \n",
       "52934               None                                                 []   \n",
       "52935               None                                                 []   \n",
       "52936               None  [3037840, 3037850, 3037860, 3037870, 3037880, ...   \n",
       "52937               None                                                 []   \n",
       "52938               None                                                 []   \n",
       "\n",
       "                                    detailed_description  \\\n",
       "0      Play the world's number 1 online action game. ...   \n",
       "1      One of the most popular online action games of...   \n",
       "2      Enlist in an intense brand of Axis vs. Allied ...   \n",
       "3      Enjoy fast-paced multiplayer gaming with Death...   \n",
       "4      Return to the Black Mesa Research Facility as ...   \n",
       "...                                                  ...   \n",
       "52934  Realistic Store Management\\nDesign, customize,...   \n",
       "52935  You were thrown into a dungeon with the undead...   \n",
       "52936  USD Clicker\\nis a simple clicker game where yo...   \n",
       "52937  Introduction\\n\"Asterisk 2: Next Now a Day\" is ...   \n",
       "52938  Welcome to Sealed, a horror game that will imm...   \n",
       "\n",
       "                                          about_the_game  \\\n",
       "0      Play the world's number 1 online action game. ...   \n",
       "1      One of the most popular online action games of...   \n",
       "2      Enlist in an intense brand of Axis vs. Allied ...   \n",
       "3      Enjoy fast-paced multiplayer gaming with Death...   \n",
       "4      Return to the Black Mesa Research Facility as ...   \n",
       "...                                                  ...   \n",
       "52934  Realistic Store Management\\nDesign, customize,...   \n",
       "52935  You were thrown into a dungeon with the undead...   \n",
       "52936  USD Clicker\\nis a simple clicker game where yo...   \n",
       "52937  Introduction\\n\"Asterisk 2: Next Now a Day\" is ...   \n",
       "52938  Welcome to Sealed, a horror game that will imm...   \n",
       "\n",
       "                                       short_description  \\\n",
       "0      Play the world's number 1 online action game. ...   \n",
       "1      One of the most popular online action games of...   \n",
       "2      Enlist in an intense brand of Axis vs. Allied ...   \n",
       "3      Enjoy fast-paced multiplayer gaming with Death...   \n",
       "4      Return to the Black Mesa Research Facility as ...   \n",
       "...                                                  ...   \n",
       "52934  Experience the thrill of managing your own gro...   \n",
       "52935  You were thrown into a dungeon with the undead...   \n",
       "52936  The most simple clicker game with endless USD ...   \n",
       "52937  \"Asterisk 2: Next Now a Day\" is a JRPG created...   \n",
       "52938  Sealed is a horror game that will immerse you ...   \n",
       "\n",
       "                                     supported_languages reviews  \\\n",
       "0      English\\n*\\n, French\\n*\\n, German\\n*\\n, Italia...    None   \n",
       "1      English, French, German, Italian, Spanish - Sp...    None   \n",
       "2      English, French, German, Italian, Spanish - Spain    None   \n",
       "3      English, French, German, Italian, Spanish - Sp...    None   \n",
       "4                        English, French, German, Korean    None   \n",
       "...                                                  ...     ...   \n",
       "52934   English\\n*\\n*\\nlanguages with full audio support    None   \n",
       "52935                                   English, Russian    None   \n",
       "52936                                            English    None   \n",
       "52937                                 Simplified Chinese    None   \n",
       "52938   English\\n*\\n*\\nlanguages with full audio support    None   \n",
       "\n",
       "                                            header_image  \\\n",
       "0      https://shared.akamai.steamstatic.com/store_it...   \n",
       "1      https://shared.akamai.steamstatic.com/store_it...   \n",
       "2      https://shared.akamai.steamstatic.com/store_it...   \n",
       "3      https://shared.akamai.steamstatic.com/store_it...   \n",
       "4      https://shared.akamai.steamstatic.com/store_it...   \n",
       "...                                                  ...   \n",
       "52934  https://shared.akamai.steamstatic.com/store_it...   \n",
       "52935  https://shared.akamai.steamstatic.com/store_it...   \n",
       "52936  https://shared.akamai.steamstatic.com/store_it...   \n",
       "52937  https://shared.akamai.steamstatic.com/store_it...   \n",
       "52938  https://shared.akamai.steamstatic.com/store_it...   \n",
       "\n",
       "                                           capsule_image  \\\n",
       "0      https://shared.akamai.steamstatic.com/store_it...   \n",
       "1      https://shared.akamai.steamstatic.com/store_it...   \n",
       "2      https://shared.akamai.steamstatic.com/store_it...   \n",
       "3      https://shared.akamai.steamstatic.com/store_it...   \n",
       "4      https://shared.akamai.steamstatic.com/store_it...   \n",
       "...                                                  ...   \n",
       "52934  https://shared.akamai.steamstatic.com/store_it...   \n",
       "52935  https://shared.akamai.steamstatic.com/store_it...   \n",
       "52936  https://shared.akamai.steamstatic.com/store_it...   \n",
       "52937  https://shared.akamai.steamstatic.com/store_it...   \n",
       "52938  https://shared.akamai.steamstatic.com/store_it...   \n",
       "\n",
       "                           website  \\\n",
       "0                                    \n",
       "1                                    \n",
       "2      http://www.dayofdefeat.com/   \n",
       "3                                    \n",
       "4                                    \n",
       "...                            ...   \n",
       "52934                                \n",
       "52935                                \n",
       "52936                                \n",
       "52937                                \n",
       "52938                                \n",
       "\n",
       "                                            requirements  \\\n",
       "0      {\"minimum\": \"\\r\\n\\t\\t\\t<p><strong>Minimum:</st...   \n",
       "1      {\"minimum\": \"\\r\\n\\t\\t\\t<p><strong>Minimum:</st...   \n",
       "2      {\"minimum\": \"\\r\\n\\t\\t\\t<p><strong>Minimum:</st...   \n",
       "3      {\"minimum\": \"\\r\\n\\t\\t\\t<p><strong>Minimum:</st...   \n",
       "4      {\"minimum\": \"\\r\\n\\t\\t\\t<p><strong>Minimum:</st...   \n",
       "...                                                  ...   \n",
       "52934  {\"minimum\": \"<strong>Minimum:</strong><br><ul ...   \n",
       "52935  {\"minimum\": \"<strong>Minimum:</strong><br><ul ...   \n",
       "52936  {\"minimum\": \"<strong>Minimum:</strong><br><ul ...   \n",
       "52937  {\"minimum\": \"<strong>Minimum:</strong><br><ul ...   \n",
       "52938  {\"minimum\": \"<strong>Minimum:</strong><br><ul ...   \n",
       "\n",
       "                  developers             publishers  \\\n",
       "0                  [\"Valve\"]              [\"Valve\"]   \n",
       "1                  [\"Valve\"]              [\"Valve\"]   \n",
       "2                  [\"Valve\"]              [\"Valve\"]   \n",
       "3                  [\"Valve\"]              [\"Valve\"]   \n",
       "4       [\"Gearbox Software\"]              [\"Valve\"]   \n",
       "...                      ...                    ...   \n",
       "52934      [\"Roman Savenok\"]      [\"Roman Savenok\"]   \n",
       "52935  [\"Neki4 Electronics\"]  [\"Neki4 Electronics\"]   \n",
       "52936       [\"RazDva Games\"]       [\"RazDva Games\"]   \n",
       "52937              [\"暗de刺客\"]         [\"TVM Studio\"]   \n",
       "52938               [\"Doky\"]               [\"Doky\"]   \n",
       "\n",
       "                                          price_overview  \\\n",
       "0      {\"final\": 99, \"initial\": 999, \"currency\": \"USD...   \n",
       "1      {\"final\": 74, \"initial\": 499, \"currency\": \"USD...   \n",
       "2      {\"final\": 74, \"initial\": 499, \"currency\": \"USD...   \n",
       "3      {\"final\": 74, \"initial\": 499, \"currency\": \"USD...   \n",
       "4      {\"final\": 74, \"initial\": 499, \"currency\": \"USD...   \n",
       "...                                                  ...   \n",
       "52934  {\"final\": 689, \"initial\": 689, \"currency\": \"EU...   \n",
       "52935  {\"final\": 199, \"initial\": 199, \"currency\": \"EU...   \n",
       "52936  {\"final\": 79, \"initial\": 99, \"currency\": \"EUR\"...   \n",
       "52937  {\"final\": 424, \"initial\": 499, \"currency\": \"EU...   \n",
       "52938  {\"final\": 1079, \"initial\": 1079, \"currency\": \"...   \n",
       "\n",
       "                                              platform  metacritic  \\\n",
       "0        {\"mac\": true, \"linux\": true, \"windows\": true}          88   \n",
       "1        {\"mac\": true, \"linux\": true, \"windows\": true}           0   \n",
       "2        {\"mac\": true, \"linux\": true, \"windows\": true}          79   \n",
       "3        {\"mac\": true, \"linux\": true, \"windows\": true}           0   \n",
       "4        {\"mac\": true, \"linux\": true, \"windows\": true}           0   \n",
       "...                                                ...         ...   \n",
       "52934  {\"mac\": false, \"linux\": false, \"windows\": true}           0   \n",
       "52935  {\"mac\": false, \"linux\": false, \"windows\": true}           0   \n",
       "52936  {\"mac\": false, \"linux\": false, \"windows\": true}           0   \n",
       "52937  {\"mac\": false, \"linux\": false, \"windows\": true}           0   \n",
       "52938  {\"mac\": false, \"linux\": false, \"windows\": true}           0   \n",
       "\n",
       "                                              categories  \\\n",
       "0      [{\"id\": 1, \"description\": \"Multi-player\"}, {\"i...   \n",
       "1      [{\"id\": 1, \"description\": \"Multi-player\"}, {\"i...   \n",
       "2      [{\"id\": 1, \"description\": \"Multi-player\"}, {\"i...   \n",
       "3      [{\"id\": 1, \"description\": \"Multi-player\"}, {\"i...   \n",
       "4      [{\"id\": 2, \"description\": \"Single-player\"}, {\"...   \n",
       "...                                                  ...   \n",
       "52934  [{\"id\": 2, \"description\": \"Single-player\"}, {\"...   \n",
       "52935  [{\"id\": 2, \"description\": \"Single-player\"}, {\"...   \n",
       "52936  [{\"id\": 2, \"description\": \"Single-player\"}, {\"...   \n",
       "52937  [{\"id\": 2, \"description\": \"Single-player\"}, {\"...   \n",
       "52938  [{\"id\": 2, \"description\": \"Single-player\"}, {\"...   \n",
       "\n",
       "                                                  genres  recommendations  \\\n",
       "0                 [{\"id\": \"1\", \"description\": \"Action\"}]           150423   \n",
       "1                 [{\"id\": \"1\", \"description\": \"Action\"}]             6133   \n",
       "2                 [{\"id\": \"1\", \"description\": \"Action\"}]             4074   \n",
       "3                 [{\"id\": \"1\", \"description\": \"Action\"}]             2149   \n",
       "4                 [{\"id\": \"1\", \"description\": \"Action\"}]            19244   \n",
       "...                                                  ...              ...   \n",
       "52934  [{\"id\": \"1\", \"description\": \"Action\"}, {\"id\": ...                0   \n",
       "52935  [{\"id\": \"1\", \"description\": \"Action\"}, {\"id\": ...                0   \n",
       "52936  [{\"id\": \"4\", \"description\": \"Casual\"}, {\"id\": ...                0   \n",
       "52937  [{\"id\": \"25\", \"description\": \"Adventure\"}, {\"i...                0   \n",
       "52938  [{\"id\": \"25\", \"description\": \"Adventure\"}, {\"i...                0   \n",
       "\n",
       "       achievements  release_date  coming_soon  \n",
       "0                 0   Nov 1, 2000            0  \n",
       "1                 0   Apr 1, 1999            0  \n",
       "2                 0   May 1, 2003            0  \n",
       "3                 0   Jun 1, 2001            0  \n",
       "4                 0   Nov 1, 1999            0  \n",
       "...             ...           ...          ...  \n",
       "52934             0  22 Jun, 2024            0  \n",
       "52935             9  19 Jun, 2024            0  \n",
       "52936            30  20 Jun, 2024            0  \n",
       "52937             0  25 Jun, 2024            0  \n",
       "52938            15  22 Jun, 2024            0  \n",
       "\n",
       "[52939 rows x 27 columns]"
      ]
     },
     "execution_count": 30,
     "metadata": {},
     "output_type": "execute_result"
    }
   ],
   "source": [
    "steam_data.head()"
   ]
  },
  {
   "cell_type": "code",
   "execution_count": 31,
   "metadata": {},
   "outputs": [
    {
     "data": {
      "text/plain": [
       "type                        0\n",
       "name                        0\n",
       "appid                       0\n",
       "required_age                0\n",
       "is_free                     0\n",
       "controller_support      40879\n",
       "dlc                         0\n",
       "detailed_description       36\n",
       "about_the_game             37\n",
       "short_description          31\n",
       "supported_languages        70\n",
       "reviews                 44879\n",
       "header_image                0\n",
       "capsule_image               0\n",
       "website                     0\n",
       "requirements                0\n",
       "developers                  0\n",
       "publishers                  0\n",
       "price_overview              0\n",
       "platform                    0\n",
       "metacritic                  0\n",
       "categories                  0\n",
       "genres                      0\n",
       "recommendations             0\n",
       "achievements                0\n",
       "release_date                0\n",
       "coming_soon                 0\n",
       "dtype: int64"
      ]
     },
     "execution_count": 31,
     "metadata": {},
     "output_type": "execute_result"
    }
   ],
   "source": [
    "null_counts = steam_data.isnull().sum()\n",
    "null_counts"
   ]
  },
  {
   "cell_type": "markdown",
   "metadata": {},
   "source": [
    "Creating a copy of raw dataset before starting the cleaning process."
   ]
  },
  {
   "cell_type": "code",
   "execution_count": 32,
   "metadata": {},
   "outputs": [],
   "source": [
    "raw_steam_data = steam_data.copy()"
   ]
  },
  {
   "cell_type": "markdown",
   "metadata": {},
   "source": [
    "### Processing Age"
   ]
  },
  {
   "cell_type": "code",
   "execution_count": 33,
   "metadata": {},
   "outputs": [
    {
     "data": {
      "text/plain": [
       "required_age\n",
       "0     52126\n",
       "17      477\n",
       "18      127\n",
       "13       91\n",
       "16       42\n",
       "12       28\n",
       "15       13\n",
       "10        9\n",
       "6         8\n",
       "7         8\n",
       "3         4\n",
       "14        3\n",
       "11        2\n",
       "5         1\n",
       "Name: count, dtype: int64"
      ]
     },
     "execution_count": 33,
     "metadata": {},
     "output_type": "execute_result"
    }
   ],
   "source": [
    "raw_steam_data['required_age'].value_counts()"
   ]
  },
  {
   "cell_type": "markdown",
   "metadata": {},
   "source": [
    "Reducing the number of categories that ages fall into by following the [PEGI age ratings](https://pegi.info) categories. For example, instead of comparing games rated as 5, 6, 7 or 8, we could compare games rated 5+ or 8+."
   ]
  },
  {
   "cell_type": "code",
   "execution_count": 34,
   "metadata": {},
   "outputs": [
    {
     "data": {
      "text/plain": [
       "required_age\n",
       "0     52126\n",
       "3         4\n",
       "7        17\n",
       "12       39\n",
       "16      149\n",
       "18      604\n",
       "Name: count, dtype: int64"
      ]
     },
     "execution_count": 34,
     "metadata": {},
     "output_type": "execute_result"
    }
   ],
   "source": [
    "def process_age(df):\n",
    "    \"\"\"\n",
    "    Process the age column in the given DataFrame by converting the age ratings to specific age groups.\n",
    "\n",
    "    Parameters:\n",
    "    df (DataFrame): The DataFrame containing the age column.\n",
    "\n",
    "    Returns:\n",
    "    DataFrame: The DataFrame with the age column processed.\n",
    "    \"\"\"\n",
    "    # PEGI Age ratings: 3, 7, 12, 16, 18\n",
    "    cut_points = [-1, 0, 3, 7, 12, 16, 18]\n",
    "    categories = [0, 3, 7, 12, 16, 18]\n",
    "    \n",
    "    df['required_age'] = pd.cut(df['required_age'], bins=cut_points, labels=categories)\n",
    "    \n",
    "    return df\n",
    "\n",
    "age_df = process_age(raw_steam_data)\n",
    "age_df['required_age'].value_counts().sort_index()"
   ]
  },
  {
   "cell_type": "markdown",
   "metadata": {},
   "source": [
    "### Processing Platforms"
   ]
  },
  {
   "cell_type": "code",
   "execution_count": 35,
   "metadata": {},
   "outputs": [
    {
     "name": "stdout",
     "output_type": "stream",
     "text": [
      "<class 'str'>\n"
     ]
    },
    {
     "data": {
      "text/plain": [
       "'{\"mac\": true, \"linux\": true, \"windows\": true}'"
      ]
     },
     "execution_count": 35,
     "metadata": {},
     "output_type": "execute_result"
    }
   ],
   "source": [
    "platforms_first_row = age_df['platform'].iloc[0]\n",
    "print(type(platforms_first_row))\n",
    "platforms_first_row"
   ]
  },
  {
   "cell_type": "markdown",
   "metadata": {},
   "source": [
    "First task is to recognise the data as dictionaries rather than strings."
   ]
  },
  {
   "cell_type": "code",
   "execution_count": 36,
   "metadata": {},
   "outputs": [
    {
     "name": "stdout",
     "output_type": "stream",
     "text": [
      "<class 'dict'>\n",
      "{'mac': True, 'linux': True, 'windows': True}\n"
     ]
    },
    {
     "data": {
      "text/plain": [
       "True"
      ]
     },
     "execution_count": 36,
     "metadata": {},
     "output_type": "execute_result"
    }
   ],
   "source": [
    "eval_first_row = json.loads(platforms_first_row)\n",
    "print(type(eval_first_row))\n",
    "print(eval_first_row)\n",
    "eval_first_row['windows']"
   ]
  },
  {
   "cell_type": "markdown",
   "metadata": {},
   "source": [
    "Formatting the output. Let's keep things simple and return a string of supported platforms"
   ]
  },
  {
   "cell_type": "code",
   "execution_count": 37,
   "metadata": {},
   "outputs": [
    {
     "data": {
      "text/plain": [
       "'mac;linux;windows'"
      ]
     },
     "execution_count": 37,
     "metadata": {},
     "output_type": "execute_result"
    }
   ],
   "source": [
    "';'.join(eval_first_row.keys())"
   ]
  },
  {
   "cell_type": "markdown",
   "metadata": {},
   "source": [
    "Keping only keys that have `True` value"
   ]
  },
  {
   "cell_type": "code",
   "execution_count": 38,
   "metadata": {},
   "outputs": [
    {
     "name": "stdout",
     "output_type": "stream",
     "text": [
      "['windows', 'mac']\n"
     ]
    },
    {
     "data": {
      "text/plain": [
       "'windows;mac'"
      ]
     },
     "execution_count": 38,
     "metadata": {},
     "output_type": "execute_result"
    }
   ],
   "source": [
    "platforms = {'windows': True, 'mac': True, 'linux': False}\n",
    "print([x for x in platforms.keys() if platforms[x]])\n",
    "';'.join(x for x in platforms.keys() if platforms[x])"
   ]
  },
  {
   "cell_type": "markdown",
   "metadata": {},
   "source": [
    "Creating a funtion by using pandas [Series.apply](https://pandas.pydata.org/pandas-docs/stable/reference/api/pandas.Series.apply.html)"
   ]
  },
  {
   "cell_type": "code",
   "execution_count": 39,
   "metadata": {},
   "outputs": [
    {
     "data": {
      "text/plain": [
       "platform\n",
       "windows              39330\n",
       "mac;linux;windows     6465\n",
       "mac;windows           5428\n",
       "linux;windows         1703\n",
       "mac                      9\n",
       "linux                    3\n",
       "mac;linux                1\n",
       "Name: count, dtype: int64"
      ]
     },
     "execution_count": 39,
     "metadata": {},
     "output_type": "execute_result"
    }
   ],
   "source": [
    "def process_platforms(df):\n",
    "    \"\"\"\n",
    "    Process the platforms column in the given DataFrame.\n",
    "\n",
    "    Args:\n",
    "        df (pandas.DataFrame): The DataFrame containing the platforms column.\n",
    "\n",
    "    Returns:\n",
    "        pandas.DataFrame: The DataFrame with the platforms column processed.\n",
    "    \"\"\"\n",
    "    df = df.copy()\n",
    "\n",
    "    def parse_platforms(x):\n",
    "        \"\"\"\n",
    "        Parse the platforms from the given JSON string.\n",
    "\n",
    "        Args:\n",
    "            x (str): The JSON string representing the platforms.\n",
    "\n",
    "        Returns:\n",
    "            str: The parsed platforms separated by semicolons.\n",
    "        \"\"\"\n",
    "        d = json.loads(x)\n",
    "\n",
    "        return ';'.join(platform for platform in d.keys() if d[platform])\n",
    "\n",
    "    df['platform'] = df['platform'].apply(parse_platforms)\n",
    "\n",
    "    return df\n",
    "\n",
    "platforms_df = process_platforms(age_df)\n",
    "platforms_df['platform'].value_counts()"
   ]
  },
  {
   "cell_type": "markdown",
   "metadata": {},
   "source": [
    "### Processing Languages"
   ]
  },
  {
   "cell_type": "code",
   "execution_count": 40,
   "metadata": {},
   "outputs": [
    {
     "data": {
      "text/plain": [
       "supported_languages\n",
       "English                                                           14321\n",
       "English\\n*\\n*\\nlanguages with full audio support                  12526\n",
       "English, Russian                                                    930\n",
       "English, Simplified Chinese                                         730\n",
       "English, Japanese                                                   659\n",
       "Simplified Chinese                                                  509\n",
       "Simplified Chinese\\n*\\n*\\nlanguages with full audio support         386\n",
       "English\\n*\\n, Russian\\n*\\n*\\nlanguages with full audio support      359\n",
       "English, Portuguese - Brazil                                        274\n",
       "English, French                                                     264\n",
       "Name: count, dtype: int64"
      ]
     },
     "execution_count": 40,
     "metadata": {},
     "output_type": "execute_result"
    }
   ],
   "source": [
    "platforms_df['supported_languages'].value_counts().head(10)"
   ]
  },
  {
   "cell_type": "markdown",
   "metadata": {},
   "source": [
    "English plus other languages make up most of the data. It seems reasonably safe to assume that if the app is in English, the word English will appear somewhere in this string. Use the Series.apply to check if the string 'english' appears in each row."
   ]
  },
  {
   "cell_type": "code",
   "execution_count": 41,
   "metadata": {},
   "outputs": [
    {
     "data": {
      "text/html": [
       "<div>\n",
       "<style scoped>\n",
       "    .dataframe tbody tr th:only-of-type {\n",
       "        vertical-align: middle;\n",
       "    }\n",
       "\n",
       "    .dataframe tbody tr th {\n",
       "        vertical-align: top;\n",
       "    }\n",
       "\n",
       "    .dataframe thead th {\n",
       "        text-align: right;\n",
       "    }\n",
       "</style>\n",
       "<table border=\"1\" class=\"dataframe\">\n",
       "  <thead>\n",
       "    <tr style=\"text-align: right;\">\n",
       "      <th></th>\n",
       "      <th>name</th>\n",
       "      <th>english</th>\n",
       "    </tr>\n",
       "  </thead>\n",
       "  <tbody>\n",
       "    <tr>\n",
       "      <th>0</th>\n",
       "      <td>Counter-Strike</td>\n",
       "      <td>1</td>\n",
       "    </tr>\n",
       "    <tr>\n",
       "      <th>1</th>\n",
       "      <td>Team Fortress Classic</td>\n",
       "      <td>1</td>\n",
       "    </tr>\n",
       "    <tr>\n",
       "      <th>2</th>\n",
       "      <td>Day of Defeat</td>\n",
       "      <td>1</td>\n",
       "    </tr>\n",
       "    <tr>\n",
       "      <th>3</th>\n",
       "      <td>Deathmatch Classic</td>\n",
       "      <td>1</td>\n",
       "    </tr>\n",
       "    <tr>\n",
       "      <th>4</th>\n",
       "      <td>Half-Life: Opposing Force</td>\n",
       "      <td>1</td>\n",
       "    </tr>\n",
       "  </tbody>\n",
       "</table>\n",
       "</div>"
      ],
      "text/plain": [
       "                        name  english\n",
       "0             Counter-Strike        1\n",
       "1      Team Fortress Classic        1\n",
       "2              Day of Defeat        1\n",
       "3         Deathmatch Classic        1\n",
       "4  Half-Life: Opposing Force        1"
      ]
     },
     "execution_count": 41,
     "metadata": {},
     "output_type": "execute_result"
    }
   ],
   "source": [
    "def process_language(df):\n",
    "    \"\"\"\n",
    "    Process the language data in the given DataFrame.\n",
    "\n",
    "    Parameters:\n",
    "    df (DataFrame): The input DataFrame containing the language data.\n",
    "\n",
    "    Returns:\n",
    "    DataFrame: The processed DataFrame with the language data cleaned.\n",
    "\n",
    "    \"\"\"\n",
    "    df = df.copy()\n",
    "    \n",
    "    df = df.dropna(subset=['supported_languages'])\n",
    "    \n",
    "    df['english'] = df['supported_languages'].apply(lambda x: 1 if 'english' in x.lower() else 0)\n",
    "    df = df.drop('supported_languages', axis=1)\n",
    "    \n",
    "    return df\n",
    "\n",
    "language_df = process_language(platforms_df)\n",
    "language_df[['name', 'english']].head()"
   ]
  },
  {
   "cell_type": "code",
   "execution_count": 42,
   "metadata": {},
   "outputs": [
    {
     "data": {
      "text/plain": [
       "english\n",
       "1    51149\n",
       "0     1720\n",
       "Name: count, dtype: int64"
      ]
     },
     "execution_count": 42,
     "metadata": {},
     "output_type": "execute_result"
    }
   ],
   "source": [
    "language_df['english'].value_counts()"
   ]
  },
  {
   "cell_type": "markdown",
   "metadata": {},
   "source": [
    "### Processing Developers and Publishers"
   ]
  },
  {
   "cell_type": "code",
   "execution_count": 43,
   "metadata": {},
   "outputs": [
    {
     "name": "stdout",
     "output_type": "stream",
     "text": [
      "Developers null counts: 185\n",
      "Developers empty list counts: 0\n",
      "\n",
      "Publishers null counts: 0\n",
      "Publishers empty list counts: 433\n"
     ]
    }
   ],
   "source": [
    "print('Developers null counts:', language_df[language_df['developers'] == \"null\"].shape[0])\n",
    "print('Developers empty list counts:', language_df[language_df['developers'] == '[\"\"]'].shape[0])\n",
    "\n",
    "print('\\nPublishers null counts:', language_df['publishers'].isnull().sum())\n",
    "print('Publishers empty list counts:', language_df[language_df['publishers'] == '[\"\"]'].shape[0])"
   ]
  },
  {
   "cell_type": "markdown",
   "metadata": {},
   "source": [
    "A few options for dealing with these two columns:\n",
    "\n",
    "- Remove all rows missing either developer or publisher information\n",
    "- Impute missing information by replacing the missing column with the column we have (i.e. if developers is missing, fill it with the value in publishers)\n",
    "- Fill missing information with 'Unknown' or 'None'"
   ]
  },
  {
   "cell_type": "code",
   "execution_count": 44,
   "metadata": {},
   "outputs": [
    {
     "name": "stdout",
     "output_type": "stream",
     "text": [
      "Total games missing developer: 185 \n",
      "\n",
      "Crash Time 2: http://store.steampowered.com/app/11390\n",
      "18 Wheels of Steel: Extreme Trucker: http://store.steampowered.com/app/33730\n",
      "Prison Tycoon 4: SuperMax: http://store.steampowered.com/app/33750\n",
      "Jewel Quest Pack: http://store.steampowered.com/app/37960\n",
      "Mahjong Quest Collection: http://store.steampowered.com/app/38000\n"
     ]
    }
   ],
   "source": [
    "no_dev = language_df[language_df['developers'] == \"null\"]\n",
    "print('Total games missing developer:', no_dev.shape[0], '\\n')\n",
    "print_steam_links(no_dev[:5])"
   ]
  },
  {
   "cell_type": "code",
   "execution_count": 45,
   "metadata": {},
   "outputs": [
    {
     "name": "stdout",
     "output_type": "stream",
     "text": [
      "\n",
      "Total games missing publisher: 433 \n",
      "\n",
      "RIP - Trilogy™: http://store.steampowered.com/app/2540\n",
      "Vigil: Blood Bitterness™: http://store.steampowered.com/app/2570\n",
      "ThreadSpace: Hyperbol: http://store.steampowered.com/app/2720\n",
      "Bullet Candy: http://store.steampowered.com/app/6600\n",
      "Loki: http://store.steampowered.com/app/7260\n"
     ]
    }
   ],
   "source": [
    "no_pub = language_df[language_df['publishers'] == '[\"\"]']\n",
    "print('\\nTotal games missing publisher:', no_pub.shape[0], '\\n')\n",
    "print_steam_links(no_pub[:5])"
   ]
  },
  {
   "cell_type": "code",
   "execution_count": 46,
   "metadata": {},
   "outputs": [
    {
     "name": "stdout",
     "output_type": "stream",
     "text": [
      "\n",
      "Total games missing developer and publisher: 115 \n",
      "\n",
      "Guardians of Graxia: http://store.steampowered.com/app/90500\n",
      "Patterns: http://store.steampowered.com/app/218980\n",
      "PlayClaw 5 - Game Recording and Streaming: http://store.steampowered.com/app/237370\n",
      "Artemis Spaceship Bridge Simulator: http://store.steampowered.com/app/247350\n",
      "A Walk in the Dark: http://store.steampowered.com/app/248730\n"
     ]
    }
   ],
   "source": [
    "no_dev_or_pub = language_df[(language_df['developers']==\"null\") & (language_df['publishers']=='[\"\"]')]\n",
    "print('\\nTotal games missing developer and publisher:', no_dev_or_pub.shape[0], '\\n')\n",
    "print_steam_links(no_dev_or_pub[:5])"
   ]
  },
  {
   "cell_type": "markdown",
   "metadata": {},
   "source": [
    "Some titles may have been self-publishes while others simply have wrong ot missing data. As the priority is creating a clean dataset, and there are only a few hundred rows, it will be fine to remove them from the data. Is is also safe to assume that multiple developers or publishers may have been involved in the game."
   ]
  },
  {
   "cell_type": "code",
   "execution_count": 47,
   "metadata": {},
   "outputs": [
    {
     "name": "stdout",
     "output_type": "stream",
     "text": [
      "Rows in developers column with multiple values: 3473\n",
      "Rows in publishers column with multiple values: 1760\n"
     ]
    }
   ],
   "source": [
    "def process_developers_and_publishers(df):\n",
    "    \"\"\"\n",
    "    Process the 'developers' and 'publishers' columns in the given DataFrame.\n",
    "\n",
    "    Args:\n",
    "        df (pandas.DataFrame): The DataFrame containing the 'developers' and 'publishers' columns.\n",
    "\n",
    "    Returns:\n",
    "        None\n",
    "\n",
    "    This function filters out rows where the 'developers' column is not equal to \"null\" and the 'publishers'\n",
    "    column is not equal to '[\"\"]'. It then converts the values in the 'developers' and 'publishers' columns\n",
    "    from strings to lists using the `literal_eval` function from the `ast` module. Finally, it prints the number\n",
    "    of rows in each column that have multiple values.\n",
    "\n",
    "    Note:\n",
    "        This function modifies the input DataFrame in-place.\n",
    "    \"\"\"\n",
    "    df = df[(df['developers']!=\"null\") & (df['publishers'] != '[\"\"]')].copy()\n",
    "    \n",
    "    for col in ['developers', 'publishers']:\n",
    "        df[col] = df[col].apply(lambda x: literal_eval(x))\n",
    "        \n",
    "        num_rows = df[df[col].str.len() > 1].shape[0]\n",
    "        \n",
    "        print('Rows in {} column with multiple values:'.format(col), num_rows)\n",
    "\n",
    "process_developers_and_publishers(language_df)"
   ]
  },
  {
   "cell_type": "markdown",
   "metadata": {},
   "source": [
    "The column can be formateed by joining the multiple developers and publishers into a string. Since a number of developers and publishers have a comma in their name (for example PopCap Games, Inc.), they can be joint on a semi-colon. There are some that have `[NA]` or `[N/A]`."
   ]
  },
  {
   "cell_type": "code",
   "execution_count": 48,
   "metadata": {},
   "outputs": [
    {
     "data": {
      "text/html": [
       "<div>\n",
       "<style scoped>\n",
       "    .dataframe tbody tr th:only-of-type {\n",
       "        vertical-align: middle;\n",
       "    }\n",
       "\n",
       "    .dataframe tbody tr th {\n",
       "        vertical-align: top;\n",
       "    }\n",
       "\n",
       "    .dataframe thead th {\n",
       "        text-align: right;\n",
       "    }\n",
       "</style>\n",
       "<table border=\"1\" class=\"dataframe\">\n",
       "  <thead>\n",
       "    <tr style=\"text-align: right;\">\n",
       "      <th></th>\n",
       "      <th>name</th>\n",
       "      <th>appid</th>\n",
       "      <th>developer</th>\n",
       "      <th>publisher</th>\n",
       "    </tr>\n",
       "  </thead>\n",
       "  <tbody>\n",
       "    <tr>\n",
       "      <th>0</th>\n",
       "      <td>Counter-Strike</td>\n",
       "      <td>10</td>\n",
       "      <td>Valve</td>\n",
       "      <td>Valve</td>\n",
       "    </tr>\n",
       "    <tr>\n",
       "      <th>1</th>\n",
       "      <td>Team Fortress Classic</td>\n",
       "      <td>20</td>\n",
       "      <td>Valve</td>\n",
       "      <td>Valve</td>\n",
       "    </tr>\n",
       "    <tr>\n",
       "      <th>2</th>\n",
       "      <td>Day of Defeat</td>\n",
       "      <td>30</td>\n",
       "      <td>Valve</td>\n",
       "      <td>Valve</td>\n",
       "    </tr>\n",
       "    <tr>\n",
       "      <th>3</th>\n",
       "      <td>Deathmatch Classic</td>\n",
       "      <td>40</td>\n",
       "      <td>Valve</td>\n",
       "      <td>Valve</td>\n",
       "    </tr>\n",
       "    <tr>\n",
       "      <th>4</th>\n",
       "      <td>Half-Life: Opposing Force</td>\n",
       "      <td>50</td>\n",
       "      <td>Gearbox Software</td>\n",
       "      <td>Valve</td>\n",
       "    </tr>\n",
       "  </tbody>\n",
       "</table>\n",
       "</div>"
      ],
      "text/plain": [
       "                        name  appid         developer publisher\n",
       "0             Counter-Strike     10             Valve     Valve\n",
       "1      Team Fortress Classic     20             Valve     Valve\n",
       "2              Day of Defeat     30             Valve     Valve\n",
       "3         Deathmatch Classic     40             Valve     Valve\n",
       "4  Half-Life: Opposing Force     50  Gearbox Software     Valve"
      ]
     },
     "execution_count": 48,
     "metadata": {},
     "output_type": "execute_result"
    }
   ],
   "source": [
    "def process_developers_and_publishers(df):\n",
    "\n",
    "    df = df[(df['developers']!=\"null\") & (df['publishers'] != '[\"\"]')].copy()\n",
    "    df = df[~(df['developers'].str.contains(';')) & ~(df['publishers'].str.contains(';'))]\n",
    "    df = df[(df['publishers'] != '[\"NA\"]') & (df['publishers'] != '[\"N/A\"]')]\n",
    "    \n",
    "    df['developer'] = df['developers'].apply(lambda x: ';'.join(literal_eval(x)))\n",
    "    df['publisher'] = df['publishers'].apply(lambda x: ';'.join(literal_eval(x)))\n",
    "\n",
    "    df = df.drop(['developers', 'publishers'], axis=1)\n",
    "    \n",
    "    return df\n",
    "\n",
    "dev_pub_df = process_developers_and_publishers(language_df)\n",
    "dev_pub_df[['name', 'appid', 'developer', 'publisher']].head()"
   ]
  },
  {
   "cell_type": "markdown",
   "metadata": {},
   "source": [
    "### Processing Categories and Genres"
   ]
  },
  {
   "cell_type": "code",
   "execution_count": null,
   "metadata": {},
   "outputs": [],
   "source": []
  }
 ],
 "metadata": {
  "kernelspec": {
   "display_name": "game",
   "language": "python",
   "name": "python3"
  },
  "language_info": {
   "codemirror_mode": {
    "name": "ipython",
    "version": 3
   },
   "file_extension": ".py",
   "mimetype": "text/x-python",
   "name": "python",
   "nbconvert_exporter": "python",
   "pygments_lexer": "ipython3",
   "version": "3.12.4"
  }
 },
 "nbformat": 4,
 "nbformat_minor": 2
}
