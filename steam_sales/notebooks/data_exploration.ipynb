{
 "cells": [
  {
   "cell_type": "code",
   "execution_count": null,
   "metadata": {},
   "outputs": [],
   "source": [
    "import itertools\n",
    "from collections import Counter"
   ]
  },
  {
   "cell_type": "markdown",
   "metadata": {},
   "source": [
    "Tags"
   ]
  },
  {
   "cell_type": "code",
   "execution_count": null,
   "metadata": {},
   "outputs": [],
   "source": [
    "tags = col_row_df['tags']\n",
    "parsed_tags = tags.apply(lambda x: literal_eval(x) if x else {})\n",
    "\n",
    "unique_tags = set(itertools.chain(*parsed_tags))\n",
    "\n",
    "print('Number of unique tags:', len(unique_tags))\n",
    "\n",
    "# Create a DataFrame with 15 columns and 30 rows\n",
    "num_columns = 15\n",
    "num_rows = 30\n",
    "\n",
    "unique_tags = sorted(list(unique_tags))\n",
    "\n",
    "# Reshape the list into the desired DataFrame shape\n",
    "ut = [unique_tags[i * num_columns:(i + 1) * num_columns] for i in range(num_rows)]\n",
    "\n",
    "# Create the DataFrame\n",
    "utdf = pd.DataFrame(ut)\n",
    "utdf"
   ]
  },
  {
   "cell_type": "code",
   "execution_count": null,
   "metadata": {},
   "outputs": [],
   "source": [
    "tagc = Counter()\n",
    "\n",
    "for tag_list in parsed_tags:\n",
    "    tagc.update(tag_list.keys())\n",
    "\n",
    "tagc"
   ]
  },
  {
   "cell_type": "code",
   "execution_count": null,
   "metadata": {},
   "outputs": [],
   "source": []
  },
  {
   "cell_type": "markdown",
   "metadata": {},
   "source": [
    "Languages"
   ]
  },
  {
   "cell_type": "markdown",
   "metadata": {},
   "source": [
    "langs = col_row_df['languages']\n",
    "langs = langs.apply(lambda x: x.split(', ') if x else [])\n",
    "\n",
    "langc = Counter()\n",
    "\n",
    "for l in langs:\n",
    "    langc.update(l)\n",
    "\n",
    "langc"
   ]
  }
 ],
 "metadata": {
  "language_info": {
   "name": "python"
  }
 },
 "nbformat": 4,
 "nbformat_minor": 2
}
