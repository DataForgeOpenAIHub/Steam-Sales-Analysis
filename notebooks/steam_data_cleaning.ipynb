{
 "cells": [
  {
   "cell_type": "code",
   "execution_count": 1,
   "metadata": {},
   "outputs": [],
   "source": [
    "import os\n",
    "import sys\n",
    "\n",
    "curr_dir = os.getcwd()\n",
    "pkg_dir = os.path.join(os.path.dirname(curr_dir), \"steam_sales\", \"steam_etl\")\n",
    "sys.path.append(pkg_dir)"
   ]
  },
  {
   "cell_type": "code",
   "execution_count": 2,
   "metadata": {},
   "outputs": [],
   "source": [
    "import json\n",
    "import warnings\n",
    "from ast import literal_eval\n",
    "\n",
    "import dateparser\n",
    "import pandas as pd\n",
    "from bs4 import BeautifulSoup\n",
    "from db import get_db\n",
    "from settings import Path\n",
    "from sqlalchemy import text\n",
    "from utils import check_na, print_steam_links\n",
    "\n",
    "warnings.filterwarnings(\"ignore\")\n",
    "pd.set_option(\"display.max_columns\", 100)"
   ]
  },
  {
   "cell_type": "markdown",
   "metadata": {},
   "source": [
    "### Data Extraction from SQL Database"
   ]
  },
  {
   "cell_type": "code",
   "execution_count": 3,
   "metadata": {},
   "outputs": [
    {
     "data": {
      "text/html": [
       "<div>\n",
       "<style scoped>\n",
       "    .dataframe tbody tr th:only-of-type {\n",
       "        vertical-align: middle;\n",
       "    }\n",
       "\n",
       "    .dataframe tbody tr th {\n",
       "        vertical-align: top;\n",
       "    }\n",
       "\n",
       "    .dataframe thead th {\n",
       "        text-align: right;\n",
       "    }\n",
       "</style>\n",
       "<table border=\"1\" class=\"dataframe\">\n",
       "  <thead>\n",
       "    <tr style=\"text-align: right;\">\n",
       "      <th></th>\n",
       "      <th>type</th>\n",
       "      <th>name</th>\n",
       "      <th>appid</th>\n",
       "      <th>required_age</th>\n",
       "      <th>is_free</th>\n",
       "      <th>controller_support</th>\n",
       "      <th>dlc</th>\n",
       "      <th>detailed_description</th>\n",
       "      <th>about_the_game</th>\n",
       "      <th>short_description</th>\n",
       "      <th>supported_languages</th>\n",
       "      <th>reviews</th>\n",
       "      <th>header_image</th>\n",
       "      <th>capsule_image</th>\n",
       "      <th>website</th>\n",
       "      <th>requirements</th>\n",
       "      <th>developers</th>\n",
       "      <th>publishers</th>\n",
       "      <th>price_overview</th>\n",
       "      <th>platform</th>\n",
       "      <th>metacritic</th>\n",
       "      <th>categories</th>\n",
       "      <th>genres</th>\n",
       "      <th>recommendations</th>\n",
       "      <th>achievements</th>\n",
       "      <th>release_date</th>\n",
       "      <th>coming_soon</th>\n",
       "    </tr>\n",
       "  </thead>\n",
       "  <tbody>\n",
       "    <tr>\n",
       "      <th>0</th>\n",
       "      <td>game</td>\n",
       "      <td>Counter-Strike</td>\n",
       "      <td>10</td>\n",
       "      <td>0</td>\n",
       "      <td>0</td>\n",
       "      <td>None</td>\n",
       "      <td>[]</td>\n",
       "      <td>Play the world's number 1 online action game. ...</td>\n",
       "      <td>Play the world's number 1 online action game. ...</td>\n",
       "      <td>Play the world's number 1 online action game. ...</td>\n",
       "      <td>English\\n*\\n, French\\n*\\n, German\\n*\\n, Italia...</td>\n",
       "      <td>None</td>\n",
       "      <td>https://shared.akamai.steamstatic.com/store_it...</td>\n",
       "      <td>https://shared.akamai.steamstatic.com/store_it...</td>\n",
       "      <td></td>\n",
       "      <td>{\"minimum\": \"\\r\\n\\t\\t\\t&lt;p&gt;&lt;strong&gt;Minimum:&lt;/st...</td>\n",
       "      <td>[\"Valve\"]</td>\n",
       "      <td>[\"Valve\"]</td>\n",
       "      <td>{\"final\": 99, \"initial\": 999, \"currency\": \"USD...</td>\n",
       "      <td>{\"mac\": true, \"linux\": true, \"windows\": true}</td>\n",
       "      <td>88</td>\n",
       "      <td>[{\"id\": 1, \"description\": \"Multi-player\"}, {\"i...</td>\n",
       "      <td>[{\"id\": \"1\", \"description\": \"Action\"}]</td>\n",
       "      <td>150423</td>\n",
       "      <td>0</td>\n",
       "      <td>Nov 1, 2000</td>\n",
       "      <td>0</td>\n",
       "    </tr>\n",
       "    <tr>\n",
       "      <th>1</th>\n",
       "      <td>game</td>\n",
       "      <td>Team Fortress Classic</td>\n",
       "      <td>20</td>\n",
       "      <td>0</td>\n",
       "      <td>0</td>\n",
       "      <td>None</td>\n",
       "      <td>[]</td>\n",
       "      <td>One of the most popular online action games of...</td>\n",
       "      <td>One of the most popular online action games of...</td>\n",
       "      <td>One of the most popular online action games of...</td>\n",
       "      <td>English, French, German, Italian, Spanish - Sp...</td>\n",
       "      <td>None</td>\n",
       "      <td>https://shared.akamai.steamstatic.com/store_it...</td>\n",
       "      <td>https://shared.akamai.steamstatic.com/store_it...</td>\n",
       "      <td></td>\n",
       "      <td>{\"minimum\": \"\\r\\n\\t\\t\\t&lt;p&gt;&lt;strong&gt;Minimum:&lt;/st...</td>\n",
       "      <td>[\"Valve\"]</td>\n",
       "      <td>[\"Valve\"]</td>\n",
       "      <td>{\"final\": 74, \"initial\": 499, \"currency\": \"USD...</td>\n",
       "      <td>{\"mac\": true, \"linux\": true, \"windows\": true}</td>\n",
       "      <td>0</td>\n",
       "      <td>[{\"id\": 1, \"description\": \"Multi-player\"}, {\"i...</td>\n",
       "      <td>[{\"id\": \"1\", \"description\": \"Action\"}]</td>\n",
       "      <td>6133</td>\n",
       "      <td>0</td>\n",
       "      <td>Apr 1, 1999</td>\n",
       "      <td>0</td>\n",
       "    </tr>\n",
       "    <tr>\n",
       "      <th>2</th>\n",
       "      <td>game</td>\n",
       "      <td>Day of Defeat</td>\n",
       "      <td>30</td>\n",
       "      <td>0</td>\n",
       "      <td>0</td>\n",
       "      <td>None</td>\n",
       "      <td>[]</td>\n",
       "      <td>Enlist in an intense brand of Axis vs. Allied ...</td>\n",
       "      <td>Enlist in an intense brand of Axis vs. Allied ...</td>\n",
       "      <td>Enlist in an intense brand of Axis vs. Allied ...</td>\n",
       "      <td>English, French, German, Italian, Spanish - Spain</td>\n",
       "      <td>None</td>\n",
       "      <td>https://shared.akamai.steamstatic.com/store_it...</td>\n",
       "      <td>https://shared.akamai.steamstatic.com/store_it...</td>\n",
       "      <td>http://www.dayofdefeat.com/</td>\n",
       "      <td>{\"minimum\": \"\\r\\n\\t\\t\\t&lt;p&gt;&lt;strong&gt;Minimum:&lt;/st...</td>\n",
       "      <td>[\"Valve\"]</td>\n",
       "      <td>[\"Valve\"]</td>\n",
       "      <td>{\"final\": 74, \"initial\": 499, \"currency\": \"USD...</td>\n",
       "      <td>{\"mac\": true, \"linux\": true, \"windows\": true}</td>\n",
       "      <td>79</td>\n",
       "      <td>[{\"id\": 1, \"description\": \"Multi-player\"}, {\"i...</td>\n",
       "      <td>[{\"id\": \"1\", \"description\": \"Action\"}]</td>\n",
       "      <td>4074</td>\n",
       "      <td>0</td>\n",
       "      <td>May 1, 2003</td>\n",
       "      <td>0</td>\n",
       "    </tr>\n",
       "    <tr>\n",
       "      <th>3</th>\n",
       "      <td>game</td>\n",
       "      <td>Deathmatch Classic</td>\n",
       "      <td>40</td>\n",
       "      <td>0</td>\n",
       "      <td>0</td>\n",
       "      <td>None</td>\n",
       "      <td>[]</td>\n",
       "      <td>Enjoy fast-paced multiplayer gaming with Death...</td>\n",
       "      <td>Enjoy fast-paced multiplayer gaming with Death...</td>\n",
       "      <td>Enjoy fast-paced multiplayer gaming with Death...</td>\n",
       "      <td>English, French, German, Italian, Spanish - Sp...</td>\n",
       "      <td>None</td>\n",
       "      <td>https://shared.akamai.steamstatic.com/store_it...</td>\n",
       "      <td>https://shared.akamai.steamstatic.com/store_it...</td>\n",
       "      <td></td>\n",
       "      <td>{\"minimum\": \"\\r\\n\\t\\t\\t&lt;p&gt;&lt;strong&gt;Minimum:&lt;/st...</td>\n",
       "      <td>[\"Valve\"]</td>\n",
       "      <td>[\"Valve\"]</td>\n",
       "      <td>{\"final\": 74, \"initial\": 499, \"currency\": \"USD...</td>\n",
       "      <td>{\"mac\": true, \"linux\": true, \"windows\": true}</td>\n",
       "      <td>0</td>\n",
       "      <td>[{\"id\": 1, \"description\": \"Multi-player\"}, {\"i...</td>\n",
       "      <td>[{\"id\": \"1\", \"description\": \"Action\"}]</td>\n",
       "      <td>2149</td>\n",
       "      <td>0</td>\n",
       "      <td>Jun 1, 2001</td>\n",
       "      <td>0</td>\n",
       "    </tr>\n",
       "    <tr>\n",
       "      <th>4</th>\n",
       "      <td>game</td>\n",
       "      <td>Half-Life: Opposing Force</td>\n",
       "      <td>50</td>\n",
       "      <td>0</td>\n",
       "      <td>0</td>\n",
       "      <td>None</td>\n",
       "      <td>[]</td>\n",
       "      <td>Return to the Black Mesa Research Facility as ...</td>\n",
       "      <td>Return to the Black Mesa Research Facility as ...</td>\n",
       "      <td>Return to the Black Mesa Research Facility as ...</td>\n",
       "      <td>English, French, German, Korean</td>\n",
       "      <td>None</td>\n",
       "      <td>https://shared.akamai.steamstatic.com/store_it...</td>\n",
       "      <td>https://shared.akamai.steamstatic.com/store_it...</td>\n",
       "      <td></td>\n",
       "      <td>{\"minimum\": \"\\r\\n\\t\\t\\t&lt;p&gt;&lt;strong&gt;Minimum:&lt;/st...</td>\n",
       "      <td>[\"Gearbox Software\"]</td>\n",
       "      <td>[\"Valve\"]</td>\n",
       "      <td>{\"final\": 74, \"initial\": 499, \"currency\": \"USD...</td>\n",
       "      <td>{\"mac\": true, \"linux\": true, \"windows\": true}</td>\n",
       "      <td>0</td>\n",
       "      <td>[{\"id\": 2, \"description\": \"Single-player\"}, {\"...</td>\n",
       "      <td>[{\"id\": \"1\", \"description\": \"Action\"}]</td>\n",
       "      <td>19244</td>\n",
       "      <td>0</td>\n",
       "      <td>Nov 1, 1999</td>\n",
       "      <td>0</td>\n",
       "    </tr>\n",
       "  </tbody>\n",
       "</table>\n",
       "</div>"
      ],
      "text/plain": [
       "   type                       name  appid  required_age  is_free  \\\n",
       "0  game             Counter-Strike     10             0        0   \n",
       "1  game      Team Fortress Classic     20             0        0   \n",
       "2  game              Day of Defeat     30             0        0   \n",
       "3  game         Deathmatch Classic     40             0        0   \n",
       "4  game  Half-Life: Opposing Force     50             0        0   \n",
       "\n",
       "  controller_support dlc                               detailed_description  \\\n",
       "0               None  []  Play the world's number 1 online action game. ...   \n",
       "1               None  []  One of the most popular online action games of...   \n",
       "2               None  []  Enlist in an intense brand of Axis vs. Allied ...   \n",
       "3               None  []  Enjoy fast-paced multiplayer gaming with Death...   \n",
       "4               None  []  Return to the Black Mesa Research Facility as ...   \n",
       "\n",
       "                                      about_the_game  \\\n",
       "0  Play the world's number 1 online action game. ...   \n",
       "1  One of the most popular online action games of...   \n",
       "2  Enlist in an intense brand of Axis vs. Allied ...   \n",
       "3  Enjoy fast-paced multiplayer gaming with Death...   \n",
       "4  Return to the Black Mesa Research Facility as ...   \n",
       "\n",
       "                                   short_description  \\\n",
       "0  Play the world's number 1 online action game. ...   \n",
       "1  One of the most popular online action games of...   \n",
       "2  Enlist in an intense brand of Axis vs. Allied ...   \n",
       "3  Enjoy fast-paced multiplayer gaming with Death...   \n",
       "4  Return to the Black Mesa Research Facility as ...   \n",
       "\n",
       "                                 supported_languages reviews  \\\n",
       "0  English\\n*\\n, French\\n*\\n, German\\n*\\n, Italia...    None   \n",
       "1  English, French, German, Italian, Spanish - Sp...    None   \n",
       "2  English, French, German, Italian, Spanish - Spain    None   \n",
       "3  English, French, German, Italian, Spanish - Sp...    None   \n",
       "4                    English, French, German, Korean    None   \n",
       "\n",
       "                                        header_image  \\\n",
       "0  https://shared.akamai.steamstatic.com/store_it...   \n",
       "1  https://shared.akamai.steamstatic.com/store_it...   \n",
       "2  https://shared.akamai.steamstatic.com/store_it...   \n",
       "3  https://shared.akamai.steamstatic.com/store_it...   \n",
       "4  https://shared.akamai.steamstatic.com/store_it...   \n",
       "\n",
       "                                       capsule_image  \\\n",
       "0  https://shared.akamai.steamstatic.com/store_it...   \n",
       "1  https://shared.akamai.steamstatic.com/store_it...   \n",
       "2  https://shared.akamai.steamstatic.com/store_it...   \n",
       "3  https://shared.akamai.steamstatic.com/store_it...   \n",
       "4  https://shared.akamai.steamstatic.com/store_it...   \n",
       "\n",
       "                       website  \\\n",
       "0                                \n",
       "1                                \n",
       "2  http://www.dayofdefeat.com/   \n",
       "3                                \n",
       "4                                \n",
       "\n",
       "                                        requirements            developers  \\\n",
       "0  {\"minimum\": \"\\r\\n\\t\\t\\t<p><strong>Minimum:</st...             [\"Valve\"]   \n",
       "1  {\"minimum\": \"\\r\\n\\t\\t\\t<p><strong>Minimum:</st...             [\"Valve\"]   \n",
       "2  {\"minimum\": \"\\r\\n\\t\\t\\t<p><strong>Minimum:</st...             [\"Valve\"]   \n",
       "3  {\"minimum\": \"\\r\\n\\t\\t\\t<p><strong>Minimum:</st...             [\"Valve\"]   \n",
       "4  {\"minimum\": \"\\r\\n\\t\\t\\t<p><strong>Minimum:</st...  [\"Gearbox Software\"]   \n",
       "\n",
       "  publishers                                     price_overview  \\\n",
       "0  [\"Valve\"]  {\"final\": 99, \"initial\": 999, \"currency\": \"USD...   \n",
       "1  [\"Valve\"]  {\"final\": 74, \"initial\": 499, \"currency\": \"USD...   \n",
       "2  [\"Valve\"]  {\"final\": 74, \"initial\": 499, \"currency\": \"USD...   \n",
       "3  [\"Valve\"]  {\"final\": 74, \"initial\": 499, \"currency\": \"USD...   \n",
       "4  [\"Valve\"]  {\"final\": 74, \"initial\": 499, \"currency\": \"USD...   \n",
       "\n",
       "                                        platform  metacritic  \\\n",
       "0  {\"mac\": true, \"linux\": true, \"windows\": true}          88   \n",
       "1  {\"mac\": true, \"linux\": true, \"windows\": true}           0   \n",
       "2  {\"mac\": true, \"linux\": true, \"windows\": true}          79   \n",
       "3  {\"mac\": true, \"linux\": true, \"windows\": true}           0   \n",
       "4  {\"mac\": true, \"linux\": true, \"windows\": true}           0   \n",
       "\n",
       "                                          categories  \\\n",
       "0  [{\"id\": 1, \"description\": \"Multi-player\"}, {\"i...   \n",
       "1  [{\"id\": 1, \"description\": \"Multi-player\"}, {\"i...   \n",
       "2  [{\"id\": 1, \"description\": \"Multi-player\"}, {\"i...   \n",
       "3  [{\"id\": 1, \"description\": \"Multi-player\"}, {\"i...   \n",
       "4  [{\"id\": 2, \"description\": \"Single-player\"}, {\"...   \n",
       "\n",
       "                                   genres  recommendations  achievements  \\\n",
       "0  [{\"id\": \"1\", \"description\": \"Action\"}]           150423             0   \n",
       "1  [{\"id\": \"1\", \"description\": \"Action\"}]             6133             0   \n",
       "2  [{\"id\": \"1\", \"description\": \"Action\"}]             4074             0   \n",
       "3  [{\"id\": \"1\", \"description\": \"Action\"}]             2149             0   \n",
       "4  [{\"id\": \"1\", \"description\": \"Action\"}]            19244             0   \n",
       "\n",
       "  release_date  coming_soon  \n",
       "0  Nov 1, 2000            0  \n",
       "1  Apr 1, 1999            0  \n",
       "2  May 1, 2003            0  \n",
       "3  Jun 1, 2001            0  \n",
       "4  Nov 1, 1999            0  "
      ]
     },
     "execution_count": 3,
     "metadata": {},
     "output_type": "execute_result"
    }
   ],
   "source": [
    "def fetch_data(source: str):\n",
    "    \"\"\"\n",
    "    Fetches data from a specified source and returns it as a pandas DataFrame.\n",
    "\n",
    "    Parameters:\n",
    "    source (str): The name of the source file containing the SQL query.\n",
    "\n",
    "    Returns:\n",
    "    pandas.DataFrame: The fetched data as a DataFrame.\n",
    "\n",
    "    \"\"\"\n",
    "    with open(os.path.join(Path.sql_queries, source), \"r\") as f:\n",
    "        query = text(f.read())\n",
    "        \n",
    "    with get_db() as db:\n",
    "        result = db.execute(query)\n",
    "\n",
    "    data = result.fetchall()\n",
    "    columns = result.keys()\n",
    "    df = pd.DataFrame(data, columns=columns)\n",
    "\n",
    "    return df\n",
    "\n",
    "steam_data = fetch_data(\"get_all_steam_data.sql\")\n",
    "steam_data.head()"
   ]
  },
  {
   "cell_type": "markdown",
   "metadata": {},
   "source": [
    "Creating a copy of `steam_data` dataset before starting the cleaning process."
   ]
  },
  {
   "cell_type": "code",
   "execution_count": 4,
   "metadata": {},
   "outputs": [],
   "source": [
    "raw_steam_data = steam_data.copy()"
   ]
  },
  {
   "cell_type": "markdown",
   "metadata": {},
   "source": [
    "### Process Null values"
   ]
  },
  {
   "cell_type": "markdown",
   "metadata": {},
   "source": [
    "Since the data is queried from SQL, some null vales are read as strings. "
   ]
  },
  {
   "cell_type": "code",
   "execution_count": 5,
   "metadata": {},
   "outputs": [
    {
     "data": {
      "text/plain": [
       "type                        0\n",
       "name                       15\n",
       "appid                       0\n",
       "required_age                0\n",
       "is_free                     0\n",
       "controller_support      57183\n",
       "dlc                         0\n",
       "detailed_description      121\n",
       "about_the_game            146\n",
       "short_description          64\n",
       "supported_languages        82\n",
       "reviews                 63623\n",
       "header_image                0\n",
       "capsule_image               0\n",
       "website                 36352\n",
       "requirements               54\n",
       "developers                232\n",
       "publishers                 11\n",
       "price_overview           9895\n",
       "platform                    0\n",
       "metacritic                  0\n",
       "categories                801\n",
       "genres                    133\n",
       "recommendations             0\n",
       "achievements                0\n",
       "release_date              112\n",
       "coming_soon                 0\n",
       "dtype: int64"
      ]
     },
     "execution_count": 5,
     "metadata": {},
     "output_type": "execute_result"
    }
   ],
   "source": [
    "def process_null(df):\n",
    "    \"\"\"\n",
    "    Process null values in a DataFrame by replacing specific values with None.\n",
    "\n",
    "    Args:\n",
    "        df (pandas.DataFrame): The DataFrame to process.\n",
    "\n",
    "    Returns:\n",
    "        pandas.DataFrame: The processed DataFrame with null values replaced.\n",
    "\n",
    "    \"\"\"\n",
    "    df = df.copy()\n",
    "\n",
    "    convert_to_none = ['', 'none', 'null', 'N/a', 'n/a', '[\"none\"]', '[\"null\"]', '{}', ' ']\n",
    "    df.replace(convert_to_none, None, inplace=True)\n",
    "    \n",
    "    return df\n",
    "\n",
    "raw_steam_data = process_null(raw_steam_data)\n",
    "raw_steam_data.isnull().sum()"
   ]
  },
  {
   "cell_type": "markdown",
   "metadata": {},
   "source": [
    "### Processing Age"
   ]
  },
  {
   "cell_type": "code",
   "execution_count": 6,
   "metadata": {},
   "outputs": [
    {
     "data": {
      "text/plain": [
       "required_age\n",
       "0     72952\n",
       "17      606\n",
       "18      155\n",
       "13      121\n",
       "16       50\n",
       "12       35\n",
       "10       14\n",
       "15       14\n",
       "7         9\n",
       "6         8\n",
       "3         5\n",
       "14        4\n",
       "11        2\n",
       "21        1\n",
       "5         1\n",
       "Name: count, dtype: int64"
      ]
     },
     "execution_count": 6,
     "metadata": {},
     "output_type": "execute_result"
    }
   ],
   "source": [
    "raw_steam_data['required_age'].value_counts()"
   ]
  },
  {
   "cell_type": "markdown",
   "metadata": {},
   "source": [
    "Reducing the number of categories that ages fall into by following the [PEGI age ratings](https://pegi.info) categories. For example, instead of comparing games rated as 5, 6, 7 or 8, we could compare games rated 5+ or 8+. "
   ]
  },
  {
   "cell_type": "code",
   "execution_count": 7,
   "metadata": {},
   "outputs": [
    {
     "data": {
      "text/plain": [
       "required_age\n",
       "0     72952\n",
       "3         5\n",
       "7        18\n",
       "12       51\n",
       "16      189\n",
       "18      762\n",
       "Name: count, dtype: int64"
      ]
     },
     "execution_count": 7,
     "metadata": {},
     "output_type": "execute_result"
    }
   ],
   "source": [
    "def process_age(df):\n",
    "    \"\"\"\n",
    "    Process the 'required_age' column in the given DataFrame.\n",
    "\n",
    "    Parameters:\n",
    "    df (DataFrame): The input DataFrame containing the 'required_age' column.\n",
    "\n",
    "    Returns:\n",
    "    DataFrame: A copy of the input DataFrame with the 'required_age' column processed.\n",
    "\n",
    "    \"\"\"\n",
    "    df = df.copy()\n",
    "    cut_points = [-1, 0, 3, 7, 12, 16, 1000]\n",
    "    categories = [0, 3, 7, 12, 16, 18]\n",
    "\n",
    "    df = df[df['required_age'].notna()] \n",
    "    df['required_age'] = pd.cut(df['required_age'], bins=cut_points, labels=categories)\n",
    "    \n",
    "    return df\n",
    "\n",
    "age_df = process_age(raw_steam_data)\n",
    "age_df['required_age'].value_counts().sort_index()"
   ]
  },
  {
   "cell_type": "markdown",
   "metadata": {},
   "source": [
    "### Processing Platforms"
   ]
  },
  {
   "cell_type": "code",
   "execution_count": 8,
   "metadata": {},
   "outputs": [
    {
     "name": "stdout",
     "output_type": "stream",
     "text": [
      "<class 'str'>\n"
     ]
    },
    {
     "data": {
      "text/plain": [
       "'{\"mac\": true, \"linux\": true, \"windows\": true}'"
      ]
     },
     "execution_count": 8,
     "metadata": {},
     "output_type": "execute_result"
    }
   ],
   "source": [
    "platforms_first_row = age_df['platform'].iloc[0]\n",
    "print(type(platforms_first_row))\n",
    "platforms_first_row"
   ]
  },
  {
   "cell_type": "markdown",
   "metadata": {},
   "source": [
    "First task is to recognise the data as dictionaries rather than strings."
   ]
  },
  {
   "cell_type": "code",
   "execution_count": 9,
   "metadata": {},
   "outputs": [
    {
     "name": "stdout",
     "output_type": "stream",
     "text": [
      "<class 'dict'>\n",
      "{'mac': True, 'linux': True, 'windows': True}\n"
     ]
    },
    {
     "data": {
      "text/plain": [
       "True"
      ]
     },
     "execution_count": 9,
     "metadata": {},
     "output_type": "execute_result"
    }
   ],
   "source": [
    "eval_first_row = json.loads(platforms_first_row)\n",
    "print(type(eval_first_row))\n",
    "print(eval_first_row)\n",
    "eval_first_row['windows']"
   ]
  },
  {
   "cell_type": "markdown",
   "metadata": {},
   "source": [
    "Formatting the output. Let's keep things simple and return a string of supported platforms"
   ]
  },
  {
   "cell_type": "code",
   "execution_count": 10,
   "metadata": {},
   "outputs": [
    {
     "data": {
      "text/plain": [
       "'mac;linux;windows'"
      ]
     },
     "execution_count": 10,
     "metadata": {},
     "output_type": "execute_result"
    }
   ],
   "source": [
    "';'.join(eval_first_row.keys())"
   ]
  },
  {
   "cell_type": "markdown",
   "metadata": {},
   "source": [
    "Keeping only keys that have `True` value"
   ]
  },
  {
   "cell_type": "code",
   "execution_count": 11,
   "metadata": {},
   "outputs": [
    {
     "name": "stdout",
     "output_type": "stream",
     "text": [
      "['windows', 'mac']\n"
     ]
    },
    {
     "data": {
      "text/plain": [
       "'windows;mac'"
      ]
     },
     "execution_count": 11,
     "metadata": {},
     "output_type": "execute_result"
    }
   ],
   "source": [
    "platforms = {'windows': True, 'mac': True, 'linux': False}\n",
    "print([x for x in platforms.keys() if platforms[x]])\n",
    "';'.join(x for x in platforms.keys() if platforms[x])"
   ]
  },
  {
   "cell_type": "markdown",
   "metadata": {},
   "source": [
    "Creating a funtion by using pandas [Series.apply](https://pandas.pydata.org/pandas-docs/stable/reference/api/pandas.Series.apply.html)"
   ]
  },
  {
   "cell_type": "code",
   "execution_count": 12,
   "metadata": {},
   "outputs": [
    {
     "data": {
      "text/plain": [
       "platform\n",
       "windows              55962\n",
       "mac;linux;windows     8073\n",
       "mac;windows           7453\n",
       "linux;windows         2466\n",
       "mac                     11\n",
       "linux                   11\n",
       "mac;linux                1\n",
       "Name: count, dtype: int64"
      ]
     },
     "execution_count": 12,
     "metadata": {},
     "output_type": "execute_result"
    }
   ],
   "source": [
    "def process_platforms(df):\n",
    "    \"\"\"\n",
    "    Process the platforms column in the given DataFrame.\n",
    "\n",
    "    Args:\n",
    "        df (pandas.DataFrame): The DataFrame containing the platforms column.\n",
    "\n",
    "    Returns:\n",
    "        pandas.DataFrame: The DataFrame with the platforms column processed.\n",
    "    \"\"\"\n",
    "    df = df.copy()\n",
    "\n",
    "    def parse_platforms(x):\n",
    "        \"\"\"\n",
    "        Parse the platforms from the given JSON string.\n",
    "\n",
    "        Args:\n",
    "            x (str): The JSON string representing the platforms.\n",
    "\n",
    "        Returns:\n",
    "            str: The parsed platforms separated by semicolons.\n",
    "        \"\"\"\n",
    "        d = json.loads(x)\n",
    "\n",
    "        return ';'.join(platform for platform in d.keys() if d[platform])\n",
    "\n",
    "    df['platform'] = df['platform'].apply(parse_platforms)\n",
    "\n",
    "    return df\n",
    "\n",
    "platforms_df = process_platforms(age_df)\n",
    "platforms_df['platform'].value_counts()"
   ]
  },
  {
   "cell_type": "markdown",
   "metadata": {},
   "source": [
    "### Processing Languages"
   ]
  },
  {
   "cell_type": "code",
   "execution_count": 13,
   "metadata": {},
   "outputs": [
    {
     "data": {
      "text/plain": [
       "supported_languages\n",
       "English                                                           19799\n",
       "English\\n*\\n*\\nlanguages with full audio support                  17331\n",
       "English, Russian                                                   1386\n",
       "English, Simplified Chinese                                        1020\n",
       "English, Japanese                                                   888\n",
       "Simplified Chinese                                                  829\n",
       "Simplified Chinese\\n*\\n*\\nlanguages with full audio support         649\n",
       "English\\n*\\n, Russian\\n*\\n*\\nlanguages with full audio support      457\n",
       "English, Portuguese - Brazil                                        422\n",
       "English, French                                                     395\n",
       "Name: count, dtype: int64"
      ]
     },
     "execution_count": 13,
     "metadata": {},
     "output_type": "execute_result"
    }
   ],
   "source": [
    "platforms_df['supported_languages'].value_counts().head(10)"
   ]
  },
  {
   "cell_type": "markdown",
   "metadata": {},
   "source": [
    "English plus other languages make up most of the data. It seems reasonably safe to assume that if the app is in English, the word English will appear somewhere in this string. Use the Series.apply to check if the string 'english' appears in each row. Null values are dropped as they are very less in number."
   ]
  },
  {
   "cell_type": "code",
   "execution_count": 14,
   "metadata": {},
   "outputs": [
    {
     "data": {
      "text/html": [
       "<div>\n",
       "<style scoped>\n",
       "    .dataframe tbody tr th:only-of-type {\n",
       "        vertical-align: middle;\n",
       "    }\n",
       "\n",
       "    .dataframe tbody tr th {\n",
       "        vertical-align: top;\n",
       "    }\n",
       "\n",
       "    .dataframe thead th {\n",
       "        text-align: right;\n",
       "    }\n",
       "</style>\n",
       "<table border=\"1\" class=\"dataframe\">\n",
       "  <thead>\n",
       "    <tr style=\"text-align: right;\">\n",
       "      <th></th>\n",
       "      <th>name</th>\n",
       "      <th>english</th>\n",
       "    </tr>\n",
       "  </thead>\n",
       "  <tbody>\n",
       "    <tr>\n",
       "      <th>0</th>\n",
       "      <td>Counter-Strike</td>\n",
       "      <td>1</td>\n",
       "    </tr>\n",
       "    <tr>\n",
       "      <th>1</th>\n",
       "      <td>Team Fortress Classic</td>\n",
       "      <td>1</td>\n",
       "    </tr>\n",
       "    <tr>\n",
       "      <th>2</th>\n",
       "      <td>Day of Defeat</td>\n",
       "      <td>1</td>\n",
       "    </tr>\n",
       "    <tr>\n",
       "      <th>3</th>\n",
       "      <td>Deathmatch Classic</td>\n",
       "      <td>1</td>\n",
       "    </tr>\n",
       "    <tr>\n",
       "      <th>4</th>\n",
       "      <td>Half-Life: Opposing Force</td>\n",
       "      <td>1</td>\n",
       "    </tr>\n",
       "  </tbody>\n",
       "</table>\n",
       "</div>"
      ],
      "text/plain": [
       "                        name  english\n",
       "0             Counter-Strike        1\n",
       "1      Team Fortress Classic        1\n",
       "2              Day of Defeat        1\n",
       "3         Deathmatch Classic        1\n",
       "4  Half-Life: Opposing Force        1"
      ]
     },
     "execution_count": 14,
     "metadata": {},
     "output_type": "execute_result"
    }
   ],
   "source": [
    "def process_language(df):\n",
    "    \"\"\"\n",
    "    Process the language data in the given DataFrame.\n",
    "\n",
    "    Parameters:\n",
    "    df (DataFrame): The input DataFrame containing the language data.\n",
    "\n",
    "    Returns:\n",
    "    DataFrame: The processed DataFrame with the language data cleaned.\n",
    "\n",
    "    \"\"\"\n",
    "    df = df.copy()\n",
    "    \n",
    "    df = df.dropna(subset=['supported_languages'])\n",
    "    \n",
    "    df['english'] = df['supported_languages'].apply(lambda x: 1 if 'english' in x.lower() else 0)\n",
    "    df = df.drop('supported_languages', axis=1)\n",
    "    \n",
    "    return df\n",
    "\n",
    "language_df = process_language(platforms_df)\n",
    "language_df[['name', 'english']].head()"
   ]
  },
  {
   "cell_type": "code",
   "execution_count": 15,
   "metadata": {},
   "outputs": [
    {
     "data": {
      "text/plain": [
       "english\n",
       "1    71174\n",
       "0     2721\n",
       "Name: count, dtype: int64"
      ]
     },
     "execution_count": 15,
     "metadata": {},
     "output_type": "execute_result"
    }
   ],
   "source": [
    "language_df['english'].value_counts()"
   ]
  },
  {
   "cell_type": "markdown",
   "metadata": {},
   "source": [
    "### Processing Developers and Publishers"
   ]
  },
  {
   "cell_type": "code",
   "execution_count": 16,
   "metadata": {},
   "outputs": [
    {
     "name": "stdout",
     "output_type": "stream",
     "text": [
      "Developers null counts: 214\n",
      "Developers empty list counts: 0\n",
      "\n",
      "Publishers null counts: 10\n",
      "Publishers empty list counts: 504\n"
     ]
    }
   ],
   "source": [
    "print('Developers null counts:', language_df[language_df['developers'].isnull()].shape[0])\n",
    "print('Developers empty list counts:', language_df[language_df['developers'] == '[\"\"]'].shape[0])\n",
    "\n",
    "print('\\nPublishers null counts:', language_df['publishers'].isnull().sum())\n",
    "print('Publishers empty list counts:', language_df[language_df['publishers'] == '[\"\"]'].shape[0])"
   ]
  },
  {
   "cell_type": "markdown",
   "metadata": {},
   "source": [
    "A few options for dealing with these two columns:\n",
    "\n",
    "- Remove all rows missing either developer or publisher information\n",
    "- Impute missing information by replacing the missing column with the column we have (i.e. if developers is missing, fill it with the value in publishers)\n",
    "- Fill missing information with 'Unknown' or 'None'"
   ]
  },
  {
   "cell_type": "code",
   "execution_count": 17,
   "metadata": {},
   "outputs": [
    {
     "name": "stdout",
     "output_type": "stream",
     "text": [
      "Total games missing developer: 214 \n",
      "\n",
      "Crash Time 2: http://store.steampowered.com/app/11390\n",
      "18 Wheels of Steel: Extreme Trucker: http://store.steampowered.com/app/33730\n",
      "Prison Tycoon 4: SuperMax: http://store.steampowered.com/app/33750\n",
      "Jewel Quest Pack: http://store.steampowered.com/app/37960\n",
      "Mahjong Quest Collection: http://store.steampowered.com/app/38000\n"
     ]
    }
   ],
   "source": [
    "no_dev = language_df[language_df['developers'].isnull()]\n",
    "print('Total games missing developer:', no_dev.shape[0], '\\n')\n",
    "print_steam_links(no_dev[:5])"
   ]
  },
  {
   "cell_type": "code",
   "execution_count": 18,
   "metadata": {},
   "outputs": [
    {
     "name": "stdout",
     "output_type": "stream",
     "text": [
      "\n",
      "Total games missing publisher: 504 \n",
      "\n",
      "RIP - Trilogy™: http://store.steampowered.com/app/2540\n",
      "Vigil: Blood Bitterness™: http://store.steampowered.com/app/2570\n",
      "ThreadSpace: Hyperbol: http://store.steampowered.com/app/2720\n",
      "Bullet Candy: http://store.steampowered.com/app/6600\n",
      "Loki: http://store.steampowered.com/app/7260\n"
     ]
    }
   ],
   "source": [
    "no_pub = language_df[language_df['publishers'] == '[\"\"]']\n",
    "print('\\nTotal games missing publisher:', no_pub.shape[0], '\\n')\n",
    "print_steam_links(no_pub[:5])"
   ]
  },
  {
   "cell_type": "code",
   "execution_count": 19,
   "metadata": {},
   "outputs": [
    {
     "name": "stdout",
     "output_type": "stream",
     "text": [
      "\n",
      "Total games missing developer and publisher: 137 \n",
      "\n",
      "Guardians of Graxia: http://store.steampowered.com/app/90500\n",
      "Patterns: http://store.steampowered.com/app/218980\n",
      "PlayClaw 5 - Game Recording and Streaming: http://store.steampowered.com/app/237370\n",
      "Artemis Spaceship Bridge Simulator: http://store.steampowered.com/app/247350\n",
      "A Walk in the Dark: http://store.steampowered.com/app/248730\n"
     ]
    }
   ],
   "source": [
    "no_dev_or_pub = language_df[(language_df['developers'].isnull()) & (language_df['publishers'] == '[\"\"]')]\n",
    "print('\\nTotal games missing developer and publisher:', no_dev_or_pub.shape[0], '\\n')\n",
    "print_steam_links(no_dev_or_pub[:5])"
   ]
  },
  {
   "cell_type": "markdown",
   "metadata": {},
   "source": [
    "Some titles may have been self-publishes while others simply have wrong ot missing data. As the priority is creating a clean dataset, and there are only a few hundred rows, it will be fine to remove them from the data. Is is also safe to assume that multiple developers or publishers may have been involved in the game. The column can be formateed by joining the multiple developers and publishers into a string. Since a number of developers and publishers have a comma in their name (for example PopCap Games, Inc.), they can be joint on a semi-colon. There are some that have `[NA]` or `[N/A]` or `[N/a]`."
   ]
  },
  {
   "cell_type": "code",
   "execution_count": 20,
   "metadata": {},
   "outputs": [
    {
     "data": {
      "text/html": [
       "<div>\n",
       "<style scoped>\n",
       "    .dataframe tbody tr th:only-of-type {\n",
       "        vertical-align: middle;\n",
       "    }\n",
       "\n",
       "    .dataframe tbody tr th {\n",
       "        vertical-align: top;\n",
       "    }\n",
       "\n",
       "    .dataframe thead th {\n",
       "        text-align: right;\n",
       "    }\n",
       "</style>\n",
       "<table border=\"1\" class=\"dataframe\">\n",
       "  <thead>\n",
       "    <tr style=\"text-align: right;\">\n",
       "      <th></th>\n",
       "      <th>name</th>\n",
       "      <th>appid</th>\n",
       "      <th>developer</th>\n",
       "      <th>publisher</th>\n",
       "    </tr>\n",
       "  </thead>\n",
       "  <tbody>\n",
       "    <tr>\n",
       "      <th>0</th>\n",
       "      <td>Counter-Strike</td>\n",
       "      <td>10</td>\n",
       "      <td>Valve</td>\n",
       "      <td>Valve</td>\n",
       "    </tr>\n",
       "    <tr>\n",
       "      <th>1</th>\n",
       "      <td>Team Fortress Classic</td>\n",
       "      <td>20</td>\n",
       "      <td>Valve</td>\n",
       "      <td>Valve</td>\n",
       "    </tr>\n",
       "    <tr>\n",
       "      <th>2</th>\n",
       "      <td>Day of Defeat</td>\n",
       "      <td>30</td>\n",
       "      <td>Valve</td>\n",
       "      <td>Valve</td>\n",
       "    </tr>\n",
       "    <tr>\n",
       "      <th>3</th>\n",
       "      <td>Deathmatch Classic</td>\n",
       "      <td>40</td>\n",
       "      <td>Valve</td>\n",
       "      <td>Valve</td>\n",
       "    </tr>\n",
       "    <tr>\n",
       "      <th>4</th>\n",
       "      <td>Half-Life: Opposing Force</td>\n",
       "      <td>50</td>\n",
       "      <td>Gearbox Software</td>\n",
       "      <td>Valve</td>\n",
       "    </tr>\n",
       "  </tbody>\n",
       "</table>\n",
       "</div>"
      ],
      "text/plain": [
       "                        name  appid         developer publisher\n",
       "0             Counter-Strike     10             Valve     Valve\n",
       "1      Team Fortress Classic     20             Valve     Valve\n",
       "2              Day of Defeat     30             Valve     Valve\n",
       "3         Deathmatch Classic     40             Valve     Valve\n",
       "4  Half-Life: Opposing Force     50  Gearbox Software     Valve"
      ]
     },
     "execution_count": 20,
     "metadata": {},
     "output_type": "execute_result"
    }
   ],
   "source": [
    "def process_developers_and_publishers(df):\n",
    "    \"\"\"\n",
    "    Process the developers and publishers columns in the given DataFrame.\n",
    "\n",
    "    Args:\n",
    "        df (pandas.DataFrame): The DataFrame containing the developers and publishers columns.\n",
    "\n",
    "    Returns:\n",
    "        pandas.DataFrame: The processed DataFrame with the developers and publishers columns transformed.\n",
    "\n",
    "    \"\"\"\n",
    "    pattern = r'(?i)\\[\"(n/a|na|null)\"\\]'\n",
    "\n",
    "    df = df[(df['developers'].notna()) & (df['publishers'].notna() & (df['publishers'] != '[\"\"]') & (df['publishers'] != '[\" \"]'))]\n",
    "    df = df[~df['developers'].str.contains(pattern, na=False)]\n",
    "    df = df[~df['publishers'].str.contains(pattern, na=False)]\n",
    "\n",
    "    df = df[~df['developers'].str.contains(';', na=False)]\n",
    "    df = df[~df['publishers'].str.contains(';', na=False)]\n",
    "\n",
    "    def safe_literal_eval(val):\n",
    "        try:\n",
    "            result = literal_eval(val)\n",
    "            if isinstance(result, list):\n",
    "                return ';'.join(filter(None, result))\n",
    "        except (ValueError, SyntaxError):\n",
    "            return ''\n",
    "        return val\n",
    "    \n",
    "    df['developer'] = df['developers'].apply(safe_literal_eval)\n",
    "    df['publisher'] = df['publishers'].apply(safe_literal_eval)\n",
    "\n",
    "    df = df.drop(['developers', 'publishers'], axis=1)\n",
    "    \n",
    "    return df\n",
    "\n",
    "dev_pub_df = process_developers_and_publishers(language_df)\n",
    "dev_pub_df[['name', 'appid', 'developer', 'publisher']].head()\n"
   ]
  },
  {
   "cell_type": "markdown",
   "metadata": {},
   "source": [
    "Helper cell to check if any values of `[n/a]` variations were missed."
   ]
  },
  {
   "cell_type": "code",
   "execution_count": 21,
   "metadata": {},
   "outputs": [],
   "source": [
    "# temp = check_na(dev_pub_df, 'publisher')\n",
    "# temp.head()"
   ]
  },
  {
   "cell_type": "markdown",
   "metadata": {},
   "source": [
    "### Processing Price"
   ]
  },
  {
   "cell_type": "code",
   "execution_count": 22,
   "metadata": {},
   "outputs": [
    {
     "data": {
      "text/plain": [
       "9696"
      ]
     },
     "execution_count": 22,
     "metadata": {},
     "output_type": "execute_result"
    }
   ],
   "source": [
    "dev_pub_df[dev_pub_df['price_overview'].isnull()].shape[0]"
   ]
  },
  {
   "cell_type": "code",
   "execution_count": 23,
   "metadata": {},
   "outputs": [
    {
     "name": "stdout",
     "output_type": "stream",
     "text": [
      "Games that are marked free and have price as null:  6040\n"
     ]
    }
   ],
   "source": [
    "free_and_null_price = dev_pub_df[(dev_pub_df['is_free']) & (dev_pub_df['price_overview'].isnull())]\n",
    "print(\"Games that are marked free and have price as null: \", free_and_null_price.shape[0])"
   ]
  },
  {
   "cell_type": "markdown",
   "metadata": {},
   "source": [
    "It turns out this accounts for most of the missing values in the `price_overview` column. These missing values can be handled by setting the final price as 0. This makes intuitive sense - free games wouldn't have a price."
   ]
  },
  {
   "cell_type": "code",
   "execution_count": 24,
   "metadata": {},
   "outputs": [
    {
     "name": "stdout",
     "output_type": "stream",
     "text": [
      "Steam store links to some games that are not free and have missing price\n",
      "\n",
      "Half-Life 2: Lost Coast: http://store.steampowered.com/app/340\n",
      "Final DOOM: http://store.steampowered.com/app/2290\n",
      "Quake II Mission Pack: The Reckoning: http://store.steampowered.com/app/2330\n",
      "Quake II Mission Pack: Ground Zero: http://store.steampowered.com/app/2340\n",
      "The Ship: Single Player: http://store.steampowered.com/app/2420\n"
     ]
    }
   ],
   "source": [
    "not_free_and_null_price = dev_pub_df[(dev_pub_df['is_free'] == 0) & (dev_pub_df['price_overview'].isnull())]\n",
    "print(\"Steam store links to some games that are not free and have missing price\\n\")\n",
    "print_steam_links(not_free_and_null_price[:5])"
   ]
  },
  {
   "cell_type": "markdown",
   "metadata": {},
   "source": [
    "Some of these games are sold as part of the main game, some have been removed while others have their name replaced."
   ]
  },
  {
   "cell_type": "code",
   "execution_count": 25,
   "metadata": {},
   "outputs": [
    {
     "data": {
      "text/plain": [
       "'{\"final\": 119, \"initial\": 599, \"currency\": \"USD\", \"final_formatted\": \"$1.19\", \"discount_percent\": 80, \"initial_formatted\": \"$5.99\"}'"
      ]
     },
     "execution_count": 25,
     "metadata": {},
     "output_type": "execute_result"
    }
   ],
   "source": [
    "dev_pub_df['price_overview'][37]"
   ]
  },
  {
   "cell_type": "markdown",
   "metadata": {},
   "source": [
    "This will be formatted by taking only the `currency` and `initial` keys. These will be created as two seperate columns. There are multiple currencies and it makes sense to convert these to USD."
   ]
  },
  {
   "cell_type": "code",
   "execution_count": 26,
   "metadata": {},
   "outputs": [
    {
     "data": {
      "text/html": [
       "<div>\n",
       "<style scoped>\n",
       "    .dataframe tbody tr th:only-of-type {\n",
       "        vertical-align: middle;\n",
       "    }\n",
       "\n",
       "    .dataframe tbody tr th {\n",
       "        vertical-align: top;\n",
       "    }\n",
       "\n",
       "    .dataframe thead th {\n",
       "        text-align: right;\n",
       "    }\n",
       "</style>\n",
       "<table border=\"1\" class=\"dataframe\">\n",
       "  <thead>\n",
       "    <tr style=\"text-align: right;\">\n",
       "      <th></th>\n",
       "      <th>name</th>\n",
       "      <th>price</th>\n",
       "    </tr>\n",
       "  </thead>\n",
       "  <tbody>\n",
       "    <tr>\n",
       "      <th>0</th>\n",
       "      <td>Counter-Strike</td>\n",
       "      <td>9.99</td>\n",
       "    </tr>\n",
       "    <tr>\n",
       "      <th>1</th>\n",
       "      <td>Team Fortress Classic</td>\n",
       "      <td>4.99</td>\n",
       "    </tr>\n",
       "    <tr>\n",
       "      <th>2</th>\n",
       "      <td>Day of Defeat</td>\n",
       "      <td>4.99</td>\n",
       "    </tr>\n",
       "    <tr>\n",
       "      <th>3</th>\n",
       "      <td>Deathmatch Classic</td>\n",
       "      <td>4.99</td>\n",
       "    </tr>\n",
       "    <tr>\n",
       "      <th>4</th>\n",
       "      <td>Half-Life: Opposing Force</td>\n",
       "      <td>4.99</td>\n",
       "    </tr>\n",
       "  </tbody>\n",
       "</table>\n",
       "</div>"
      ],
      "text/plain": [
       "                        name  price\n",
       "0             Counter-Strike   9.99\n",
       "1      Team Fortress Classic   4.99\n",
       "2              Day of Defeat   4.99\n",
       "3         Deathmatch Classic   4.99\n",
       "4  Half-Life: Opposing Force   4.99"
      ]
     },
     "execution_count": 26,
     "metadata": {},
     "output_type": "execute_result"
    }
   ],
   "source": [
    "def process_price(df):\n",
    "    \"\"\"\n",
    "    Process the price data in the given DataFrame.\n",
    "\n",
    "    Args:\n",
    "        df (pandas.DataFrame): The DataFrame containing the price data.\n",
    "\n",
    "    Returns:\n",
    "        pandas.DataFrame: The DataFrame with processed price data.\n",
    "    \"\"\"\n",
    "    df = df.copy()\n",
    "    currency_rates = {'EUR': 1.08, 'TWD': 0.03, 'SGD': 0.74, 'BRL': 0.18, 'AUD': 0.67} \n",
    "        \n",
    "    def parse_price(x):\n",
    "        \"\"\"\n",
    "        Parses the price information from a string representation.\n",
    "\n",
    "        Parameters:\n",
    "        x (str): The string representation of the price.\n",
    "\n",
    "        Returns:\n",
    "        dict: A dictionary containing the parsed price information. The dictionary has two keys:\n",
    "              - 'currency': The currency of the price.\n",
    "              - 'initial': The initial price value.\n",
    "        \"\"\"\n",
    "        if x is not None:\n",
    "            return literal_eval(x)\n",
    "        else:\n",
    "            return {'currency': 'USD', 'initial': -1}\n",
    "    \n",
    "    def convert_to_usd(price, currency, rates):\n",
    "        \"\"\"\n",
    "        Converts the given price from the specified currency to USD using the provided exchange rates.\n",
    "\n",
    "        Parameters:\n",
    "        price (float): The price to be converted.\n",
    "        currency (str): The currency of the price.\n",
    "        rates (dict): A dictionary containing exchange rates for different currencies.\n",
    "\n",
    "        Returns:\n",
    "        float: The converted price in USD.\n",
    "        \"\"\"\n",
    "        if currency == 'USD':\n",
    "            return price\n",
    "\n",
    "        currency_rate = rates[currency]\n",
    "        return price * currency_rate\n",
    "    \n",
    "    df['price_overview'] = df['price_overview'].apply(parse_price)\n",
    "    \n",
    "    df['currency'] = df['price_overview'].apply(lambda x: x['currency'])\n",
    "    df['price'] = df['price_overview'].apply(lambda x: x['initial'])\n",
    "    \n",
    "    df.loc[df['is_free'] == 1, 'price'] = 0\n",
    "    df.loc[df['price'] > 0, 'price'] /= 100\n",
    "\n",
    "    df['price'] = df.apply(lambda x: convert_to_usd(x['price'], x['currency'], currency_rates), axis=1)\n",
    "\n",
    "    df = df.drop(['is_free', 'currency', 'price_overview'], axis=1)\n",
    "    \n",
    "    return df\n",
    "\n",
    "price_df = process_price(dev_pub_df)\n",
    "price_df[['name', 'price']].head()"
   ]
  },
  {
   "cell_type": "markdown",
   "metadata": {},
   "source": [
    "### Processing Categories and Genres"
   ]
  },
  {
   "cell_type": "code",
   "execution_count": 27,
   "metadata": {},
   "outputs": [
    {
     "name": "stdout",
     "output_type": "stream",
     "text": [
      "Number of null values for categories:  797\n",
      "Number of null values for genres:  99\n"
     ]
    }
   ],
   "source": [
    "print(\"Number of null values for categories: \", price_df[price_df['categories'].isnull()].shape[0])\n",
    "print(\"Number of null values for genres: \", price_df[price_df['genres'].isnull()].shape[0])"
   ]
  },
  {
   "cell_type": "markdown",
   "metadata": {},
   "source": [
    "Randomly inspect null rows by using [Dataframe.sample](https://pandas.pydata.org/pandas-docs/stable/reference/api/pandas.DataFrame.sample.html) method."
   ]
  },
  {
   "cell_type": "code",
   "execution_count": 28,
   "metadata": {},
   "outputs": [
    {
     "name": "stdout",
     "output_type": "stream",
     "text": [
      "RPG Paper Maker: http://store.steampowered.com/app/1066860\n",
      "PhotoTangler Collage Maker: http://store.steampowered.com/app/586560\n",
      "MasterPlan: http://store.steampowered.com/app/1269310\n",
      "Home Office Tasker: http://store.steampowered.com/app/1727670\n",
      "Hypnosia - Application d'Hypnose avec Reconnaissance Vocale: http://store.steampowered.com/app/2952000\n"
     ]
    }
   ],
   "source": [
    "print_steam_links(price_df[price_df['categories'].isnull()].sample(5, random_state=0))"
   ]
  },
  {
   "cell_type": "markdown",
   "metadata": {},
   "source": [
    "All of the above rows of categories are applications or software of some kind, and not actually games. It would be best to remove these."
   ]
  },
  {
   "cell_type": "code",
   "execution_count": 29,
   "metadata": {},
   "outputs": [
    {
     "name": "stdout",
     "output_type": "stream",
     "text": [
      "ChessBase 13 Academy: http://store.steampowered.com/app/377340\n",
      "General Staff: Black Powder Battle Designer Bundle: http://store.steampowered.com/app/2231050\n",
      "Call of Cthulhu®: Dark Corners of the Earth: http://store.steampowered.com/app/22340\n",
      "River Relaxation VR: http://store.steampowered.com/app/938760\n",
      "Evil Shogun: http://store.steampowered.com/app/1505830\n"
     ]
    }
   ],
   "source": [
    "print_steam_links(price_df[price_df['genres'].isnull()].sample(5, random_state=0))"
   ]
  },
  {
   "cell_type": "markdown",
   "metadata": {},
   "source": [
    "Most of these are games and suggests that genre data simply wasn't supplied. These rows can be removed as these are less in number."
   ]
  },
  {
   "cell_type": "code",
   "execution_count": 30,
   "metadata": {},
   "outputs": [
    {
     "data": {
      "text/html": [
       "<div>\n",
       "<style scoped>\n",
       "    .dataframe tbody tr th:only-of-type {\n",
       "        vertical-align: middle;\n",
       "    }\n",
       "\n",
       "    .dataframe tbody tr th {\n",
       "        vertical-align: top;\n",
       "    }\n",
       "\n",
       "    .dataframe thead th {\n",
       "        text-align: right;\n",
       "    }\n",
       "</style>\n",
       "<table border=\"1\" class=\"dataframe\">\n",
       "  <thead>\n",
       "    <tr style=\"text-align: right;\">\n",
       "      <th></th>\n",
       "      <th>appid</th>\n",
       "      <th>categories</th>\n",
       "      <th>genres</th>\n",
       "    </tr>\n",
       "  </thead>\n",
       "  <tbody>\n",
       "    <tr>\n",
       "      <th>0</th>\n",
       "      <td>10</td>\n",
       "      <td>Multi-player;PvP;Online PvP;Shared/Split Scree...</td>\n",
       "      <td>Action</td>\n",
       "    </tr>\n",
       "    <tr>\n",
       "      <th>1</th>\n",
       "      <td>20</td>\n",
       "      <td>Multi-player;PvP;Online PvP;Shared/Split Scree...</td>\n",
       "      <td>Action</td>\n",
       "    </tr>\n",
       "    <tr>\n",
       "      <th>2</th>\n",
       "      <td>30</td>\n",
       "      <td>Multi-player;Valve Anti-Cheat enabled;Family S...</td>\n",
       "      <td>Action</td>\n",
       "    </tr>\n",
       "    <tr>\n",
       "      <th>3</th>\n",
       "      <td>40</td>\n",
       "      <td>Multi-player;PvP;Online PvP;Shared/Split Scree...</td>\n",
       "      <td>Action</td>\n",
       "    </tr>\n",
       "    <tr>\n",
       "      <th>4</th>\n",
       "      <td>50</td>\n",
       "      <td>Single-player;Multi-player;Valve Anti-Cheat en...</td>\n",
       "      <td>Action</td>\n",
       "    </tr>\n",
       "  </tbody>\n",
       "</table>\n",
       "</div>"
      ],
      "text/plain": [
       "   appid                                         categories  genres\n",
       "0     10  Multi-player;PvP;Online PvP;Shared/Split Scree...  Action\n",
       "1     20  Multi-player;PvP;Online PvP;Shared/Split Scree...  Action\n",
       "2     30  Multi-player;Valve Anti-Cheat enabled;Family S...  Action\n",
       "3     40  Multi-player;PvP;Online PvP;Shared/Split Scree...  Action\n",
       "4     50  Single-player;Multi-player;Valve Anti-Cheat en...  Action"
      ]
     },
     "execution_count": 30,
     "metadata": {},
     "output_type": "execute_result"
    }
   ],
   "source": [
    "def process_categories_and_genres(df):\n",
    "    \"\"\"\n",
    "    Process the categories and genres columns of the given DataFrame.\n",
    "    \n",
    "    Parameters:\n",
    "    df (DataFrame): The input DataFrame containing the 'categories' and 'genres' columns.\n",
    "    \n",
    "    Returns:\n",
    "    DataFrame: The processed DataFrame with the 'categories' and 'genres' columns modified.\n",
    "    \"\"\"\n",
    "    df = df.copy()\n",
    "    df = df[(df['categories'].notna()) & (df['genres'].notna())]\n",
    "    \n",
    "    for col in ['categories', 'genres']:\n",
    "        df[col] = df[col].apply(lambda x: ';'.join(item['description'] for item in literal_eval(x)))\n",
    "    \n",
    "    return df\n",
    "\n",
    "cat_gen_df = process_categories_and_genres(price_df)\n",
    "cat_gen_df[['appid', 'categories', 'genres']].head()"
   ]
  },
  {
   "cell_type": "markdown",
   "metadata": {},
   "source": [
    "### Processing Controllor Support"
   ]
  },
  {
   "cell_type": "code",
   "execution_count": 31,
   "metadata": {},
   "outputs": [
    {
     "data": {
      "text/plain": [
       "controller_support\n",
       "full    16681\n",
       "Name: count, dtype: int64"
      ]
     },
     "execution_count": 31,
     "metadata": {},
     "output_type": "execute_result"
    }
   ],
   "source": [
    "cat_gen_df['controller_support'].value_counts()"
   ]
  },
  {
   "cell_type": "markdown",
   "metadata": {},
   "source": [
    "Since it's either `full` or `None`, these can be replaced with 1's and 0's respectively."
   ]
  },
  {
   "cell_type": "code",
   "execution_count": 32,
   "metadata": {},
   "outputs": [
    {
     "data": {
      "text/plain": [
       "controller_support\n",
       "0    55700\n",
       "1    16681\n",
       "Name: count, dtype: int64"
      ]
     },
     "execution_count": 32,
     "metadata": {},
     "output_type": "execute_result"
    }
   ],
   "source": [
    "def process_controller(df):\n",
    "    \"\"\"\n",
    "    Process the controller support column in the given DataFrame.\n",
    "\n",
    "    Parameters:\n",
    "    df (pandas.DataFrame): The DataFrame containing the controller support column.\n",
    "\n",
    "    Returns:\n",
    "    pandas.DataFrame: The DataFrame with the controller support column processed.\n",
    "    \"\"\"\n",
    "    df = df.copy()\n",
    "    df['controller_support'] = df['controller_support'].apply(lambda x: 1 if x == 'full' else 0)\n",
    "\n",
    "    return df\n",
    "\n",
    "con_sup_df = process_controller(cat_gen_df)\n",
    "con_sup_df['controller_support'].value_counts()"
   ]
  },
  {
   "cell_type": "markdown",
   "metadata": {},
   "source": [
    "### Processing DLC"
   ]
  },
  {
   "cell_type": "code",
   "execution_count": 33,
   "metadata": {},
   "outputs": [
    {
     "data": {
      "text/plain": [
       "dlc\n",
       "[]                                                        60454\n",
       "[1477350]                                                     5\n",
       "[689890]                                                      2\n",
       "[952210]                                                      2\n",
       "[283750]                                                      2\n",
       "                                                          ...  \n",
       "[3075210, 3075230]                                            1\n",
       "[3027720, 3044890, 3044900]                                   1\n",
       "[2930440]                                                     1\n",
       "[2931080]                                                     1\n",
       "[3037840, 3037850, 3037860, 3037870, 3037880, 3037890]        1\n",
       "Name: count, Length: 11911, dtype: int64"
      ]
     },
     "execution_count": 33,
     "metadata": {},
     "output_type": "execute_result"
    }
   ],
   "source": [
    "con_sup_df['dlc'].value_counts()"
   ]
  },
  {
   "cell_type": "markdown",
   "metadata": {},
   "source": [
    "These values can be replaced by finding out the length of the list as it makes sense to know the number of dlc's a game has."
   ]
  },
  {
   "cell_type": "code",
   "execution_count": 34,
   "metadata": {},
   "outputs": [],
   "source": [
    "def process_dlc(df):\n",
    "    \"\"\"\n",
    "    Process the 'dlc' column in the given DataFrame by converting the values to the number of DLCs available for each game.\n",
    "\n",
    "    Args:\n",
    "        df (DataFrame): The input DataFrame containing the 'dlc' column.\n",
    "\n",
    "    Returns:\n",
    "        DataFrame: A copy of the input DataFrame with the 'dlc' column transformed to the number of DLCs.\n",
    "\n",
    "    \"\"\"\n",
    "    df = df.copy()\n",
    "\n",
    "    def parse_list(x):\n",
    "        \"\"\"\n",
    "        Parses a string representation of a list and returns the length of the list.\n",
    "\n",
    "        Parameters:\n",
    "        x (str): A string representation of a list.\n",
    "\n",
    "        Returns:\n",
    "        int: The length of the list.\n",
    "\n",
    "        \"\"\"\n",
    "        lst = literal_eval(x) \n",
    "        return len(lst)\n",
    "\n",
    "    df['dlc'] = df['dlc'].apply(parse_list)\n",
    "\n",
    "    return df\n",
    "\n",
    "dlc_df = process_dlc(con_sup_df)"
   ]
  },
  {
   "cell_type": "markdown",
   "metadata": {},
   "source": [
    "### Processing Requirements"
   ]
  },
  {
   "cell_type": "code",
   "execution_count": 35,
   "metadata": {},
   "outputs": [
    {
     "data": {
      "text/plain": [
       "'{\"minimum\": \"\\\\r\\\\n\\\\t\\\\t\\\\t<p><strong>Minimum:</strong> 500 mhz processor, 96mb ram, 16mb video card, Windows XP, Mouse, Keyboard, Internet Connection<br /></p>\\\\r\\\\n\\\\t\\\\t\\\\t<p><strong>Recommended:</strong> 800 mhz processor, 128mb ram, 32mb+ video card, Windows XP, Mouse, Keyboard, Internet Connection<br /></p>\\\\r\\\\n\\\\t\\\\t\\\\t\"}'"
      ]
     },
     "execution_count": 35,
     "metadata": {},
     "output_type": "execute_result"
    }
   ],
   "source": [
    "text = dlc_df['requirements'][0]\n",
    "text"
   ]
  },
  {
   "cell_type": "markdown",
   "metadata": {},
   "source": [
    "The strings are full of html formatting, which is presumably parsed to display the information on the website."
   ]
  },
  {
   "cell_type": "code",
   "execution_count": 36,
   "metadata": {},
   "outputs": [
    {
     "data": {
      "text/plain": [
       "'{\"minimum\": \"\\\\r\\\\n\\\\t\\\\t\\\\tMinimum: 500 mhz processor, 96mb ram, 16mb video card, Windows XP, Mouse, Keyboard, Internet Connection\\\\r\\\\n\\\\t\\\\t\\\\tRecommended: 800 mhz processor, 128mb ram, 32mb+ video card, Windows XP, Mouse, Keyboard, Internet Connection\\\\r\\\\n\\\\t\\\\t\\\\t\"}'"
      ]
     },
     "execution_count": 36,
     "metadata": {},
     "output_type": "execute_result"
    }
   ],
   "source": [
    "parse_text = BeautifulSoup(text, 'lxml')\n",
    "plain_text = parse_text.get_text()\n",
    "plain_text"
   ]
  },
  {
   "cell_type": "code",
   "execution_count": 37,
   "metadata": {},
   "outputs": [],
   "source": [
    "def process_requirement(df):\n",
    "    \"\"\"\n",
    "    Process the requirements column of the given DataFrame.\n",
    "\n",
    "    Parameters:\n",
    "    df (DataFrame): The input DataFrame containing the requirements column.\n",
    "\n",
    "    Returns:\n",
    "    DataFrame: A copy of the input DataFrame with the requirements column processed.\n",
    "\n",
    "    \"\"\"\n",
    "    df = df.copy()\n",
    "    df['requirements'] = df['requirements'].apply(lambda x: BeautifulSoup(x, 'lxml').get_text() if x else 'Not available')\n",
    "\n",
    "    return df\n",
    "\n",
    "req_df = process_requirement(dlc_df)"
   ]
  },
  {
   "cell_type": "markdown",
   "metadata": {},
   "source": [
    "### Processing Dates"
   ]
  },
  {
   "cell_type": "code",
   "execution_count": 38,
   "metadata": {},
   "outputs": [
    {
     "name": "stdout",
     "output_type": "stream",
     "text": [
      "Dates missing and coming soon is true:  19\n"
     ]
    }
   ],
   "source": [
    "print(\"Dates missing and coming soon is true: \", req_df[req_df['release_date'].isnull() & req_df['coming_soon']==1].shape[0])"
   ]
  },
  {
   "cell_type": "code",
   "execution_count": 39,
   "metadata": {},
   "outputs": [
    {
     "data": {
      "text/plain": [
       "0    Nov 1, 2000\n",
       "1    Apr 1, 1999\n",
       "2    May 1, 2003\n",
       "3    Jun 1, 2001\n",
       "4    Nov 1, 1999\n",
       "Name: release_date, dtype: object"
      ]
     },
     "execution_count": 39,
     "metadata": {},
     "output_type": "execute_result"
    }
   ],
   "source": [
    "req_df['release_date'].head()"
   ]
  },
  {
   "cell_type": "markdown",
   "metadata": {},
   "source": [
    "All date formats are of the type `YYYY-MM-DD`. Some dates are not in english and are handlled using [dateparser](https://dateparser.readthedocs.io/en/latest/). These are then converted to `datetime64` data type."
   ]
  },
  {
   "cell_type": "code",
   "execution_count": 40,
   "metadata": {},
   "outputs": [
    {
     "data": {
      "text/html": [
       "<div>\n",
       "<style scoped>\n",
       "    .dataframe tbody tr th:only-of-type {\n",
       "        vertical-align: middle;\n",
       "    }\n",
       "\n",
       "    .dataframe tbody tr th {\n",
       "        vertical-align: top;\n",
       "    }\n",
       "\n",
       "    .dataframe thead th {\n",
       "        text-align: right;\n",
       "    }\n",
       "</style>\n",
       "<table border=\"1\" class=\"dataframe\">\n",
       "  <thead>\n",
       "    <tr style=\"text-align: right;\">\n",
       "      <th></th>\n",
       "      <th>appid</th>\n",
       "      <th>name</th>\n",
       "      <th>release_date</th>\n",
       "    </tr>\n",
       "  </thead>\n",
       "  <tbody>\n",
       "    <tr>\n",
       "      <th>0</th>\n",
       "      <td>10</td>\n",
       "      <td>Counter-Strike</td>\n",
       "      <td>2000-11-01</td>\n",
       "    </tr>\n",
       "    <tr>\n",
       "      <th>1</th>\n",
       "      <td>20</td>\n",
       "      <td>Team Fortress Classic</td>\n",
       "      <td>1999-04-01</td>\n",
       "    </tr>\n",
       "    <tr>\n",
       "      <th>2</th>\n",
       "      <td>30</td>\n",
       "      <td>Day of Defeat</td>\n",
       "      <td>2003-05-01</td>\n",
       "    </tr>\n",
       "    <tr>\n",
       "      <th>3</th>\n",
       "      <td>40</td>\n",
       "      <td>Deathmatch Classic</td>\n",
       "      <td>2001-06-01</td>\n",
       "    </tr>\n",
       "    <tr>\n",
       "      <th>4</th>\n",
       "      <td>50</td>\n",
       "      <td>Half-Life: Opposing Force</td>\n",
       "      <td>1999-11-01</td>\n",
       "    </tr>\n",
       "  </tbody>\n",
       "</table>\n",
       "</div>"
      ],
      "text/plain": [
       "   appid                       name release_date\n",
       "0     10             Counter-Strike   2000-11-01\n",
       "1     20      Team Fortress Classic   1999-04-01\n",
       "2     30              Day of Defeat   2003-05-01\n",
       "3     40         Deathmatch Classic   2001-06-01\n",
       "4     50  Half-Life: Opposing Force   1999-11-01"
      ]
     },
     "execution_count": 40,
     "metadata": {},
     "output_type": "execute_result"
    }
   ],
   "source": [
    "def process_date(df):\n",
    "    \"\"\"\n",
    "    Process the release date column in the given DataFrame.\n",
    "\n",
    "    Args:\n",
    "        df (pandas.DataFrame): The DataFrame containing the release date column.\n",
    "\n",
    "    Returns:\n",
    "        pandas.DataFrame: The DataFrame with the release date column processed.\n",
    "\n",
    "    \"\"\"\n",
    "    df = df.copy()\n",
    "\n",
    "    def parse_date(date_string):\n",
    "        \"\"\"\n",
    "        Parses a date string and returns a pandas datetime object.\n",
    "\n",
    "        Parameters:\n",
    "        date_string (str): The date string to be parsed.\n",
    "\n",
    "        Returns:\n",
    "        pd.Timestamp: A pandas datetime object representing the parsed date.\n",
    "\n",
    "        \"\"\"\n",
    "        if isinstance(date_string, str):\n",
    "            try:\n",
    "                date_obj = dateparser.parse(date_string)\n",
    "                return pd.to_datetime(date_obj)\n",
    "            \n",
    "            except:\n",
    "                date_str = date_string.replace(\" \", \"\")\n",
    "                date_str = dateparser.parse(date_str)\n",
    "                \n",
    "                return pd.to_datetime(date_str)\n",
    "\n",
    "        return pd.NaT\n",
    "\n",
    "    df['release_date'] = df['release_date'].apply(parse_date)\n",
    "\n",
    "    return df\n",
    "\n",
    "date_df = process_date(req_df)\n",
    "date_df[['appid', 'name', 'release_date']].head()"
   ]
  },
  {
   "cell_type": "markdown",
   "metadata": {},
   "source": [
    "### Processing Game Descriptions"
   ]
  },
  {
   "cell_type": "markdown",
   "metadata": {},
   "source": [
    "Since there columns are text, it makes sense to combine all these under one column as they can be used for models that work on textual content. `website` and `header_image` columns are also merged into this."
   ]
  },
  {
   "cell_type": "code",
   "execution_count": 41,
   "metadata": {},
   "outputs": [
    {
     "data": {
      "text/html": [
       "<div>\n",
       "<style scoped>\n",
       "    .dataframe tbody tr th:only-of-type {\n",
       "        vertical-align: middle;\n",
       "    }\n",
       "\n",
       "    .dataframe tbody tr th {\n",
       "        vertical-align: top;\n",
       "    }\n",
       "\n",
       "    .dataframe thead th {\n",
       "        text-align: right;\n",
       "    }\n",
       "</style>\n",
       "<table border=\"1\" class=\"dataframe\">\n",
       "  <thead>\n",
       "    <tr style=\"text-align: right;\">\n",
       "      <th></th>\n",
       "      <th>appid</th>\n",
       "      <th>name</th>\n",
       "      <th>description</th>\n",
       "    </tr>\n",
       "  </thead>\n",
       "  <tbody>\n",
       "    <tr>\n",
       "      <th>0</th>\n",
       "      <td>10</td>\n",
       "      <td>Counter-Strike</td>\n",
       "      <td>Play the world's number 1 online action game. ...</td>\n",
       "    </tr>\n",
       "    <tr>\n",
       "      <th>1</th>\n",
       "      <td>20</td>\n",
       "      <td>Team Fortress Classic</td>\n",
       "      <td>One of the most popular online action games of...</td>\n",
       "    </tr>\n",
       "    <tr>\n",
       "      <th>2</th>\n",
       "      <td>30</td>\n",
       "      <td>Day of Defeat</td>\n",
       "      <td>Enlist in an intense brand of Axis vs. Allied ...</td>\n",
       "    </tr>\n",
       "    <tr>\n",
       "      <th>3</th>\n",
       "      <td>40</td>\n",
       "      <td>Deathmatch Classic</td>\n",
       "      <td>Enjoy fast-paced multiplayer gaming with Death...</td>\n",
       "    </tr>\n",
       "    <tr>\n",
       "      <th>4</th>\n",
       "      <td>50</td>\n",
       "      <td>Half-Life: Opposing Force</td>\n",
       "      <td>Return to the Black Mesa Research Facility as ...</td>\n",
       "    </tr>\n",
       "  </tbody>\n",
       "</table>\n",
       "</div>"
      ],
      "text/plain": [
       "   appid                       name  \\\n",
       "0     10             Counter-Strike   \n",
       "1     20      Team Fortress Classic   \n",
       "2     30              Day of Defeat   \n",
       "3     40         Deathmatch Classic   \n",
       "4     50  Half-Life: Opposing Force   \n",
       "\n",
       "                                         description  \n",
       "0  Play the world's number 1 online action game. ...  \n",
       "1  One of the most popular online action games of...  \n",
       "2  Enlist in an intense brand of Axis vs. Allied ...  \n",
       "3  Enjoy fast-paced multiplayer gaming with Death...  \n",
       "4  Return to the Black Mesa Research Facility as ...  "
      ]
     },
     "execution_count": 41,
     "metadata": {},
     "output_type": "execute_result"
    }
   ],
   "source": [
    "def process_descriptions(df):\n",
    "    \"\"\"\n",
    "    Process the descriptions of a DataFrame by combining multiple columns and performing some cleaning.\n",
    "\n",
    "    Args:\n",
    "        df (pandas.DataFrame): The DataFrame containing the columns to be processed.\n",
    "\n",
    "    Returns:\n",
    "        pandas.DataFrame: The processed DataFrame with the combined description column and other unnecessary columns dropped.\n",
    "    \"\"\"\n",
    "    df = df.copy()\n",
    "\n",
    "    df['description'] = df['detailed_description'].fillna('') + ' ' + df['about_the_game'].fillna('') + ' ' + df['short_description'].fillna('') + ' Website: ' + df['website'].fillna('Not available') + ' Game Image: ' + df['header_image'].fillna('Not available')\n",
    "    df['description'] = df['description'].replace('', 'Not available')\n",
    "    df = df.drop(['detailed_description', 'about_the_game', 'short_description', 'website', 'header_image'], axis=1)\n",
    "\n",
    "    return df\n",
    "\n",
    "desc_df = process_descriptions(date_df)\n",
    "desc_df[['appid', 'name', 'description']].head()"
   ]
  },
  {
   "cell_type": "markdown",
   "metadata": {},
   "source": [
    "### Miscellaneous Changes"
   ]
  },
  {
   "cell_type": "markdown",
   "metadata": {},
   "source": [
    "Almost all columns are delt with. Columns `reviews` and `capsule_image` can be dropped. `release_date` is split into `year`, `month` and `day` columns."
   ]
  },
  {
   "cell_type": "code",
   "execution_count": 42,
   "metadata": {},
   "outputs": [
    {
     "data": {
      "text/html": [
       "<div>\n",
       "<style scoped>\n",
       "    .dataframe tbody tr th:only-of-type {\n",
       "        vertical-align: middle;\n",
       "    }\n",
       "\n",
       "    .dataframe tbody tr th {\n",
       "        vertical-align: top;\n",
       "    }\n",
       "\n",
       "    .dataframe thead th {\n",
       "        text-align: right;\n",
       "    }\n",
       "</style>\n",
       "<table border=\"1\" class=\"dataframe\">\n",
       "  <thead>\n",
       "    <tr style=\"text-align: right;\">\n",
       "      <th></th>\n",
       "      <th>type</th>\n",
       "      <th>name</th>\n",
       "      <th>appid</th>\n",
       "      <th>required_age</th>\n",
       "      <th>controller_support</th>\n",
       "      <th>dlc</th>\n",
       "      <th>requirements</th>\n",
       "      <th>platform</th>\n",
       "      <th>metacritic</th>\n",
       "      <th>categories</th>\n",
       "      <th>genres</th>\n",
       "      <th>recommendations</th>\n",
       "      <th>achievements</th>\n",
       "      <th>release_date</th>\n",
       "      <th>coming_soon</th>\n",
       "      <th>english</th>\n",
       "      <th>developer</th>\n",
       "      <th>publisher</th>\n",
       "      <th>price</th>\n",
       "      <th>description</th>\n",
       "      <th>year</th>\n",
       "      <th>month</th>\n",
       "      <th>day</th>\n",
       "    </tr>\n",
       "  </thead>\n",
       "  <tbody>\n",
       "    <tr>\n",
       "      <th>0</th>\n",
       "      <td>game</td>\n",
       "      <td>Counter-Strike</td>\n",
       "      <td>10</td>\n",
       "      <td>0</td>\n",
       "      <td>0</td>\n",
       "      <td>0</td>\n",
       "      <td>{\"minimum\": \"\\r\\n\\t\\t\\tMinimum: 500 mhz proces...</td>\n",
       "      <td>mac;linux;windows</td>\n",
       "      <td>88</td>\n",
       "      <td>Multi-player;PvP;Online PvP;Shared/Split Scree...</td>\n",
       "      <td>Action</td>\n",
       "      <td>150423</td>\n",
       "      <td>0</td>\n",
       "      <td>2000-11-01</td>\n",
       "      <td>0</td>\n",
       "      <td>1</td>\n",
       "      <td>Valve</td>\n",
       "      <td>Valve</td>\n",
       "      <td>9.99</td>\n",
       "      <td>Play the world's number 1 online action game. ...</td>\n",
       "      <td>2000</td>\n",
       "      <td>11</td>\n",
       "      <td>1</td>\n",
       "    </tr>\n",
       "    <tr>\n",
       "      <th>1</th>\n",
       "      <td>game</td>\n",
       "      <td>Team Fortress Classic</td>\n",
       "      <td>20</td>\n",
       "      <td>0</td>\n",
       "      <td>0</td>\n",
       "      <td>0</td>\n",
       "      <td>{\"minimum\": \"\\r\\n\\t\\t\\tMinimum: 500 mhz proces...</td>\n",
       "      <td>mac;linux;windows</td>\n",
       "      <td>0</td>\n",
       "      <td>Multi-player;PvP;Online PvP;Shared/Split Scree...</td>\n",
       "      <td>Action</td>\n",
       "      <td>6133</td>\n",
       "      <td>0</td>\n",
       "      <td>1999-04-01</td>\n",
       "      <td>0</td>\n",
       "      <td>1</td>\n",
       "      <td>Valve</td>\n",
       "      <td>Valve</td>\n",
       "      <td>4.99</td>\n",
       "      <td>One of the most popular online action games of...</td>\n",
       "      <td>1999</td>\n",
       "      <td>4</td>\n",
       "      <td>1</td>\n",
       "    </tr>\n",
       "    <tr>\n",
       "      <th>2</th>\n",
       "      <td>game</td>\n",
       "      <td>Day of Defeat</td>\n",
       "      <td>30</td>\n",
       "      <td>0</td>\n",
       "      <td>0</td>\n",
       "      <td>0</td>\n",
       "      <td>{\"minimum\": \"\\r\\n\\t\\t\\tMinimum: 500 mhz proces...</td>\n",
       "      <td>mac;linux;windows</td>\n",
       "      <td>79</td>\n",
       "      <td>Multi-player;Valve Anti-Cheat enabled;Family S...</td>\n",
       "      <td>Action</td>\n",
       "      <td>4074</td>\n",
       "      <td>0</td>\n",
       "      <td>2003-05-01</td>\n",
       "      <td>0</td>\n",
       "      <td>1</td>\n",
       "      <td>Valve</td>\n",
       "      <td>Valve</td>\n",
       "      <td>4.99</td>\n",
       "      <td>Enlist in an intense brand of Axis vs. Allied ...</td>\n",
       "      <td>2003</td>\n",
       "      <td>5</td>\n",
       "      <td>1</td>\n",
       "    </tr>\n",
       "    <tr>\n",
       "      <th>3</th>\n",
       "      <td>game</td>\n",
       "      <td>Deathmatch Classic</td>\n",
       "      <td>40</td>\n",
       "      <td>0</td>\n",
       "      <td>0</td>\n",
       "      <td>0</td>\n",
       "      <td>{\"minimum\": \"\\r\\n\\t\\t\\tMinimum: 500 mhz proces...</td>\n",
       "      <td>mac;linux;windows</td>\n",
       "      <td>0</td>\n",
       "      <td>Multi-player;PvP;Online PvP;Shared/Split Scree...</td>\n",
       "      <td>Action</td>\n",
       "      <td>2149</td>\n",
       "      <td>0</td>\n",
       "      <td>2001-06-01</td>\n",
       "      <td>0</td>\n",
       "      <td>1</td>\n",
       "      <td>Valve</td>\n",
       "      <td>Valve</td>\n",
       "      <td>4.99</td>\n",
       "      <td>Enjoy fast-paced multiplayer gaming with Death...</td>\n",
       "      <td>2001</td>\n",
       "      <td>6</td>\n",
       "      <td>1</td>\n",
       "    </tr>\n",
       "    <tr>\n",
       "      <th>4</th>\n",
       "      <td>game</td>\n",
       "      <td>Half-Life: Opposing Force</td>\n",
       "      <td>50</td>\n",
       "      <td>0</td>\n",
       "      <td>0</td>\n",
       "      <td>0</td>\n",
       "      <td>{\"minimum\": \"\\r\\n\\t\\t\\tMinimum: 500 mhz proces...</td>\n",
       "      <td>mac;linux;windows</td>\n",
       "      <td>0</td>\n",
       "      <td>Single-player;Multi-player;Valve Anti-Cheat en...</td>\n",
       "      <td>Action</td>\n",
       "      <td>19244</td>\n",
       "      <td>0</td>\n",
       "      <td>1999-11-01</td>\n",
       "      <td>0</td>\n",
       "      <td>1</td>\n",
       "      <td>Gearbox Software</td>\n",
       "      <td>Valve</td>\n",
       "      <td>4.99</td>\n",
       "      <td>Return to the Black Mesa Research Facility as ...</td>\n",
       "      <td>1999</td>\n",
       "      <td>11</td>\n",
       "      <td>1</td>\n",
       "    </tr>\n",
       "  </tbody>\n",
       "</table>\n",
       "</div>"
      ],
      "text/plain": [
       "   type                       name  appid required_age  controller_support  \\\n",
       "0  game             Counter-Strike     10            0                   0   \n",
       "1  game      Team Fortress Classic     20            0                   0   \n",
       "2  game              Day of Defeat     30            0                   0   \n",
       "3  game         Deathmatch Classic     40            0                   0   \n",
       "4  game  Half-Life: Opposing Force     50            0                   0   \n",
       "\n",
       "   dlc                                       requirements           platform  \\\n",
       "0    0  {\"minimum\": \"\\r\\n\\t\\t\\tMinimum: 500 mhz proces...  mac;linux;windows   \n",
       "1    0  {\"minimum\": \"\\r\\n\\t\\t\\tMinimum: 500 mhz proces...  mac;linux;windows   \n",
       "2    0  {\"minimum\": \"\\r\\n\\t\\t\\tMinimum: 500 mhz proces...  mac;linux;windows   \n",
       "3    0  {\"minimum\": \"\\r\\n\\t\\t\\tMinimum: 500 mhz proces...  mac;linux;windows   \n",
       "4    0  {\"minimum\": \"\\r\\n\\t\\t\\tMinimum: 500 mhz proces...  mac;linux;windows   \n",
       "\n",
       "   metacritic                                         categories  genres  \\\n",
       "0          88  Multi-player;PvP;Online PvP;Shared/Split Scree...  Action   \n",
       "1           0  Multi-player;PvP;Online PvP;Shared/Split Scree...  Action   \n",
       "2          79  Multi-player;Valve Anti-Cheat enabled;Family S...  Action   \n",
       "3           0  Multi-player;PvP;Online PvP;Shared/Split Scree...  Action   \n",
       "4           0  Single-player;Multi-player;Valve Anti-Cheat en...  Action   \n",
       "\n",
       "   recommendations  achievements release_date  coming_soon  english  \\\n",
       "0           150423             0   2000-11-01            0        1   \n",
       "1             6133             0   1999-04-01            0        1   \n",
       "2             4074             0   2003-05-01            0        1   \n",
       "3             2149             0   2001-06-01            0        1   \n",
       "4            19244             0   1999-11-01            0        1   \n",
       "\n",
       "          developer publisher  price  \\\n",
       "0             Valve     Valve   9.99   \n",
       "1             Valve     Valve   4.99   \n",
       "2             Valve     Valve   4.99   \n",
       "3             Valve     Valve   4.99   \n",
       "4  Gearbox Software     Valve   4.99   \n",
       "\n",
       "                                         description  year  month  day  \n",
       "0  Play the world's number 1 online action game. ...  2000     11    1  \n",
       "1  One of the most popular online action games of...  1999      4    1  \n",
       "2  Enlist in an intense brand of Axis vs. Allied ...  2003      5    1  \n",
       "3  Enjoy fast-paced multiplayer gaming with Death...  2001      6    1  \n",
       "4  Return to the Black Mesa Research Facility as ...  1999     11    1  "
      ]
     },
     "execution_count": 42,
     "metadata": {},
     "output_type": "execute_result"
    }
   ],
   "source": [
    "def misc(df):\n",
    "    \"\"\"\n",
    "    Perform miscellaneous data cleaning operations on the given DataFrame.\n",
    "\n",
    "    Parameters:\n",
    "    df (pandas.DataFrame): The input DataFrame to be cleaned.\n",
    "\n",
    "    Returns:\n",
    "    pandas.DataFrame: The cleaned DataFrame.\n",
    "    \"\"\"\n",
    "    df = df.copy()\n",
    "    col_to_drop = ['capsule_image', 'reviews']\n",
    "    \n",
    "    df['year'] = df['release_date'].dt.year.astype('Int16')\n",
    "    df['month'] = df['release_date'].dt.month.astype('Int16')\n",
    "    df['day'] = df['release_date'].dt.day.astype('Int16')\n",
    "\n",
    "    df = df.drop(col_to_drop, axis=1)\n",
    "\n",
    "    return df\n",
    "\n",
    "clean_steam_data = misc(desc_df)\n",
    "clean_steam_data.head()"
   ]
  },
  {
   "cell_type": "markdown",
   "metadata": {},
   "source": [
    "### Final Steps"
   ]
  },
  {
   "cell_type": "markdown",
   "metadata": {},
   "source": [
    "Except dates, all columns are devoid of null values."
   ]
  },
  {
   "cell_type": "code",
   "execution_count": 43,
   "metadata": {},
   "outputs": [
    {
     "data": {
      "text/plain": [
       "type                    0\n",
       "name                    0\n",
       "appid                   0\n",
       "required_age            0\n",
       "controller_support      0\n",
       "dlc                     0\n",
       "requirements            0\n",
       "platform                0\n",
       "metacritic              0\n",
       "categories              0\n",
       "genres                  0\n",
       "recommendations         0\n",
       "achievements            0\n",
       "release_date          168\n",
       "coming_soon             0\n",
       "english                 0\n",
       "developer               0\n",
       "publisher               0\n",
       "price                   0\n",
       "description             0\n",
       "year                  168\n",
       "month                 168\n",
       "day                   168\n",
       "dtype: int64"
      ]
     },
     "execution_count": 43,
     "metadata": {},
     "output_type": "execute_result"
    }
   ],
   "source": [
    "clean_steam_data.isnull().sum()"
   ]
  },
  {
   "cell_type": "markdown",
   "metadata": {},
   "source": [
    "Memory usage analysis of raw data and clean data."
   ]
  },
  {
   "cell_type": "code",
   "execution_count": 44,
   "metadata": {},
   "outputs": [
    {
     "name": "stdout",
     "output_type": "stream",
     "text": [
      "<class 'pandas.core.frame.DataFrame'>\n",
      "RangeIndex: 73977 entries, 0 to 73976\n",
      "Columns: 27 entries, type to coming_soon\n",
      "dtypes: int64(7), object(20)\n",
      "memory usage: 489.6 MB\n"
     ]
    }
   ],
   "source": [
    "raw_steam_data.info(verbose=False, memory_usage=\"deep\")"
   ]
  },
  {
   "cell_type": "code",
   "execution_count": 45,
   "metadata": {},
   "outputs": [
    {
     "name": "stdout",
     "output_type": "stream",
     "text": [
      "<class 'pandas.core.frame.DataFrame'>\n",
      "Index: 72381 entries, 0 to 73976\n",
      "Columns: 23 entries, type to day\n",
      "dtypes: Int16(3), category(1), datetime64[ns](1), float64(1), int64(8), object(9)\n",
      "memory usage: 388.3 MB\n"
     ]
    }
   ],
   "source": [
    "clean_steam_data.info(verbose=False, memory_usage=\"deep\")"
   ]
  }
 ],
 "metadata": {
  "kernelspec": {
   "display_name": "game",
   "language": "python",
   "name": "python3"
  },
  "language_info": {
   "codemirror_mode": {
    "name": "ipython",
    "version": 3
   },
   "file_extension": ".py",
   "mimetype": "text/x-python",
   "name": "python",
   "nbconvert_exporter": "python",
   "pygments_lexer": "ipython3",
   "version": "3.12.4"
  }
 },
 "nbformat": 4,
 "nbformat_minor": 2
}
