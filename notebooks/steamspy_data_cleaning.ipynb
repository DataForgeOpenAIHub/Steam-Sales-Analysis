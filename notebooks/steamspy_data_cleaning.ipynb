{
 "cells": [
  {
   "cell_type": "code",
   "execution_count": 1,
   "metadata": {},
   "outputs": [],
   "source": [
    "import os\n",
    "import sys\n",
    "\n",
    "curr_dir = os.getcwd()\n",
    "pkg_dir = os.path.join(os.path.dirname(curr_dir), \"steam_sales\", \"steam_etl\")\n",
    "sys.path.append(pkg_dir)"
   ]
  },
  {
   "cell_type": "code",
   "execution_count": 2,
   "metadata": {},
   "outputs": [],
   "source": [
    "import warnings\n",
    "\n",
    "import pandas as pd\n",
    "from db import get_db\n",
    "from settings import Path\n",
    "from sqlalchemy import text\n",
    "from utils import print_steam_links\n",
    "\n",
    "warnings.filterwarnings(\"ignore\")\n",
    "pd.set_option(\"display.max_columns\", 100)"
   ]
  },
  {
   "cell_type": "markdown",
   "metadata": {},
   "source": [
    "### Data Extraction from SQL Database"
   ]
  },
  {
   "cell_type": "code",
   "execution_count": 3,
   "metadata": {},
   "outputs": [
    {
     "data": {
      "text/html": [
       "<div>\n",
       "<style scoped>\n",
       "    .dataframe tbody tr th:only-of-type {\n",
       "        vertical-align: middle;\n",
       "    }\n",
       "\n",
       "    .dataframe tbody tr th {\n",
       "        vertical-align: top;\n",
       "    }\n",
       "\n",
       "    .dataframe thead th {\n",
       "        text-align: right;\n",
       "    }\n",
       "</style>\n",
       "<table border=\"1\" class=\"dataframe\">\n",
       "  <thead>\n",
       "    <tr style=\"text-align: right;\">\n",
       "      <th></th>\n",
       "      <th>appid</th>\n",
       "      <th>name</th>\n",
       "      <th>developer</th>\n",
       "      <th>publisher</th>\n",
       "      <th>score_rank</th>\n",
       "      <th>positive</th>\n",
       "      <th>negative</th>\n",
       "      <th>userscore</th>\n",
       "      <th>owners</th>\n",
       "      <th>average_forever</th>\n",
       "      <th>average_2weeks</th>\n",
       "      <th>median_forever</th>\n",
       "      <th>median_2weeks</th>\n",
       "      <th>price</th>\n",
       "      <th>initialprice</th>\n",
       "      <th>discount</th>\n",
       "      <th>ccu</th>\n",
       "      <th>languages</th>\n",
       "      <th>genre</th>\n",
       "      <th>tags</th>\n",
       "    </tr>\n",
       "  </thead>\n",
       "  <tbody>\n",
       "    <tr>\n",
       "      <th>0</th>\n",
       "      <td>10</td>\n",
       "      <td>Counter-Strike</td>\n",
       "      <td>Valve</td>\n",
       "      <td>Valve</td>\n",
       "      <td></td>\n",
       "      <td>232593</td>\n",
       "      <td>6098</td>\n",
       "      <td>0.0</td>\n",
       "      <td>10,000,000 .. 20,000,000</td>\n",
       "      <td>16697</td>\n",
       "      <td>55</td>\n",
       "      <td>219</td>\n",
       "      <td>22</td>\n",
       "      <td>999.0</td>\n",
       "      <td>999.0</td>\n",
       "      <td>0</td>\n",
       "      <td>13366</td>\n",
       "      <td>English, French, German, Italian, Spanish - Sp...</td>\n",
       "      <td>Action</td>\n",
       "      <td>{\"FPS\": 4902, \"PvP\": 910, \"1980s\": 279, \"1990'...</td>\n",
       "    </tr>\n",
       "    <tr>\n",
       "      <th>1</th>\n",
       "      <td>20</td>\n",
       "      <td>Team Fortress Classic</td>\n",
       "      <td>Valve</td>\n",
       "      <td>Valve</td>\n",
       "      <td></td>\n",
       "      <td>7181</td>\n",
       "      <td>1089</td>\n",
       "      <td>0.0</td>\n",
       "      <td>5,000,000 .. 10,000,000</td>\n",
       "      <td>1078</td>\n",
       "      <td>0</td>\n",
       "      <td>16</td>\n",
       "      <td>0</td>\n",
       "      <td>74.0</td>\n",
       "      <td>499.0</td>\n",
       "      <td>85</td>\n",
       "      <td>97</td>\n",
       "      <td>English, French, German, Italian, Spanish - Sp...</td>\n",
       "      <td>Action</td>\n",
       "      <td>{\"FPS\": 327, \"Mod\": 39, \"Co-op\": 98, \"Funny\": ...</td>\n",
       "    </tr>\n",
       "    <tr>\n",
       "      <th>2</th>\n",
       "      <td>30</td>\n",
       "      <td>Day of Defeat</td>\n",
       "      <td>Valve</td>\n",
       "      <td>Valve</td>\n",
       "      <td></td>\n",
       "      <td>6166</td>\n",
       "      <td>671</td>\n",
       "      <td>0.0</td>\n",
       "      <td>5,000,000 .. 10,000,000</td>\n",
       "      <td>187</td>\n",
       "      <td>0</td>\n",
       "      <td>41</td>\n",
       "      <td>0</td>\n",
       "      <td>74.0</td>\n",
       "      <td>499.0</td>\n",
       "      <td>85</td>\n",
       "      <td>81</td>\n",
       "      <td>English, French, German, Italian, Spanish - Spain</td>\n",
       "      <td>Action</td>\n",
       "      <td>{\"FPS\": 798, \"War\": 158, \"Co-op\": 36, \"Retro\":...</td>\n",
       "    </tr>\n",
       "    <tr>\n",
       "      <th>3</th>\n",
       "      <td>40</td>\n",
       "      <td>Deathmatch Classic</td>\n",
       "      <td>Valve</td>\n",
       "      <td>Valve</td>\n",
       "      <td></td>\n",
       "      <td>2479</td>\n",
       "      <td>522</td>\n",
       "      <td>0.0</td>\n",
       "      <td>5,000,000 .. 10,000,000</td>\n",
       "      <td>66</td>\n",
       "      <td>0</td>\n",
       "      <td>11</td>\n",
       "      <td>0</td>\n",
       "      <td>74.0</td>\n",
       "      <td>499.0</td>\n",
       "      <td>85</td>\n",
       "      <td>6</td>\n",
       "      <td>English, French, German, Italian, Spanish - Sp...</td>\n",
       "      <td>Action</td>\n",
       "      <td>{\"FPS\": 150, \"Gore\": 20, \"Co-op\": 16, \"Retro\":...</td>\n",
       "    </tr>\n",
       "    <tr>\n",
       "      <th>4</th>\n",
       "      <td>50</td>\n",
       "      <td>Half-Life: Opposing Force</td>\n",
       "      <td>Gearbox Software</td>\n",
       "      <td>Valve</td>\n",
       "      <td></td>\n",
       "      <td>21457</td>\n",
       "      <td>1098</td>\n",
       "      <td>0.0</td>\n",
       "      <td>2,000,000 .. 5,000,000</td>\n",
       "      <td>431</td>\n",
       "      <td>0</td>\n",
       "      <td>122</td>\n",
       "      <td>0</td>\n",
       "      <td>74.0</td>\n",
       "      <td>499.0</td>\n",
       "      <td>85</td>\n",
       "      <td>161</td>\n",
       "      <td>English, French, German, Korean</td>\n",
       "      <td>Action</td>\n",
       "      <td>{\"FPS\": 919, \"Gore\": 58, \"Co-op\": 43, \"Retro\":...</td>\n",
       "    </tr>\n",
       "  </tbody>\n",
       "</table>\n",
       "</div>"
      ],
      "text/plain": [
       "   appid                       name         developer publisher score_rank  \\\n",
       "0     10             Counter-Strike             Valve     Valve              \n",
       "1     20      Team Fortress Classic             Valve     Valve              \n",
       "2     30              Day of Defeat             Valve     Valve              \n",
       "3     40         Deathmatch Classic             Valve     Valve              \n",
       "4     50  Half-Life: Opposing Force  Gearbox Software     Valve              \n",
       "\n",
       "   positive  negative  userscore                    owners  average_forever  \\\n",
       "0    232593      6098        0.0  10,000,000 .. 20,000,000            16697   \n",
       "1      7181      1089        0.0   5,000,000 .. 10,000,000             1078   \n",
       "2      6166       671        0.0   5,000,000 .. 10,000,000              187   \n",
       "3      2479       522        0.0   5,000,000 .. 10,000,000               66   \n",
       "4     21457      1098        0.0    2,000,000 .. 5,000,000              431   \n",
       "\n",
       "   average_2weeks  median_forever  median_2weeks  price  initialprice  \\\n",
       "0              55             219             22  999.0         999.0   \n",
       "1               0              16              0   74.0         499.0   \n",
       "2               0              41              0   74.0         499.0   \n",
       "3               0              11              0   74.0         499.0   \n",
       "4               0             122              0   74.0         499.0   \n",
       "\n",
       "  discount    ccu                                          languages   genre  \\\n",
       "0        0  13366  English, French, German, Italian, Spanish - Sp...  Action   \n",
       "1       85     97  English, French, German, Italian, Spanish - Sp...  Action   \n",
       "2       85     81  English, French, German, Italian, Spanish - Spain  Action   \n",
       "3       85      6  English, French, German, Italian, Spanish - Sp...  Action   \n",
       "4       85    161                    English, French, German, Korean  Action   \n",
       "\n",
       "                                                tags  \n",
       "0  {\"FPS\": 4902, \"PvP\": 910, \"1980s\": 279, \"1990'...  \n",
       "1  {\"FPS\": 327, \"Mod\": 39, \"Co-op\": 98, \"Funny\": ...  \n",
       "2  {\"FPS\": 798, \"War\": 158, \"Co-op\": 36, \"Retro\":...  \n",
       "3  {\"FPS\": 150, \"Gore\": 20, \"Co-op\": 16, \"Retro\":...  \n",
       "4  {\"FPS\": 919, \"Gore\": 58, \"Co-op\": 43, \"Retro\":...  "
      ]
     },
     "execution_count": 3,
     "metadata": {},
     "output_type": "execute_result"
    }
   ],
   "source": [
    "def fetch_data(source: str):\n",
    "    \"\"\"\n",
    "    Fetches data from a specified source and returns it as a pandas DataFrame.\n",
    "\n",
    "    Parameters:\n",
    "    source (str): The name of the source file containing the SQL query.\n",
    "\n",
    "    Returns:\n",
    "    pandas.DataFrame: The fetched data as a DataFrame.\n",
    "\n",
    "    \"\"\"\n",
    "    with open(os.path.join(Path.sql_queries, source), \"r\") as f:\n",
    "        query = text(f.read())\n",
    "\n",
    "    with get_db() as db:\n",
    "        result = db.execute(query)\n",
    "\n",
    "    data = result.fetchall()\n",
    "    columns = result.keys()\n",
    "    df = pd.DataFrame(data, columns=columns)\n",
    "\n",
    "    return df\n",
    "\n",
    "\n",
    "steamspy_data = fetch_data(\"get_all_steamspy_data.sql\")\n",
    "steamspy_data.head()"
   ]
  },
  {
   "cell_type": "markdown",
   "metadata": {},
   "source": [
    "Creating a copy of `steam_data` dataset before starting the cleaning process."
   ]
  },
  {
   "cell_type": "code",
   "execution_count": 4,
   "metadata": {},
   "outputs": [],
   "source": [
    "raw_steamspy_data = steamspy_data.copy()"
   ]
  },
  {
   "cell_type": "markdown",
   "metadata": {},
   "source": [
    "### Process Null values"
   ]
  },
  {
   "cell_type": "markdown",
   "metadata": {},
   "source": [
    "Since the data is queried from SQL, some null vales are read as strings. "
   ]
  },
  {
   "cell_type": "code",
   "execution_count": 5,
   "metadata": {},
   "outputs": [
    {
     "data": {
      "text/plain": [
       "appid                  0\n",
       "name                  17\n",
       "developer            320\n",
       "publisher            315\n",
       "score_rank         74229\n",
       "positive               0\n",
       "negative               0\n",
       "userscore              0\n",
       "owners                 0\n",
       "average_forever        0\n",
       "average_2weeks         0\n",
       "median_forever         0\n",
       "median_2weeks          0\n",
       "price                 29\n",
       "initialprice          22\n",
       "discount              22\n",
       "ccu                    0\n",
       "languages             94\n",
       "genre                361\n",
       "tags                 320\n",
       "dtype: int64"
      ]
     },
     "execution_count": 5,
     "metadata": {},
     "output_type": "execute_result"
    }
   ],
   "source": [
    "def process_null(df):\n",
    "    \"\"\"\n",
    "    Process null values in a DataFrame by replacing specific values with None.\n",
    "\n",
    "    Args:\n",
    "        df (pandas.DataFrame): The DataFrame to process.\n",
    "\n",
    "    Returns:\n",
    "        pandas.DataFrame: The processed DataFrame with null values replaced.\n",
    "\n",
    "    \"\"\"\n",
    "    df = df.copy()\n",
    "\n",
    "    convert_to_none = [\"\", \"none\", \"null\", \"N/a\", \"N/A\", \"NA\", \"None\", \"n/a\"]\n",
    "    df.replace(convert_to_none, None, inplace=True)\n",
    "\n",
    "    return df\n",
    "\n",
    "\n",
    "raw_steam_data = process_null(raw_steamspy_data)\n",
    "raw_steam_data.isnull().sum()"
   ]
  },
  {
   "cell_type": "markdown",
   "metadata": {},
   "source": [
    "### Dropping Columns and Rows "
   ]
  },
  {
   "cell_type": "markdown",
   "metadata": {},
   "source": [
    "Some columns are not needed as these are in `steam_data`. Others are temporary and change on a weekly/daily basis."
   ]
  },
  {
   "cell_type": "code",
   "execution_count": 6,
   "metadata": {},
   "outputs": [
    {
     "data": {
      "text/html": [
       "<div>\n",
       "<style scoped>\n",
       "    .dataframe tbody tr th:only-of-type {\n",
       "        vertical-align: middle;\n",
       "    }\n",
       "\n",
       "    .dataframe tbody tr th {\n",
       "        vertical-align: top;\n",
       "    }\n",
       "\n",
       "    .dataframe thead th {\n",
       "        text-align: right;\n",
       "    }\n",
       "</style>\n",
       "<table border=\"1\" class=\"dataframe\">\n",
       "  <thead>\n",
       "    <tr style=\"text-align: right;\">\n",
       "      <th></th>\n",
       "      <th>appid</th>\n",
       "      <th>name</th>\n",
       "      <th>positive</th>\n",
       "      <th>negative</th>\n",
       "      <th>owners</th>\n",
       "      <th>languages</th>\n",
       "      <th>tags</th>\n",
       "    </tr>\n",
       "  </thead>\n",
       "  <tbody>\n",
       "    <tr>\n",
       "      <th>0</th>\n",
       "      <td>10</td>\n",
       "      <td>Counter-Strike</td>\n",
       "      <td>231805</td>\n",
       "      <td>6061</td>\n",
       "      <td>10,000,000 .. 20,000,000</td>\n",
       "      <td>English, French, German, Italian, Spanish - Sp...</td>\n",
       "      <td>{\"FPS\": 4899, \"PvP\": 907, \"1980s\": 278, \"1990'...</td>\n",
       "    </tr>\n",
       "    <tr>\n",
       "      <th>1</th>\n",
       "      <td>20</td>\n",
       "      <td>Team Fortress Classic</td>\n",
       "      <td>7136</td>\n",
       "      <td>1087</td>\n",
       "      <td>50,000 .. 100,000</td>\n",
       "      <td>English, French, German, Italian, Spanish - Sp...</td>\n",
       "      <td>{\"FPS\": 327, \"Mod\": 39, \"Co-op\": 98, \"Funny\": ...</td>\n",
       "    </tr>\n",
       "    <tr>\n",
       "      <th>2</th>\n",
       "      <td>30</td>\n",
       "      <td>Day of Defeat</td>\n",
       "      <td>6140</td>\n",
       "      <td>668</td>\n",
       "      <td>5,000,000 .. 10,000,000</td>\n",
       "      <td>English, French, German, Italian, Spanish - Spain</td>\n",
       "      <td>{\"FPS\": 798, \"War\": 158, \"Co-op\": 36, \"Retro\":...</td>\n",
       "    </tr>\n",
       "    <tr>\n",
       "      <th>3</th>\n",
       "      <td>40</td>\n",
       "      <td>Deathmatch Classic</td>\n",
       "      <td>2457</td>\n",
       "      <td>518</td>\n",
       "      <td>100,000 .. 200,000</td>\n",
       "      <td>English, French, German, Italian, Spanish - Sp...</td>\n",
       "      <td>{\"FPS\": 150, \"Gore\": 20, \"Co-op\": 16, \"Retro\":...</td>\n",
       "    </tr>\n",
       "    <tr>\n",
       "      <th>4</th>\n",
       "      <td>50</td>\n",
       "      <td>Half-Life: Opposing Force</td>\n",
       "      <td>21262</td>\n",
       "      <td>1086</td>\n",
       "      <td>2,000,000 .. 5,000,000</td>\n",
       "      <td>English, French, German, Korean</td>\n",
       "      <td>{\"FPS\": 917, \"Gore\": 57, \"Co-op\": 43, \"Retro\":...</td>\n",
       "    </tr>\n",
       "  </tbody>\n",
       "</table>\n",
       "</div>"
      ],
      "text/plain": [
       "   appid                       name  positive  negative  \\\n",
       "0     10             Counter-Strike    231805      6061   \n",
       "1     20      Team Fortress Classic      7136      1087   \n",
       "2     30              Day of Defeat      6140       668   \n",
       "3     40         Deathmatch Classic      2457       518   \n",
       "4     50  Half-Life: Opposing Force     21262      1086   \n",
       "\n",
       "                     owners  \\\n",
       "0  10,000,000 .. 20,000,000   \n",
       "1         50,000 .. 100,000   \n",
       "2   5,000,000 .. 10,000,000   \n",
       "3        100,000 .. 200,000   \n",
       "4    2,000,000 .. 5,000,000   \n",
       "\n",
       "                                           languages  \\\n",
       "0  English, French, German, Italian, Spanish - Sp...   \n",
       "1  English, French, German, Italian, Spanish - Sp...   \n",
       "2  English, French, German, Italian, Spanish - Spain   \n",
       "3  English, French, German, Italian, Spanish - Sp...   \n",
       "4                    English, French, German, Korean   \n",
       "\n",
       "                                                tags  \n",
       "0  {\"FPS\": 4899, \"PvP\": 907, \"1980s\": 278, \"1990'...  \n",
       "1  {\"FPS\": 327, \"Mod\": 39, \"Co-op\": 98, \"Funny\": ...  \n",
       "2  {\"FPS\": 798, \"War\": 158, \"Co-op\": 36, \"Retro\":...  \n",
       "3  {\"FPS\": 150, \"Gore\": 20, \"Co-op\": 16, \"Retro\":...  \n",
       "4  {\"FPS\": 917, \"Gore\": 57, \"Co-op\": 43, \"Retro\":...  "
      ]
     },
     "execution_count": 6,
     "metadata": {},
     "output_type": "execute_result"
    }
   ],
   "source": [
    "def process_col_rows(df):\n",
    "    \"\"\"\n",
    "    Process the given DataFrame by dropping unnecessary columns and rows.\n",
    "\n",
    "    Args:\n",
    "        df (pandas.DataFrame): The DataFrame to be processed.\n",
    "\n",
    "    Returns:\n",
    "        pandas.DataFrame: The processed DataFrame.\n",
    "    \"\"\"\n",
    "    df = df.copy()\n",
    "    col_to_drop = [\n",
    "        \"score_rank\",  # too many missing values\n",
    "        \"userscore\",  # too little variance (most have 0)\n",
    "        \"genre\",\n",
    "        \"developer\",\n",
    "        \"publisher\",\n",
    "        \"price\",\n",
    "        \"initialprice\",\n",
    "        \"discount\",  # provided by Steam data\n",
    "        \"average_2weeks\",\n",
    "        \"median_2weeks\",\n",
    "        \"ccu\",  # not interested in temporally specific columns\n",
    "    ]\n",
    "\n",
    "    # Drop missing games\n",
    "    df = df.dropna(subset=[\"name\"])\n",
    "    df = df.drop(col_to_drop, axis=1)\n",
    "\n",
    "    return df\n",
    "\n",
    "\n",
    "col_row_df = process_col_rows(raw_steam_data)\n",
    "col_row_df.head()"
   ]
  },
  {
   "cell_type": "markdown",
   "metadata": {},
   "source": [
    "### Processing Owners"
   ]
  },
  {
   "cell_type": "code",
   "execution_count": 7,
   "metadata": {},
   "outputs": [
    {
     "data": {
      "text/html": [
       "<div>\n",
       "<style scoped>\n",
       "    .dataframe tbody tr th:only-of-type {\n",
       "        vertical-align: middle;\n",
       "    }\n",
       "\n",
       "    .dataframe tbody tr th {\n",
       "        vertical-align: top;\n",
       "    }\n",
       "\n",
       "    .dataframe thead th {\n",
       "        text-align: right;\n",
       "    }\n",
       "</style>\n",
       "<table border=\"1\" class=\"dataframe\">\n",
       "  <thead>\n",
       "    <tr style=\"text-align: right;\">\n",
       "      <th></th>\n",
       "      <th>appid</th>\n",
       "      <th>name</th>\n",
       "      <th>positive</th>\n",
       "      <th>negative</th>\n",
       "      <th>owners</th>\n",
       "      <th>languages</th>\n",
       "      <th>tags</th>\n",
       "    </tr>\n",
       "  </thead>\n",
       "  <tbody>\n",
       "    <tr>\n",
       "      <th>0</th>\n",
       "      <td>10</td>\n",
       "      <td>Counter-Strike</td>\n",
       "      <td>231805</td>\n",
       "      <td>6061</td>\n",
       "      <td>10.0 - 20.0</td>\n",
       "      <td>English, French, German, Italian, Spanish - Sp...</td>\n",
       "      <td>{\"FPS\": 4899, \"PvP\": 907, \"1980s\": 278, \"1990'...</td>\n",
       "    </tr>\n",
       "    <tr>\n",
       "      <th>1</th>\n",
       "      <td>20</td>\n",
       "      <td>Team Fortress Classic</td>\n",
       "      <td>7136</td>\n",
       "      <td>1087</td>\n",
       "      <td>0.05 - 0.1</td>\n",
       "      <td>English, French, German, Italian, Spanish - Sp...</td>\n",
       "      <td>{\"FPS\": 327, \"Mod\": 39, \"Co-op\": 98, \"Funny\": ...</td>\n",
       "    </tr>\n",
       "    <tr>\n",
       "      <th>2</th>\n",
       "      <td>30</td>\n",
       "      <td>Day of Defeat</td>\n",
       "      <td>6140</td>\n",
       "      <td>668</td>\n",
       "      <td>5.0 - 10.0</td>\n",
       "      <td>English, French, German, Italian, Spanish - Spain</td>\n",
       "      <td>{\"FPS\": 798, \"War\": 158, \"Co-op\": 36, \"Retro\":...</td>\n",
       "    </tr>\n",
       "    <tr>\n",
       "      <th>3</th>\n",
       "      <td>40</td>\n",
       "      <td>Deathmatch Classic</td>\n",
       "      <td>2457</td>\n",
       "      <td>518</td>\n",
       "      <td>0.1 - 0.2</td>\n",
       "      <td>English, French, German, Italian, Spanish - Sp...</td>\n",
       "      <td>{\"FPS\": 150, \"Gore\": 20, \"Co-op\": 16, \"Retro\":...</td>\n",
       "    </tr>\n",
       "    <tr>\n",
       "      <th>4</th>\n",
       "      <td>50</td>\n",
       "      <td>Half-Life: Opposing Force</td>\n",
       "      <td>21262</td>\n",
       "      <td>1086</td>\n",
       "      <td>2.0 - 5.0</td>\n",
       "      <td>English, French, German, Korean</td>\n",
       "      <td>{\"FPS\": 917, \"Gore\": 57, \"Co-op\": 43, \"Retro\":...</td>\n",
       "    </tr>\n",
       "  </tbody>\n",
       "</table>\n",
       "</div>"
      ],
      "text/plain": [
       "   appid                       name  positive  negative       owners  \\\n",
       "0     10             Counter-Strike    231805      6061  10.0 - 20.0   \n",
       "1     20      Team Fortress Classic      7136      1087   0.05 - 0.1   \n",
       "2     30              Day of Defeat      6140       668   5.0 - 10.0   \n",
       "3     40         Deathmatch Classic      2457       518    0.1 - 0.2   \n",
       "4     50  Half-Life: Opposing Force     21262      1086    2.0 - 5.0   \n",
       "\n",
       "                                           languages  \\\n",
       "0  English, French, German, Italian, Spanish - Sp...   \n",
       "1  English, French, German, Italian, Spanish - Sp...   \n",
       "2  English, French, German, Italian, Spanish - Spain   \n",
       "3  English, French, German, Italian, Spanish - Sp...   \n",
       "4                    English, French, German, Korean   \n",
       "\n",
       "                                                tags  \n",
       "0  {\"FPS\": 4899, \"PvP\": 907, \"1980s\": 278, \"1990'...  \n",
       "1  {\"FPS\": 327, \"Mod\": 39, \"Co-op\": 98, \"Funny\": ...  \n",
       "2  {\"FPS\": 798, \"War\": 158, \"Co-op\": 36, \"Retro\":...  \n",
       "3  {\"FPS\": 150, \"Gore\": 20, \"Co-op\": 16, \"Retro\":...  \n",
       "4  {\"FPS\": 917, \"Gore\": 57, \"Co-op\": 43, \"Retro\":...  "
      ]
     },
     "execution_count": 7,
     "metadata": {},
     "output_type": "execute_result"
    }
   ],
   "source": [
    "def process_owners(df):\n",
    "    \"\"\"\n",
    "    Process the 'owners' column in the given DataFrame.\n",
    "\n",
    "    Parameters:\n",
    "    df (pandas.DataFrame): The DataFrame containing the 'owners' column.\n",
    "\n",
    "    Returns:\n",
    "    pandas.DataFrame: The DataFrame with the 'owners' column processed.\n",
    "\n",
    "    \"\"\"\n",
    "    df = df.copy()\n",
    "    df[\"owners\"] = (\n",
    "        df[\"owners\"]\n",
    "        .apply(lambda x: tuple(map(lambda x: int(x) / 1000000, x.replace(\",\", \"\").split(\" .. \"))))\n",
    "        .apply(lambda x: f\"{x[0]} - {x[1]}\")\n",
    "    )\n",
    "\n",
    "    return df\n",
    "\n",
    "\n",
    "own_df = process_owners(col_row_df)\n",
    "own_df.head()"
   ]
  },
  {
   "cell_type": "markdown",
   "metadata": {},
   "source": [
    "### Processing Tags and Languages"
   ]
  },
  {
   "cell_type": "code",
   "execution_count": 8,
   "metadata": {},
   "outputs": [
    {
     "name": "stdout",
     "output_type": "stream",
     "text": [
      "Soft cookie: http://store.steampowered.com/app/1019070\n",
      "Cursed Armor: http://store.steampowered.com/app/907090\n",
      "Blood Bowl 2 - Review: http://store.steampowered.com/app/29017\n",
      "Cadence: http://store.steampowered.com/app/362800\n",
      "The Studio: http://store.steampowered.com/app/780150\n"
     ]
    }
   ],
   "source": [
    "print_steam_links(own_df[own_df[\"tags\"].isnull()].sample(5, random_state=0))"
   ]
  },
  {
   "cell_type": "markdown",
   "metadata": {},
   "source": [
    "ost of these games suggests that tags data wasn't supplied."
   ]
  },
  {
   "cell_type": "code",
   "execution_count": 9,
   "metadata": {},
   "outputs": [
    {
     "name": "stdout",
     "output_type": "stream",
     "text": [
      "Puzzlegeddon: http://store.steampowered.com/app/8740\n",
      "Endless Space VIP: http://store.steampowered.com/app/212090\n",
      "Arcadia - Beta: http://store.steampowered.com/app/72520\n",
      "HOMEFRONT Demo: http://store.steampowered.com/app/55130\n",
      "Altitude - Demo: http://store.steampowered.com/app/41310\n"
     ]
    }
   ],
   "source": [
    "print_steam_links(own_df[own_df[\"languages\"].isnull()].sample(5, random_state=0))"
   ]
  },
  {
   "cell_type": "markdown",
   "metadata": {},
   "source": [
    "On closer inspection, games having missing languages are demos, beta or do not exist."
   ]
  },
  {
   "cell_type": "code",
   "execution_count": 10,
   "metadata": {},
   "outputs": [],
   "source": [
    "def process_tag_lang(df):\n",
    "    \"\"\"\n",
    "    Process the dataframe by dropping rows with missing values in the 'languages' and 'tags' columns.\n",
    "\n",
    "    Args:\n",
    "        df (pandas.DataFrame): The input dataframe.\n",
    "\n",
    "    Returns:\n",
    "        pandas.DataFrame: The processed dataframe with missing values dropped.\n",
    "\n",
    "    \"\"\"\n",
    "    df = df.copy()\n",
    "    df = df.dropna(subset=[\"languages\", \"tags\"])\n",
    "\n",
    "    return df\n",
    "\n",
    "\n",
    "tag_lang_df = process_tag_lang(own_df)"
   ]
  },
  {
   "cell_type": "markdown",
   "metadata": {},
   "source": [
    "### Final Steps"
   ]
  },
  {
   "cell_type": "markdown",
   "metadata": {},
   "source": [
    "All columns are devoid of null values."
   ]
  },
  {
   "cell_type": "code",
   "execution_count": 11,
   "metadata": {},
   "outputs": [
    {
     "data": {
      "text/plain": [
       "appid        0\n",
       "name         0\n",
       "positive     0\n",
       "negative     0\n",
       "owners       0\n",
       "languages    0\n",
       "tags         0\n",
       "dtype: int64"
      ]
     },
     "execution_count": 11,
     "metadata": {},
     "output_type": "execute_result"
    }
   ],
   "source": [
    "tag_lang_df.isnull().sum()"
   ]
  },
  {
   "cell_type": "markdown",
   "metadata": {},
   "source": [
    "Renaming columns."
   ]
  },
  {
   "cell_type": "code",
   "execution_count": 12,
   "metadata": {},
   "outputs": [],
   "source": [
    "def rename(df):\n",
    "    \"\"\"\n",
    "    Renames the columns of the given DataFrame.\n",
    "\n",
    "    Args:\n",
    "        df (pandas.DataFrame): The DataFrame to be renamed.\n",
    "\n",
    "    Returns:\n",
    "        pandas.DataFrame: The renamed DataFrame.\n",
    "    \"\"\"\n",
    "    df = df.copy()\n",
    "    df = df.rename(\n",
    "        {\n",
    "            \"tags\": \"steamspy_tags\",\n",
    "            \"positive\": \"positive_ratings\",\n",
    "            \"negative\": \"negative_ratings\",\n",
    "            \"owners\": \"owners_in_millions\",\n",
    "        },\n",
    "        axis=1,\n",
    "    )\n",
    "\n",
    "    return df\n",
    "\n",
    "\n",
    "clean_steamspy_data = rename(tag_lang_df)"
   ]
  },
  {
   "cell_type": "markdown",
   "metadata": {},
   "source": [
    "Memory usage analysis of raw data and clean data."
   ]
  },
  {
   "cell_type": "code",
   "execution_count": 13,
   "metadata": {},
   "outputs": [
    {
     "name": "stdout",
     "output_type": "stream",
     "text": [
      "<class 'pandas.core.frame.DataFrame'>\n",
      "RangeIndex: 74273 entries, 0 to 74272\n",
      "Columns: 20 entries, appid to tags\n",
      "dtypes: float64(3), int64(8), object(9)\n",
      "memory usage: 63.1 MB\n"
     ]
    }
   ],
   "source": [
    "raw_steamspy_data.info(verbose=False, memory_usage=\"deep\")"
   ]
  },
  {
   "cell_type": "code",
   "execution_count": 18,
   "metadata": {},
   "outputs": [
    {
     "name": "stdout",
     "output_type": "stream",
     "text": [
      "<class 'pandas.core.frame.DataFrame'>\n",
      "Index: 73925 entries, 0 to 74272\n",
      "Columns: 7 entries, appid to steamspy_tags\n",
      "dtypes: int64(3), object(4)\n",
      "memory usage: 37.6 MB\n"
     ]
    }
   ],
   "source": [
    "clean_steamspy_data.info(verbose=False, memory_usage=\"deep\")"
   ]
  }
 ],
 "metadata": {
  "kernelspec": {
   "display_name": "game",
   "language": "python",
   "name": "python3"
  },
  "language_info": {
   "codemirror_mode": {
    "name": "ipython",
    "version": 3
   },
   "file_extension": ".py",
   "mimetype": "text/x-python",
   "name": "python",
   "nbconvert_exporter": "python",
   "pygments_lexer": "ipython3",
   "version": "3.12.4"
  }
 },
 "nbformat": 4,
 "nbformat_minor": 2
}
